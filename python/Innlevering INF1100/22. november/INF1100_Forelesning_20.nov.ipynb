{
 "cells": [
  {
   "cell_type": "code",
   "execution_count": null,
   "metadata": {
    "collapsed": true
   },
   "outputs": [],
   "source": [
    "\"\"\" Forelesning fredag 20. november \"\"\""
   ]
  },
  {
   "cell_type": "code",
   "execution_count": null,
   "metadata": {
    "collapsed": true
   },
   "outputs": [],
   "source": []
  },
  {
   "cell_type": "code",
   "execution_count": null,
   "metadata": {
    "collapsed": true
   },
   "outputs": [],
   "source": []
  },
  {
   "cell_type": "code",
   "execution_count": 1,
   "metadata": {
    "collapsed": false
   },
   "outputs": [
    {
     "ename": "NameError",
     "evalue": "global name 'cos' is not defined",
     "output_type": "error",
     "traceback": [
      "\u001b[1;31m---------------------------------------------------------------------------\u001b[0m",
      "\u001b[1;31mNameError\u001b[0m                                 Traceback (most recent call last)",
      "\u001b[1;32m<ipython-input-1-3a3c7be099c4>\u001b[0m in \u001b[0;36m<module>\u001b[1;34m()\u001b[0m\n\u001b[0;32m     20\u001b[0m         \u001b[1;32mreturn\u001b[0m \u001b[1;34m'Polar: (%g, %g), Cartesian: (%g,%g)'\u001b[0m \u001b[1;33m%\u001b[0m \u001b[1;33m(\u001b[0m\u001b[0mr\u001b[0m\u001b[1;33m,\u001b[0m \u001b[0mtheta\u001b[0m\u001b[1;33m,\u001b[0m \u001b[0mx\u001b[0m\u001b[1;33m,\u001b[0m \u001b[0my\u001b[0m\u001b[1;33m)\u001b[0m\u001b[1;33m\u001b[0m\u001b[0m\n\u001b[0;32m     21\u001b[0m \u001b[0morigo1\u001b[0m \u001b[1;33m=\u001b[0m \u001b[0mPoint\u001b[0m\u001b[1;33m(\u001b[0m\u001b[1;36m0\u001b[0m\u001b[1;33m,\u001b[0m\u001b[1;36m0\u001b[0m\u001b[1;33m)\u001b[0m\u001b[1;33m\u001b[0m\u001b[0m\n\u001b[1;32m---> 22\u001b[1;33m \u001b[0morigo2\u001b[0m \u001b[1;33m=\u001b[0m \u001b[0mPolarPoint\u001b[0m\u001b[1;33m(\u001b[0m\u001b[1;36m0\u001b[0m\u001b[1;33m,\u001b[0m\u001b[1;36m1\u001b[0m\u001b[1;33m)\u001b[0m\u001b[1;33m\u001b[0m\u001b[0m\n\u001b[0m\u001b[0;32m     23\u001b[0m \u001b[1;33m\u001b[0m\u001b[0m\n\u001b[0;32m     24\u001b[0m \u001b[1;32mprint\u001b[0m \u001b[0morigo1\u001b[0m\u001b[1;33m\u001b[0m\u001b[0m\n",
      "\u001b[1;32m<ipython-input-1-3a3c7be099c4>\u001b[0m in \u001b[0;36m__init__\u001b[1;34m(self, r, theta)\u001b[0m\n\u001b[0;32m     12\u001b[0m         \u001b[0mself\u001b[0m\u001b[1;33m.\u001b[0m\u001b[0mr\u001b[0m \u001b[1;33m=\u001b[0m \u001b[0mr\u001b[0m\u001b[1;33m\u001b[0m\u001b[0m\n\u001b[0;32m     13\u001b[0m         \u001b[0mself\u001b[0m\u001b[1;33m.\u001b[0m\u001b[0mtheta\u001b[0m \u001b[1;33m=\u001b[0m \u001b[0mtheta\u001b[0m\u001b[1;33m\u001b[0m\u001b[0m\n\u001b[1;32m---> 14\u001b[1;33m         \u001b[0mx\u001b[0m \u001b[1;33m=\u001b[0m \u001b[0mr\u001b[0m\u001b[1;33m*\u001b[0m\u001b[0mcos\u001b[0m\u001b[1;33m(\u001b[0m\u001b[0mtheta\u001b[0m\u001b[1;33m)\u001b[0m\u001b[1;33m\u001b[0m\u001b[0m\n\u001b[0m\u001b[0;32m     15\u001b[0m         \u001b[0my\u001b[0m \u001b[1;33m=\u001b[0m \u001b[0mr\u001b[0m\u001b[1;33m*\u001b[0m\u001b[0msin\u001b[0m\u001b[1;33m(\u001b[0m\u001b[0mtheta\u001b[0m\u001b[1;33m)\u001b[0m\u001b[1;33m\u001b[0m\u001b[0m\n\u001b[0;32m     16\u001b[0m         \u001b[0mPoint\u001b[0m\u001b[1;33m.\u001b[0m\u001b[0m__init__\u001b[0m\u001b[1;33m(\u001b[0m\u001b[0mself\u001b[0m\u001b[1;33m,\u001b[0m\u001b[0mx\u001b[0m\u001b[1;33m,\u001b[0m\u001b[0my\u001b[0m\u001b[1;33m)\u001b[0m\u001b[1;33m\u001b[0m\u001b[0m\n",
      "\u001b[1;31mNameError\u001b[0m: global name 'cos' is not defined"
     ]
    }
   ],
   "source": [
    "import math\n",
    "\n",
    "class Point:\n",
    "    def __init__(self, x, y):\n",
    "        self.x, self.y = x, y\n",
    "    \n",
    "    def __str__(self):\n",
    "        return '(%g, %g)' % (self.x, self.y)\n",
    "    \n",
    "class PolarPoint(Point):\n",
    "    def __init__(self, r, theta):\n",
    "        self.r = r\n",
    "        self.theta = theta\n",
    "        x = r*cos(theta)\n",
    "        y = r*sin(theta)\n",
    "        Point.__init__(self,x,y)\n",
    "    \n",
    "    def __str__(self):\n",
    "        r, theta, x, y = self.r, self.theta, self.x, self.y\n",
    "        return 'Polar: (%g, %g), Cartesian: (%g,%g)' % (r, theta, x, y)\n",
    "origo1 = Point(0,0)\n",
    "origo2 = PolarPoint(0,1)\n",
    "\n",
    "print origo1\n",
    "print origo2"
   ]
  },
  {
   "cell_type": "code",
   "execution_count": null,
   "metadata": {
    "collapsed": true
   },
   "outputs": [],
   "source": [
    "\"\"\"From slides, starting on page 15\n",
    "\n",
    "Differensiallikninger ( fra differenslikninger til differensiallikninger)\n",
    "ser på grenseverdien når delta t går mot null\n",
    "omskrivningene ser veldig lik ut som definisjonen av den deriverte,\n",
    "typo slide 16: siste likning er R'(t) = vI(t)\n",
    "Kan ikke løse dette direkte for generelle valg av variablene analytisk, derfor ser vi på den numeriske løsningen.\n",
    "\n",
    "Trenger bare å spesifisere høyresidefunksjonen og initialbetingelsene, bruker ODE løsningen som vi har.\n",
    "\n",
    "Velger tidssteg så lavt at vi ikke ser en endring i resultatene ved små endringer i delta t.\n",
    "\n",
    "my: feks en uke ved influensa. Dersom vi vet noe om sykdommen, lettere å estimere my,\n",
    "\n",
    "Betha: vanskeligere å estimere. inneholder mye info.\n",
    "sannshet for at en frisk møter en syk og blir smittet. generelt vanskelig å estimere.\n",
    "Sannshet for at noen smitter, men hva inneholder dette av biologisk informasjon? vanskelig å vite.\n",
    "\n",
    "hvor sensitiv er løsningen for valg av betha?\n",
    "parameterestimering for å tilpasse betha til gitte data? feks ved historiske data for influensa, finner betha som  passer bra.\n",
    "Bruker least squares metode for å finne betha som passer best til data vi har.\n",
    "\n",
    "Naturlige utvidelser av modellen:\n",
    "\n",
    "1) No life long immunity\n",
    "utvidelsen består i de røde leddene på slide 19. Ny parameter gamma: hvor raskt kan folk smittes igjen?\n",
    "1/gamma: hvor lenge folk er immune før de kan bli smittet igjen?\n",
    "Triviell utvidelse av programmet.\n",
    "Noe annen dynamikk i modellen. \n",
    "\n",
    "2) Effect of vaccination?\n",
    "folk i s gruppen som vaksineres går over i gruppe v, kan ikke gå over i i gruppen av syke personer.\n",
    "Legger til en ekstra kategori V.\n",
    "Ny kategori --> ny likning. (analoge ledd med tidligere)\n",
    "p: hvor raskt vaksineres folk? Hvor raskt flyttes folk over fra s til v.\n",
    "(typo i slide 21).\n",
    "Kan ta høyde for at vaksinering ikke gjør deg immun for resten av livet.\n",
    "\n",
    "3) Intensive vaccination campaign? \n",
    "0 til vanlig, men nå får vi en stykkevis konstantfunksjon\n",
    "Ikke noe problem å håndtere dette med en if -test med ulike verdier for p. Selv om kurvene matematisk ikke ser \"bra\" ut.\n",
    "\n",
    "4) bruk av masker som kan redusere betha\n",
    "\n",
    "Siste del: Utvidelse av modellen til en underholdningsdel:Zombie\n",
    "Likner på tradisjonelle sykdomsspredningsmodeller\n",
    "Langtangen et al har motbevist at zombiene tar knekken på menneskeheten. \n",
    "\n",
    "SIR(Z)-modell\n",
    "\n",
    "Se slides. \n",
    "Modellerer de tre ulike fasene i zombie-filmene.  Se eksempel fra slide 30\n",
    "alpha: sannshet for at et menneske møter en zombie og dreper zombien, denne er en verdi større enn null i fase tre.\n",
    "Varierer altså over tid. \n",
    "\n",
    "Det som står på slide 31: w(t) skal implementeres og testes i neste ukes prosjekt. \n",
    "Oppgave: Differensiallikningene. \n",
    "\n",
    "Kan se på den fungerende koden for differenslikningen, kan teste om du gjør det riktig ved å teste om man får det samme.\n",
    "\n",
    "Last ned \n",
    "\"\"\"\n"
   ]
  },
  {
   "cell_type": "code",
   "execution_count": null,
   "metadata": {
    "collapsed": true
   },
   "outputs": [],
   "source": [
    "\"\"\"Gjennomgang av Eksamen høst 2014\"\"\"\n",
    "# For løkker viktigst fra kap 2 + range \n",
    "# kap 3:def func, argumenter og returverdi (f), definere og kalle funksjoner (skjer ikke noe før den kalles)\n",
    "# Kap 4: "
   ]
  },
  {
   "cell_type": "code",
   "execution_count": 2,
   "metadata": {
    "collapsed": false
   },
   "outputs": [
    {
     "name": "stdout",
     "output_type": "stream",
     "text": [
      "2\n"
     ]
    }
   ],
   "source": [
    "s = -2\n",
    "# for element in list\n",
    "# range(n) --> [0, 1, 2, 3, ..., n-1]\n",
    "# range(start, stop, steglengde) --> [start, start + steglengde, ... , stop - 1]\n",
    "for k in range(2, 5, 2): # range: start stop step. dette blir [2, 4] # for k in [2, 4]. Her eneste som betyr noe er lengden, lengde 2.\n",
    "# for løkke og range \n",
    "    s += 2 # for hver gang vi kjører gjennom addes 2 til s. første gang blir s = 0, ikke i lista. neste gang: s = 2, er i lista.\n",
    "print s\n",
    "\"\"\"I Monte Carlo\n",
    "for i in range(n):\n",
    "# bruker ikke i, men er måten man setter opp en for-løkke i python\n",
    "\"\"\""
   ]
  },
  {
   "cell_type": "code",
   "execution_count": null,
   "metadata": {
    "collapsed": true
   },
   "outputs": [],
   "source": [
    "\"\"\"\n",
    "mydata.txt\n",
    "\n",
    "1.0 2.3 4.5\n",
    "2.0 2.7 -2.0\n",
    "3.0 2.9 4.8\n",
    "4.0 3.2 -8.5\n",
    "5.0 4.3 4.5\n",
    "\"\"\"\n",
    "infile = open('mydata.txt', 'r') # åpner for lesing. w = åpen for skriving\n",
    "infile.readline() # leser og hopper over første linja. leser den første som en tekst(streng)\n",
    "infile.readline() # dersom line = infile.readline() lagres i variablen line( tar vare på resultatet)\n",
    "for line in infile: # behandler det som om det er en liste\n",
    "    a, b, c = [float(w) for w in line.split()]\n",
    "    print ’a=%.2f b=%.2f c=%.2f’ % (a, b, c) #.2f tar med to desimaler\n",
    "\n",
    "    \"\"\" Første iterasjon:\n",
    "    line = \"3.0 2.9 4.8\"\n",
    "    # list comprehension: les linja bakfra. line.split() : lager en liste av elementer --> ['3.0', '2.9', '4.8']. Lager alltid en liste! \n",
    "     er fortsatt en liste av tekst strenger. \n",
    "     for w in line.split ( for element in list)\n",
    "     float(w):konverterer tekst til flyttall. \n",
    "     [ ... ] --> [3.0, 2.9, 4.8] returnerer en liste av flyttall. for å kunne utføre beregninger må vi alltid gjøre om tekst til flyttall. \n",
    "     \n",
    "    \"\"\""
   ]
  },
  {
   "cell_type": "code",
   "execution_count": 3,
   "metadata": {
    "collapsed": false
   },
   "outputs": [
    {
     "name": "stdout",
     "output_type": "stream",
     "text": [
      "24\n"
     ]
    }
   ],
   "source": [
    "def myfunc(a, b):\n",
    "    s = 0\n",
    "    for k in a:\n",
    "        s += a[k]*b**k\n",
    "    return s\n",
    "print myfunc({1:-1, 3:1}, 3)\n"
   ]
  }
 ],
 "metadata": {
  "kernelspec": {
   "display_name": "Python 2",
   "language": "python",
   "name": "python2"
  },
  "language_info": {
   "codemirror_mode": {
    "name": "ipython",
    "version": 2
   },
   "file_extension": ".py",
   "mimetype": "text/x-python",
   "name": "python",
   "nbconvert_exporter": "python",
   "pygments_lexer": "ipython2",
   "version": "2.7.10"
  }
 },
 "nbformat": 4,
 "nbformat_minor": 0
}
