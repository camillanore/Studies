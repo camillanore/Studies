{
 "cells": [
  {
   "cell_type": "code",
   "execution_count": 1,
   "metadata": {
    "collapsed": false
   },
   "outputs": [
    {
     "data": {
      "text/plain": [
       "'\\nImplement the numerical method (E.47)-(E.48) in a subclass in the\\nODESolver hierarchy. The code should reside in a separate file where the\\nODESolver class is imported. One can either fix N or introduce an \\xef\\xbf\\xbd and\\niterate until the change in |vq \\xe2\\x88\\x92vq\\xe2\\x88\\x921| is less than \\xef\\xbf\\xbd. Allow the constructor\\nto take both N and \\xef\\xbf\\xbd as arguments. Compute a new vq as long as q \\xe2\\x89\\xa4 N\\nand |vq \\xe2\\x88\\x92 vq\\xe2\\x88\\x921| > \\xef\\xbf\\xbd. Let N = 20 and \\xef\\xbf\\xbd = 10\\xe2\\x88\\x926 by default. Store N as an\\nattribute such that the user\\xe2\\x80\\x99s code can access what N was in the last\\ncomputation. Also write a test function for verifying the implementation.\\nFilename: MidpointIter.py.\\nChanges: two different choices of choosing N. Either iterating, or fixed N. '"
      ]
     },
     "execution_count": 1,
     "metadata": {},
     "output_type": "execute_result"
    }
   ],
   "source": [
    "\"\"\"\n",
    "Implement the numerical method (E.47)-(E.48) in a subclass in the\n",
    "ODESolver hierarchy. The code should reside in a separate file where the\n",
    "ODESolver class is imported. One can either fix N or introduce an � and\n",
    "iterate until the change in |vq −vq−1| is less than �. Allow the constructor\n",
    "to take both N and � as arguments. Compute a new vq as long as q ≤ N\n",
    "and |vq − vq−1| > �. Let N = 20 and � = 10−6 by default. Store N as an\n",
    "attribute such that the user’s code can access what N was in the last\n",
    "computation. Also write a test function for verifying the implementation.\n",
    "Filename: MidpointIter.py.\n",
    "Changes: two different choices of choosing N. Either iterating, or fixed N. \"\"\""
   ]
  },
  {
   "cell_type": "code",
   "execution_count": null,
   "metadata": {
    "collapsed": true
   },
   "outputs": [],
   "source": [
    "Modelling the Spreading of Diseases\n",
    "\n",
    "\"\"\"\n",
    "Ser på et ordinært lineært difflikn.system.\n",
    "(sammenlikne med løsningen på neste ukes oblig)\n",
    "SIR - modell\n",
    "Ser på hver del andel av befolkningen. Går bare en vei i modellen. \n",
    "Prøver å programmere noen enkle løsninger av dette.\n",
    "Kjernen i antakelsem delta t * betha møter og smitter en person. \n",
    "På slide 6 skal det ikke stå R, det skal stå I i siste ledd\n",
    " + delta t *my *I(t)\n",
    " Feilen går igjen over flere foiler. \n",
    " setter opp en vanlig for-løkke.\n",
    " Brukes for å forutse antall smittede på et gitt tidspunkt. \n",
    "\n",
    "Omvei som fører til en mer generell løsning av problemet. Last ned github repoet\n",
    "for å kunne løse dette.\n",
    "Sjekk ODE med forlengs Euler, og løsningen skal kunne være identiske. \n",
    "Sjekk hva du har fått med å kjøre denne koden.\n",
    "\"\"\""
   ]
  },
  {
   "cell_type": "code",
   "execution_count": null,
   "metadata": {
    "collapsed": true
   },
   "outputs": [],
   "source": [
    "8800000002685317"
   ]
  }
 ],
 "metadata": {
  "kernelspec": {
   "display_name": "Python 2",
   "language": "python",
   "name": "python2"
  },
  "language_info": {
   "codemirror_mode": {
    "name": "ipython",
    "version": 2
   },
   "file_extension": ".py",
   "mimetype": "text/x-python",
   "name": "python",
   "nbconvert_exporter": "python",
   "pygments_lexer": "ipython2",
   "version": "2.7.10"
  }
 },
 "nbformat": 4,
 "nbformat_minor": 0
}
