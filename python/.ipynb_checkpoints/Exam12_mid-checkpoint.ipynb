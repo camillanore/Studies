{
 "cells": [
  {
   "cell_type": "code",
   "execution_count": 10,
   "metadata": {
    "collapsed": false
   },
   "outputs": [
    {
     "name": "stdout",
     "output_type": "stream",
     "text": [
      "<type 'function'>\n",
      "<type 'function'>\n",
      "(1, 0)\n",
      "(1.0, 0.0)\n"
     ]
    }
   ],
   "source": [
    "# Oppgave 1f\n",
    "def iterate(f, x, dfdx, tolerance=1.0E-2, max_n=5):\n",
    "    n = 0\n",
    "    # while abs(g(x))= abs(1-x) >tolerance and n<=max_n\n",
    "    # while abs(g(1))= abs(0) >tolerance and n<=max_n --> not true = False\n",
    "    # while abs(g(12.5))= abs(1-12.5) >tolerance and n=0 <=max_n --> True\n",
    "    # while abs(g(1))= abs(1-1) >tolerance and n=1 <=max_n --> not true --> False \n",
    "    while abs(f(x)) > tolerance and n <= max_n:\n",
    "        x = x - f(x)/dfdx(x)\n",
    "        # x = x + g(x)/1 = x + (1-x) = 1 \n",
    "        # x = x + g(x)/1 = 12.5 + (1-12.5) = 1\n",
    "        n += 1\n",
    "    if n > max_n: # n = 0 > 5 --> not true = False\n",
    "        raise ValueError('Iteration did not converge')\n",
    "    else:\n",
    "        return x, f(x) # 1 0 \n",
    "\n",
    "def g(t):\n",
    "    return 1-t\n",
    "    \n",
    "\n",
    "def dgdt(t):\n",
    "    return -1\n",
    "\n",
    "print type(g)\n",
    "print type(dgdt)\n",
    "\n",
    "print iterate(g, 1, dgdt)\n",
    "print iterate(g, 12.5, dgdt) #g unknown, dgdt = -1"
   ]
  },
  {
   "cell_type": "code",
   "execution_count": 17,
   "metadata": {
    "collapsed": false
   },
   "outputs": [
    {
     "name": "stdout",
     "output_type": "stream",
     "text": [
      "[1, 3]\n",
      "4\n",
      "[[1, 3], [2, 4], [0, -2]]\n",
      "4\n",
      "-2\n"
     ]
    }
   ],
   "source": [
    "\"\"\"\n",
    "First iterate will produce:\n",
    "1 0 \n",
    "Second will give output:\n",
    "1 0 \n",
    "\n",
    "x_ [2, 3, 4]\n",
    "y_ [2, 3, 4]\n",
    "\n",
    "x_  y_  x!=y  and x>y+1\n",
    "2   2   false\n",
    "2   3     true  false\n",
    "2   4     true    false\n",
    "3   2      true   false\n",
    "3   3     false\n",
    "3   4      true    false\n",
    "4   2       true    true\n",
    "4   3     true     false\n",
    "4   4     false\n",
    "\n",
    "output: 4 2\n",
    "\"\"\"\n",
    "import numpy as np\n",
    "A = [[0, 0], [0, -1], [1, 3], [2, 4], [0, -2]]\n",
    "print A[2]\n",
    "print (A[3])[1]\n",
    "print A[2:]\n",
    "B = A[3]\n",
    "print B[1]\n",
    "print A[4][-1]"
   ]
  },
  {
   "cell_type": "code",
   "execution_count": 29,
   "metadata": {
    "collapsed": false
   },
   "outputs": [
    {
     "name": "stdout",
     "output_type": "stream",
     "text": [
      "Could not convert  to float hei\n",
      "<type 'list'>\n",
      "[1, 4, 8, 3, 'hei']\n",
      "[1, 4, 2, 3, 'hei']\n"
     ]
    }
   ],
   "source": [
    "numbers = (1, 4, 8, 3, 'hei') # tuples are constant\n",
    "numbers2 = [1, 4, 8, 3, 'hei']\n",
    "k = numbers[1]\n",
    "try:\n",
    "    element = float(numbers[k])\n",
    "    print 'element=%f' % element\n",
    "except IndexError:\n",
    "    print 'Index %d > %d' % (k, len(numbers))\n",
    "except ValueError:\n",
    "    print 'Could not convert  to float' , (numbers[k])\n",
    "print type(numbers2)\n",
    "print numbers2\n",
    "numbers2[2] = 2\n",
    "print numbers2"
   ]
  },
  {
   "cell_type": "code",
   "execution_count": 41,
   "metadata": {
    "collapsed": false
   },
   "outputs": [
    {
     "name": "stdout",
     "output_type": "stream",
     "text": [
      "0.9144\n"
     ]
    }
   ],
   "source": [
    "# Exercise 2\n",
    "#from feet/second to meter/s\n",
    "inch_in_meter = 2.54/100 # in order to get meters\n",
    "foot_in_meter = 12 * inch_in_meter # meter/feet\n",
    "def fts2ms(v):\n",
    "    # ft/s * m/ft --> m/s\n",
    "    return v*foot_in_meter\n",
    "print fts2ms(3)"
   ]
  },
  {
   "cell_type": "code",
   "execution_count": 49,
   "metadata": {
    "collapsed": false
   },
   "outputs": [
    {
     "name": "stdout",
     "output_type": "stream",
     "text": [
      "9.25\n"
     ]
    }
   ],
   "source": [
    "#Ex3\n",
    "#write a fn area that returns the area f a triangle\n",
    "# \n",
    "\n",
    "vertices = [[0,0],[1,0],[0,2]]\n",
    "quadrilateral = [[0,0], [2,4], [4,3], [3.5,0.5]]\n",
    "triang1 = [[0,0], [4,3],[2,4]]\n",
    "triang2 = [[0,0], [3.5,0.5], [4,3]]\n",
    "def area(v):\n",
    "    x1 = v[0][0]\n",
    "    x2 = v[1][0]\n",
    "    x3 = v[2][0]\n",
    "    y1 = v[0][1]\n",
    "    y2 = v[1][1]\n",
    "    y3 = v[2][1]\n",
    "    return 0.5 * (x2*y3 - x3*y2 - x1*y3 + x3*y1 + x1*y2 -x2*y1)\n",
    "area_quadrilateral = area(triang1) + area(triang2)\n",
    "#print area(triang1) , area(triang2)\n",
    "print area_quadrilateral"
   ]
  },
  {
   "cell_type": "code",
   "execution_count": 83,
   "metadata": {
    "collapsed": false
   },
   "outputs": [
    {
     "name": "stdout",
     "output_type": "stream",
     "text": [
      "[  3.00000000e+00  -4.50000000e+00   2.02500000e+00  -4.33928571e-01\n",
      "   5.42410714e-02  -4.43790584e-03   2.56033029e-04  -1.09728441e-05\n",
      "   3.63072048e-07  -9.55452758e-09   2.04739877e-10]\n"
     ]
    },
    {
     "data": {
      "image/png": "[encoded data removed]",
      "text/plain": [
       "<matplotlib.figure.Figure at 0xa914c88>"
      ]
     },
     "metadata": {},
     "output_type": "display_data"
    }
   ],
   "source": [
    "#Ex4\n",
    "\n",
    "#DO THIS ALL OVER AGAIN\n",
    "\n",
    "#make a fn terms\n",
    "import math\n",
    "import matplotlib.pyplot as plt\n",
    "%matplotlib inline\n",
    "def terms(ti,x_0, N):\n",
    "    i = 0\n",
    "    t_list = []\n",
    "    # for elements in array\n",
    "    for i in range(0,N+1):\n",
    "        t = ti(i,x_0)\n",
    "        t_list.append(t)\n",
    "    return np.array(t_list)\n",
    "\n",
    "def ti_sin (i, x_0):\n",
    "    return (-1)**i*((x_0**(2*i+1))/math.factorial(2*i+1))\n",
    "\n",
    "def visualize(t):\n",
    "    for i in range(0,len(t)):\n",
    "        plt.plot(i, math.log(abs(t[i])),'ro',)\n",
    "    plt.xlabel('i')\n",
    "    plt.ylabel('log')\n",
    "    plt.show()\n",
    "    #plot the log(abs(t[i]) \n",
    "    \n",
    "t = terms(ti_sin,3.0,10)\n",
    "print t\n",
    "visualize(t)"
   ]
  },
  {
   "cell_type": "code",
   "execution_count": 22,
   "metadata": {
    "collapsed": false
   },
   "outputs": [
    {
     "name": "stdout",
     "output_type": "stream",
     "text": [
      "0 1.5 0.135335283237 -0.270670566473\n",
      "1 2.0 0.0497870683679 -0.0995741367357\n",
      "2 2.5 0.0183156388887 -0.0366312777775\n",
      "3 3.0 0.00673794699909 -0.0134758939982\n",
      "4 3.5 0.00247875217667 -0.00495750435333\n",
      "5 4.0 0.000911881965555 -0.00182376393111\n",
      "6 4.5 0.000335462627903 -0.000670925255805\n",
      "7 5.0 0.000123409804087 -0.000246819608173\n",
      "8 5.5 4.53999297625e-05 -9.0799859525e-05\n",
      "9 6.0 1.67017007902e-05 -3.34034015805e-05\n",
      "10 6.5 6.14421235333e-06 -1.22884247067e-05\n",
      "11 7.0 2.26032940698e-06 -4.52065881396e-06\n",
      "12 7.5 8.31528719104e-07 -1.66305743821e-06\n",
      "13 8.0 3.05902320502e-07 -6.11804641004e-07\n",
      "14 8.5 1.12535174719e-07 -2.25070349439e-07\n",
      "15 9.0 4.13993771879e-08 -8.27987543757e-08\n",
      "16 9.5 1.52299797447e-08 -3.04599594894e-08\n",
      "17 10.0 5.60279643754e-09 -1.12055928751e-08\n",
      "18 10.5 2.06115362244e-09 -4.12230724488e-09\n",
      "19 11.0 7.58256042791e-10 -1.51651208558e-09\n",
      "20 11.5 2.78946809287e-10 -5.57893618574e-10\n",
      "21 12.0 1.02618796317e-10 -2.05237592634e-10\n",
      "22 12.5 3.77513454428e-11 -7.55026908856e-11\n",
      "We have found an approximate solution:\n",
      "12.5\n",
      "(1.3887943864964021e-11, -2.7775887729928042e-11)\n",
      "<function gfunc at 0x00000000040340B8>\n"
     ]
    }
   ],
   "source": [
    "# Exercise 5\n",
    "import math \n",
    "def gfunc(t):\n",
    "    a = 2\n",
    "    g = math.exp(-a*t)\n",
    "    dgdt = -a*math.exp(-a*t)\n",
    "    return g, dgdt\n",
    "\n",
    "def newton(gfunc_ref, x_0, tol=1e-12, max_n=10):\n",
    "    x_n = x_0\n",
    "    for n in range(max_n):\n",
    "        g_n ,dgdx = gfunc_ref(x_n)  # = gfunc(x_n)\n",
    "        x_n = x_n - g_n/dgdx\n",
    "        convcrit = abs(g_n) <= tol\n",
    "        print n, x_n, g_n, dgdx\n",
    "        if convcrit:\n",
    "            print 'We have found an approximate solution:'\n",
    "            return x_n\n",
    "    if abs(g_n) >= tol:\n",
    "        raise ValueError('convergence not met')\n",
    "    \n",
    "x_solution = newton(gfunc, 1, 1e-10,100)\n",
    "print x_solution\n",
    "print gfunc(x_solution)\n",
    "print gfunc"
   ]
  },
  {
   "cell_type": "code",
   "execution_count": 23,
   "metadata": {
    "collapsed": false
   },
   "outputs": [
    {
     "data": {
      "text/plain": [
       "'\\nNew things I need to learn:\\n1) raise error\\n2) funksjonsreferanse\\n'"
      ]
     },
     "execution_count": 23,
     "metadata": {},
     "output_type": "execute_result"
    }
   ],
   "source": [
    "\"\"\"\n",
    "New things I need to learn:\n",
    "1) raise error\n",
    "2) funksjonsreferanse\n",
    "\"\"\""
   ]
  },
  {
   "cell_type": "code",
   "execution_count": 24,
   "metadata": {
    "collapsed": true
   },
   "outputs": [],
   "source": [
    "def ti_sin (i, x_0):\n",
    "    return (-1)**i*((x_0**(2*i+1))/math.factorial(2*i+1))"
   ]
  },
  {
   "cell_type": "code",
   "execution_count": 37,
   "metadata": {
    "collapsed": false
   },
   "outputs": [
    {
     "name": "stdout",
     "output_type": "stream",
     "text": [
      "Expected real root\n",
      "Cant convert\n",
      "Out of range\n",
      "Those two functions are exactly the same!\n",
      "As expected, -1 is not positive\n"
     ]
    }
   ],
   "source": [
    "# Comparing Assert and raise Error\n",
    "\n",
    "def demo_function(positive_number):\n",
    "    assert positive_number >= 0, 'Number not positive'\n",
    "\n",
    "def demo_function2(positive_number):\n",
    "    if positive_number < 0:       # showing steps in assert\n",
    "        raise AssertionError('Number not positive')\n",
    "\n",
    "# Catching errors\n",
    "# 1) when arv is too short -> IndexError\n",
    "# 2) when we cant convert to float -> ValueError\n",
    "\n",
    "try:\n",
    "    root = 1 +1j\n",
    "    assert not isinstance(root, complex), 'Expected real root'\n",
    "except AssertionError, e:\n",
    "    print e\n",
    "    \n",
    "try:\n",
    "    f = float('hei')\n",
    "except ValueError:\n",
    "    print 'Cant convert'\n",
    "    \n",
    "try:\n",
    "    a = [1,2,3]\n",
    "    b = a[3]\n",
    "except IndexError:\n",
    "    print 'Out of range'\n",
    "\n",
    "print 'Those two functions are exactly the same!'\n",
    "try:\n",
    "    demo_function2(-1)\n",
    "except AssertionError:\n",
    "    print 'As expected, -1 is not positive'"
   ]
  },
  {
   "cell_type": "code",
   "execution_count": 38,
   "metadata": {
    "collapsed": false
   },
   "outputs": [
    {
     "name": "stdout",
     "output_type": "stream",
     "text": [
      "[0, 1, 2, 3, 4, 5, 6, 7, 8, 9]\n",
      "[0, 1, 2, 3, 4, 5, 6, 7, 8, 9]\n",
      "[25, 36, 49, 64, 81]\n",
      "[25, 36, 49, 64, 81]\n"
     ]
    }
   ],
   "source": [
    "# List comprehension\n",
    "\n",
    "a = []\n",
    "for i in range(10):\n",
    "    a.append(i)\n",
    "print a\n",
    "\n",
    "#Huskeregel: for element in list\n",
    "\n",
    "# Make a list 'b' that is like a\n",
    "# Remember [(What is appended?)  (the for-definition)] \n",
    "# eg. [(could be a formula f(n))  (for n in range()/linspace())] \n",
    "\n",
    "b = [i for i in range(10)]\n",
    "print b\n",
    "\n",
    "c = []\n",
    "for n in range(5,10):\n",
    "    c.append(n**2)\n",
    "print c\n",
    "\n",
    "d = [n**2 for n in range(5,10)]\n",
    "print d"
   ]
  },
  {
   "cell_type": "code",
   "execution_count": 8,
   "metadata": {
    "collapsed": false
   },
   "outputs": [
    {
     "data": {
      "image/png": "[encoded data removed]",
      "text/plain": [
       "<matplotlib.figure.Figure at 0xa362438>"
      ]
     },
     "metadata": {},
     "output_type": "display_data"
    }
   ],
   "source": [
    "import matplotlib.pyplot as plt\n",
    "from time import sleep\n",
    "import numpy as np\n",
    "%matplotlib inline\n",
    "#from os import system\n",
    "\n",
    "plt.ion() #interactive on\n",
    "\n",
    "x = np.linspace(0, 1, 100)\n",
    "\n",
    "for i in range(10): \n",
    "    plt.clf() #clear figure\n",
    "    plt.plot(x, x*i)\n",
    "    plt.axis([0, 1, 0, 10])\n",
    "    plt.draw()\n",
    "    #savefig('anim_%04d.png' % i)\n",
    "    sleep(0.2)\n",
    "#system('covert *.png anim.gif')\n",
    "#system('rm *.png')\n",
    "\n",
    "plt.ioff()\n",
    "plt.show()"
   ]
  },
  {
   "cell_type": "code",
   "execution_count": 9,
   "metadata": {
    "collapsed": false
   },
   "outputs": [
    {
     "data": {
      "image/png": "[encoded data removed]",
      "text/plain": [
       "<matplotlib.figure.Figure at 0xa1173c8>"
      ]
     },
     "metadata": {},
     "output_type": "display_data"
    }
   ],
   "source": [
    "\"\"\"Making animations with matplotlib is slightly more complex\n",
    "than using scitools, since simple plot commands inside a for-loop\n",
    "will not work. Instead, we grab the object returned by the plt.plot\n",
    "command, and then update the y-data and call plt.draw()\n",
    "for each iteration of the for-loop. We also need to call plt.ion() to\n",
    "turn on the interactive mode to make the plots visible.\n",
    "\"\"\"\n",
    "\"\"\"Exercise 5.37: Animate the evolution of Taylor polynomials\n",
    "A general series approximation (to a function) can be written as\n",
    "S(x; M, N) =\n",
    "N\n",
    "k=M\n",
    "fk(x).\n",
    "For example, the Taylor polynomial of degree N for ex equals S(x; 0, N)\n",
    "with fk(x) = xk/k!. The purpose of the exercise is to make a movie of\n",
    "how S(x; M, N) develops and improves as an approximation as we add\n",
    "terms in the sum. That is, the frames in the movie correspond to plots\n",
    "of S(x; M, M), S(x; M, M + 1), S(x; M, M + 2), . . ., S(x; M, N).\n",
    "a) Make a function\n",
    "animate_series(fk, M, N, xmin, xmax, ymin, ymax, n, exact)\n",
    "for creating such animations. The argument fk holds a Python function\n",
    "implementing the term fk(x) in the sum, M and N are the summation\n",
    "limits, the next arguments are the minimum and maximum x and y\n",
    "values in the plot, n is the number of x points in the curves to be plotted,\n",
    "and exact holds the function that S(x) aims at approximating.\n",
    "Hint. Here is some more information on how to write the\n",
    "animate_series function. The function must accumulate the fk(x)\n",
    "terms in a variable s, and for each k value, s is plotted against x together\n",
    "with a curve reflecting the exact function. Each plot must be saved in\n",
    "a file, say with names tmp_0000.png, tmp_0001.png, and so on (these\n",
    "filenames can be generated by tmp_%04d.png, using an appropriate\n",
    "counter). Use the movie function to combine all the plot files into a\n",
    "movie in a desired movie format.\n",
    "In the beginning of the animate_series function, it is necessary to\n",
    "remove all old plot files of the form tmp_*.png. This can be done by the\n",
    "glob module and the os.remove function as exemplified in Section 5.3.4.\n",
    "b) Call the animate_series function for the Taylor series for sin x,\n",
    "where fk(x) = (−1)kx2k+1/(2k + 1)!, and x ∈ [0, 13π], M = 0, N = 40,\n",
    "y ∈ [−2, 2].\n",
    "c) Call the animate_series function for the Taylor series for e−x, where\n",
    "fk(x) = (−x)k/k!, and x ∈ [0, 15], M = 0, N = 30, y ∈ [−0.5, 1.4].\n",
    "Filename: animate_Taylor_series.py.\"\"\"\n",
    "\n",
    "import numpy as np\n",
    "import matplotlib.pyplot as plt\n",
    "import math\n",
    "import time\n",
    "%matplotlib inline\n",
    "\n",
    "def animate_series(fk,M,N,xmin,xmax,ymin,ymax,n,exact):\n",
    "    import glob, os\n",
    "    x = np.linspace(xmin,xmax,n)\n",
    "    s = np.zeros_like(x)\n",
    "    s_ref = exact(x)\n",
    "\n",
    "    old_files = glob.glob('tmp_*.png')\n",
    "    for file in old_files:\n",
    "        os.remove(file)\n",
    "\n",
    "    plt.ion() #turn matplotlib interactive mode on\n",
    "    plt.plot(x,s_ref)\n",
    "    lines = plt.plot(x,s)\n",
    "    plt.axis([xmin,xmax,ymin,ymax])\n",
    "\n",
    "    framenumber = 0\n",
    "    for k in range(M,N+1):\n",
    "        s += fk(x,k)\n",
    "        lines[0].set_ydata(s)\n",
    "        plt.draw()\n",
    "        plt.savefig('tmp_%04d.png' %framenumber)\n",
    "        framenumber += 1\n",
    "        time.sleep(.5) #wait 0.5 seconds per frame\n",
    "\n",
    "def taylor_sin(x,k):\n",
    "    return (-1)**k*x**(2*k+1)/math.factorial(2*k+1)\n",
    "\n",
    "animate_series(taylor_sin,0,40,0,13*math.pi,-2,2,100,np.sin)\n",
    "\n",
    "def taylor_exp_mx(x,k):\n",
    "    return (-x)**k/math.factorial(k)\n",
    "\n",
    "def exp_mx(x):\n",
    "    return exp(-x)\n",
    "\n",
    "#animate_series(taylor_exp_mx,0,30,0,15,-0.5,1.4,100,exp_mx)"
   ]
  },
  {
   "cell_type": "code",
   "execution_count": 6,
   "metadata": {
    "collapsed": false
   },
   "outputs": [
    {
     "ename": "NameError",
     "evalue": "name 'sys' is not defined",
     "output_type": "error",
     "traceback": [
      "\u001b[1;31m---------------------------------------------------------------------------\u001b[0m",
      "\u001b[1;31mNameError\u001b[0m                                 Traceback (most recent call last)",
      "\u001b[1;32m<ipython-input-6-84e59808b0d6>\u001b[0m in \u001b[0;36m<module>\u001b[1;34m()\u001b[0m\n\u001b[0;32m      2\u001b[0m \u001b[1;31m#likner på arrays\u001b[0m\u001b[1;33m\u001b[0m\u001b[1;33m\u001b[0m\u001b[0m\n\u001b[0;32m      3\u001b[0m \u001b[0ml\u001b[0m \u001b[1;33m=\u001b[0m \u001b[1;33m[\u001b[0m\u001b[1;36m4\u001b[0m\u001b[1;33m,\u001b[0m \u001b[1;36m2\u001b[0m\u001b[1;33m,\u001b[0m \u001b[1;36m1\u001b[0m\u001b[1;33m]\u001b[0m\u001b[1;33m\u001b[0m\u001b[0m\n\u001b[1;32m----> 4\u001b[1;33m \u001b[0msys\u001b[0m\u001b[1;33m.\u001b[0m\u001b[0margv\u001b[0m \u001b[1;33m=\u001b[0m \u001b[1;33m[\u001b[0m\u001b[1;36m5\u001b[0m\u001b[1;33m,\u001b[0m \u001b[1;36m3\u001b[0m\u001b[1;33m]\u001b[0m\u001b[1;33m\u001b[0m\u001b[0m\n\u001b[0m\u001b[0;32m      5\u001b[0m d = {\n\u001b[0;32m      6\u001b[0m     \u001b[1;36m0\u001b[0m\u001b[1;33m:\u001b[0m \u001b[1;34m'Par'\u001b[0m\u001b[1;33m,\u001b[0m\u001b[1;33m\u001b[0m\u001b[0m\n",
      "\u001b[1;31mNameError\u001b[0m: name 'sys' is not defined"
     ]
    }
   ],
   "source": [
    "# Dictionaries\n",
    "#likner på arrays\n",
    "l = [4, 2, 1]\n",
    "sys.argv = [5, 3]\n",
    "d = {\n",
    "    0: 'Par',\n",
    "    1: 'Birdie',\n",
    "    2: 'Eagle',\n",
    "    - 1: 'Boogey',\n",
    "    - 2: 'Double Boogey'\n",
    "}\n",
    "\n",
    "# kan være sammenheng mellom hva som helst av to variable\n",
    "\n",
    "goal = int(sys.argv[1])\n",
    "you = int(sys.argv[2])\n",
    "points = goal - you\n",
    "text_points = d[points]\n",
    "\n",
    "print 'You got %s ' % text_points"
   ]
  },
  {
   "cell_type": "code",
   "execution_count": 10,
   "metadata": {
    "collapsed": false
   },
   "outputs": [
    {
     "name": "stdout",
     "output_type": "stream",
     "text": [
      "0 is 1\n",
      "1 is 5\n",
      "2 is 1\n",
      "Yes!\n"
     ]
    }
   ],
   "source": [
    "a = {\n",
    "    0: 1,\n",
    "    1: 2,\n",
    "    2: 1\n",
    "}\n",
    "\"\"\" x**2 + 2*x +1\"\"\"\n",
    "#bruker det ofte til å bygge opp dictionaries, legger til nye verdier i en dictionary\n",
    "a[0]\n",
    "a[1] = 5 #overskriver verdien over\n",
    "for key in a: #for key in dictionary, vil loope over en dictionary\n",
    "    print '%s is %s' %(key, a[key])\n",
    "    \n",
    "# bruke: er 2 i a? sjekk hva variablene dine er\n",
    "    \n",
    "if 2 in a:\n",
    "    print 'Yes!'"
   ]
  },
  {
   "cell_type": "code",
   "execution_count": 26,
   "metadata": {
    "collapsed": false
   },
   "outputs": [
    {
     "name": "stdout",
     "output_type": "stream",
     "text": [
      "[ 4.          2.72727273  2.53846154  2.46808511  2.43243243  2.41121495\n",
      "  2.39726027  2.38743455  2.38016529  2.37458194  2.37016575  2.36658933\n",
      "  2.36363636  2.36115843  2.35905045  2.35723598  2.3556582   2.35427394\n",
      "  2.35304991  2.35195997  2.35098336  2.35010338  2.34930643  2.34858135\n",
      "  2.34791889  2.3473113   2.34675206  2.34623564  2.34575734  2.34531308\n",
      "  2.34489938  2.34451319  2.34415187  2.34381309  2.34349483  2.34319527\n",
      "  2.34291281  2.34264604  2.34239369  2.34215462  2.34192781  2.34171234\n",
      "  2.34150739  2.34131221  2.34112611  2.34094848  2.34077875  2.34061641\n",
      "  2.34046098  2.34031204  2.34016919  2.34003206  2.33990031  2.33977364\n",
      "  2.33965175  2.33953439  2.3394213   2.33931226  2.33920705  2.33910547\n",
      "  2.33900735  2.3389125   2.33882076  2.33873199  2.33864605  2.33856279\n",
      "  2.3384821   2.33840386  2.33832797  2.3382543   2.33818278  2.3381133\n",
      "  2.33804579  2.33798015  2.33791632  2.33785422  2.33779377  2.33773492\n",
      "  2.3376776   2.33762175  2.33756732  2.33751425  2.3374625   2.33741201\n",
      "  2.33736274  2.33731464  2.33726768  2.33722182  2.33717701  2.33713322\n",
      "  2.33709041  2.33704856  2.33700763  2.33696759  2.33692842  2.33689008\n",
      "  2.33685255  2.3368158   2.33677981  2.33674456  2.33671002]\n",
      "2.33333333333\n",
      "2.33671001895\n",
      "None\n",
      "[ 0.84147098  0.95885108  0.98961584  0.99739787  0.99934909  0.99983725\n",
      "  0.99995931  0.99998983  0.99999746  0.99999936  0.99999984  0.99999996\n",
      "  0.99999999  1.          1.          1.          1.          1.          1.\n",
      "  1.          1.          1.          1.          1.          1.          1.\n",
      "  1.          1.          1.          1.          1.          1.          1.\n",
      "  1.          1.          1.          1.          1.          1.          1.\n",
      "  1.          1.          1.          1.          1.          1.          1.\n",
      "  1.          1.          1.          1.          1.          1.          1.\n",
      "  1.          1.          1.          1.          1.          1.          1.\n",
      "  1.          1.          1.          1.          1.          1.          1.\n",
      "  1.          1.          1.          1.          1.          1.          1.\n",
      "  1.          1.          1.          1.          1.          1.          1.\n",
      "  1.          1.          1.          1.          1.          1.          1.\n",
      "  1.          1.          1.          1.          1.          1.          1.\n",
      "  1.          1.          1.          1.          1.          1.        ]\n",
      "1.0\n",
      "Dn  1.0\n"
     ]
    },
    {
     "data": {
      "image/png": "[encoded data removed]",
      "text/plain": [
       "<matplotlib.figure.Figure at 0x3ba1550>"
      ]
     },
     "metadata": {},
     "output_type": "display_data"
    },
    {
     "name": "stdout",
     "output_type": "stream",
     "text": [
      "Dn  0.0\n"
     ]
    },
    {
     "data": {
      "image/png": "[encoded data removed]",
      "text/plain": [
       "<matplotlib.figure.Figure at 0xa464c18>"
      ]
     },
     "metadata": {},
     "output_type": "display_data"
    }
   ],
   "source": [
    "# Exercise A.1 page 628 Determine the limit of a sequence\n",
    "\n",
    "from numpy import *\n",
    "import matplotlib.pyplot as plt\n",
    "%matplotlib inline\n",
    "def sequence(n):\n",
    "    a = zeros(n+1)\n",
    "    \n",
    "    for i in range(n+1):\n",
    "        a[i] = (7.0 + 1.0/(i+1))/(3.0 - 1.0/(i+1)**2)\n",
    "    return a\n",
    "\n",
    "print sequence(100)\n",
    "print 7.0/3\n",
    "\n",
    "#b)\n",
    "def limit(seq):\n",
    "    for i in range(1, len(seq)-1): #husk: lengden av arrayen vi får inn\n",
    "        if abs(seq[i]-seq[i+1]) >= abs(seq[i-1] - seq[i]) and seq[i] != seq[i - 1]: #hvis følgen ikke konvergerer returneres none\n",
    "            return None\n",
    "        return seq[-1]\n",
    "    \n",
    "print limit(sequence(100))\n",
    "print limit(linspace(0, 100, 101)) #gir oss N+1 ? Skal altså ikke konvergere mot noe som helst\n",
    "\n",
    "#c) Beregne og returnere en sinussekvens. Beregner approkimasjoner til den deriverte av sinus. \n",
    "\n",
    "def Dn_sin(N):\n",
    "    n = linspace(0, N+1, N+2)\n",
    "    return (sin(2**(-n))/2**(-n))\n",
    "\n",
    "print Dn_sin(100)\n",
    "print limit(Dn_sin(100))\n",
    "\n",
    "# d)\n",
    "\n",
    "def Dn(f, x, N):\n",
    "    n = linspace(0, N+1, N+2)\n",
    "    h = 2**(-n)\n",
    "    return (f(x+h) - f(x))/h \n",
    "\n",
    "a = Dn(sin, 0, 80)\n",
    "\n",
    "print 'Dn ', limit(a)\n",
    "plt.plot(a, 'o')\n",
    "plt.show()\n",
    "\n",
    "# e) same as above, but use x = pi\n",
    "\n",
    "def Dn(f, x, N):\n",
    "    n = linspace(0, N+1, N+2)\n",
    "    h = 2**(-n)\n",
    "    return (f(x+h) - f(x))/h \n",
    "\n",
    "a = Dn(sin, pi, 80)\n",
    "\n",
    "print 'Dn ', limit(a)\n",
    "plt.plot(a, 'o')\n",
    "plt.show\n",
    "\n",
    "#f) Svar avrundingsfeil. h->0, vil diff gå mot null (teller og nevner går mot null), \n",
    "#ender opp i en situasjon hvor vi kun returnerer null i steden for å dele to små tall på hverandre.\n",
    "#Spm: hvorfor går det ikke galt i første oppgave? skriv ut følgen"
   ]
  }
 ],
 "metadata": {
  "kernelspec": {
   "display_name": "Python 2",
   "language": "python",
   "name": "python2"
  },
  "language_info": {
   "codemirror_mode": {
    "name": "ipython",
    "version": 2
   },
   "file_extension": ".py",
   "mimetype": "text/x-python",
   "name": "python",
   "nbconvert_exporter": "python",
   "pygments_lexer": "ipython2",
   "version": "2.7.10"
  }
 },
 "nbformat": 4,
 "nbformat_minor": 0
}
