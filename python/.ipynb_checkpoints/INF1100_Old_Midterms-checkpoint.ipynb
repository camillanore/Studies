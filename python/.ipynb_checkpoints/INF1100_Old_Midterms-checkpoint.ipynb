{
 "cells": [
  {
   "cell_type": "markdown",
   "metadata": {},
   "source": [
    "#INF 1100 MIDTERM 2014"
   ]
  },
  {
   "cell_type": "code",
   "execution_count": 4,
   "metadata": {
    "collapsed": false
   },
   "outputs": [
    {
     "name": "stdout",
     "output_type": "stream",
     "text": [
      "0.00692527070751\n"
     ]
    }
   ],
   "source": [
    "# Exercise 2\n",
    "\n",
    "import math\n",
    "\n",
    "def K(x, N):\n",
    "    x = float(x) #\n",
    "    s = 0\n",
    "    for k in range(N+1):\n",
    "        s += ((-1)**k)*((x**(2*k+1))/math.factorial(2*k+1))\n",
    "    return s\n",
    "\n",
    "print K(math.pi, 4)"
   ]
  },
  {
   "cell_type": "code",
   "execution_count": 8,
   "metadata": {
    "collapsed": false
   },
   "outputs": [
    {
     "name": "stdout",
     "output_type": "stream",
     "text": [
      "A has length 3\n"
     ]
    }
   ],
   "source": [
    "# Exercise 1\n",
    "# Do not understand what happens when I put in other values than a[3]\n",
    "\n",
    "import sys\n",
    "A = [1, 7, 15]\n",
    "try:\n",
    "    r = float(A[3])\n",
    "except IndexError:\n",
    "    print 'A has length %g' % len(A)\n",
    "except ValueError:\n",
    "    print 'Cannot convert %g to float!' % A[3]\n"
   ]
  },
  {
   "cell_type": "code",
   "execution_count": 9,
   "metadata": {
    "collapsed": false
   },
   "outputs": [
    {
     "name": "stdout",
     "output_type": "stream",
     "text": [
      "[0, 1, 2, 3]\n",
      "[2 4]\n"
     ]
    }
   ],
   "source": [
    "u = [0, 1]\n",
    "v = [2, 3]\n",
    "print u + v\n",
    "from numpy import array\n",
    "u = array(u)\n",
    "v = array(v) # what does the array do? I dont remember\n",
    "print u + v\n"
   ]
  },
  {
   "cell_type": "code",
   "execution_count": 13,
   "metadata": {
    "collapsed": false
   },
   "outputs": [],
   "source": [
    "# Nothing gets printed because the test is not failing, but what do i need to change in order for the test to fail?\n",
    "def plus1(x):\n",
    "    return x + 1\n",
    "def test_plus1():\n",
    "    x = 4.5\n",
    "    exact = 5.5\n",
    "    computed = plus1(x)\n",
    "    tol = 1E-14\n",
    "    success = abs(exact - computed) < tol\n",
    "    msg = 'exact=%g, computed=%g' % (exact, computed)\n",
    "    assert success, msg\n",
    "test_plus1()"
   ]
  },
  {
   "cell_type": "code",
   "execution_count": 15,
   "metadata": {
    "collapsed": false
   },
   "outputs": [],
   "source": [
    "# Nothing gets printed\n",
    "for i in range(-1, 1, 2):\n",
    "    for j in range(3):\n",
    "        if i == j:\n",
    "            print i, j\n"
   ]
  }
 ],
 "metadata": {
  "kernelspec": {
   "display_name": "Python 2",
   "language": "python",
   "name": "python2"
  },
  "language_info": {
   "codemirror_mode": {
    "name": "ipython",
    "version": 2
   },
   "file_extension": ".py",
   "mimetype": "text/x-python",
   "name": "python",
   "nbconvert_exporter": "python",
   "pygments_lexer": "ipython2",
   "version": "2.7.10"
  }
 },
 "nbformat": 4,
 "nbformat_minor": 0
}
