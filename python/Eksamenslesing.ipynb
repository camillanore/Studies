{
 "cells": [
  {
   "cell_type": "code",
   "execution_count": 1,
   "metadata": {
    "collapsed": true
   },
   "outputs": [],
   "source": [
    "\n",
    "import matplotlib.pyplot as plt\n",
    "import numpy as np\n",
    "%matplotlib inline"
   ]
  },
  {
   "cell_type": "code",
   "execution_count": 2,
   "metadata": {
    "collapsed": false
   },
   "outputs": [],
   "source": [
    "# Is this a nested list, or a two-dimensional array?\n",
    "A = [ 1, 2, \n",
    "      3, 4]"
   ]
  },
  {
   "cell_type": "code",
   "execution_count": 3,
   "metadata": {
    "collapsed": false
   },
   "outputs": [
    {
     "name": "stdout",
     "output_type": "stream",
     "text": [
      "Lurespørsmål: [1, 2, 3, 4]\n"
     ]
    }
   ],
   "source": [
    "print \"Lurespørsmål:\", A"
   ]
  },
  {
   "cell_type": "code",
   "execution_count": 4,
   "metadata": {
    "collapsed": false
   },
   "outputs": [
    {
     "name": "stdout",
     "output_type": "stream",
     "text": [
      "This is a nested list [[1, 2, 3, 4], [1, 2, 3, 4], [1, 2, 3, 4]]\n",
      "This is entry two in B [1, 2, 3, 4]\n"
     ]
    }
   ],
   "source": [
    "# Accessing a nested list.\n",
    "B = [ A, A, A]\n",
    "print \"This is a nested list\", B\n",
    "print \"This is entry two in B\", B[2]"
   ]
  },
  {
   "cell_type": "code",
   "execution_count": 5,
   "metadata": {
    "collapsed": false
   },
   "outputs": [
    {
     "ename": "TypeError",
     "evalue": "list indices must be integers, not tuple",
     "output_type": "error",
     "traceback": [
      "\u001b[1;31m---------------------------------------------------------------------------\u001b[0m",
      "\u001b[1;31mTypeError\u001b[0m                                 Traceback (most recent call last)",
      "\u001b[1;32m<ipython-input-5-0ae3cc226d6c>\u001b[0m in \u001b[0;36m<module>\u001b[1;34m()\u001b[0m\n\u001b[0;32m      1\u001b[0m \u001b[1;31m# Is this legal?\u001b[0m\u001b[1;33m\u001b[0m\u001b[1;33m\u001b[0m\u001b[0m\n\u001b[1;32m----> 2\u001b[1;33m \u001b[1;32mprint\u001b[0m \u001b[0mB\u001b[0m\u001b[1;33m[\u001b[0m\u001b[1;36m1\u001b[0m\u001b[1;33m,\u001b[0m\u001b[1;36m1\u001b[0m\u001b[1;33m]\u001b[0m\u001b[1;33m\u001b[0m\u001b[0m\n\u001b[0m",
      "\u001b[1;31mTypeError\u001b[0m: list indices must be integers, not tuple"
     ]
    }
   ],
   "source": [
    "# Is this legal?\n",
    "print B[1,1]"
   ]
  },
  {
   "cell_type": "code",
   "execution_count": 6,
   "metadata": {
    "collapsed": false
   },
   "outputs": [
    {
     "name": "stdout",
     "output_type": "stream",
     "text": [
      "B is a nested list:  [[1, 2, 3, 4], [1, 2, 3, 4], [1, 2, 3, 4]]\n",
      "B_array is a np.ndarray: \n",
      "[[1 2 3 4]\n",
      " [1 2 3 4]\n",
      " [1 2 3 4]]\n",
      "We can use tuple index accessors on B_array[1,1]: 2\n",
      "To do the same with a nested list, we must use double [][], e.g. B[1][1]: 2\n"
     ]
    }
   ],
   "source": [
    "B_array = np.asarray(B)\n",
    "print \"B is a nested list: \", B\n",
    "print \"B_array is a np.ndarray: \\n\", B_array\n",
    "print \"We can use tuple index accessors on B_array[1,1]:\", B_array[1,1]\n",
    "print \"To do the same with a nested list, we must use double [][], e.g. B[1][1]:\", B[1][1]"
   ]
  },
  {
   "cell_type": "code",
   "execution_count": 7,
   "metadata": {
    "collapsed": false
   },
   "outputs": [
    {
     "name": "stdout",
     "output_type": "stream",
     "text": [
      "0\n",
      "0.5\n",
      "1.0\n",
      "1.5\n",
      "2.0\n"
     ]
    }
   ],
   "source": [
    "#While loops\n",
    "# Used to repeat a collection of program statements several times. While runs as long as condition evaluates to True\n",
    "t = 0\n",
    "dt = 0.5\n",
    "T = 2\n",
    "while t <= T:\n",
    "    print t\n",
    "    t += dt"
   ]
  },
  {
   "cell_type": "code",
   "execution_count": 8,
   "metadata": {
    "collapsed": false
   },
   "outputs": [
    {
     "name": "stdout",
     "output_type": "stream",
     "text": [
      "Final t: 2.5 ; <= T is False\n"
     ]
    }
   ],
   "source": [
    "print 'Final t:', t, '; <= T is', t <= T"
   ]
  },
  {
   "cell_type": "code",
   "execution_count": 9,
   "metadata": {
    "collapsed": true
   },
   "outputs": [],
   "source": [
    "#Lists\n",
    "# Used to collect a number of values in  an ordered sequence\n",
    "mylist = [t, dt, 'mynumbers.dat', 100]"
   ]
  },
  {
   "cell_type": "code",
   "execution_count": null,
   "metadata": {
    "collapsed": true
   },
   "outputs": [],
   "source": []
  },
  {
   "cell_type": "code",
   "execution_count": 10,
   "metadata": {
    "collapsed": false
   },
   "outputs": [
    {
     "name": "stdout",
     "output_type": "stream",
     "text": [
      "[1, 4.4, 'run.py']\n"
     ]
    },
    {
     "data": {
      "text/plain": [
       "[3.2, 9, 7]"
      ]
     },
     "execution_count": 10,
     "metadata": {},
     "output_type": "execute_result"
    }
   ],
   "source": [
    "a = [1, 4.4, 'run.py']\n",
    "print sorted(a)\n",
    "a[1:3]\n",
    "#a.remove(1)\n",
    "min(a)\n",
    "max(a)\n",
    "reversed(a)\n",
    "a.insert(1, 4) #insert element 4 before index 1\n",
    "type(a) is list\n",
    "len(a)\n",
    "a[-1] #get last list element\n",
    "a[3]\n",
    "b = [4, 3.2, 9, 7, 12]\n",
    "sum(b)\n",
    "b[1:4] #will copy the data to a sublist, not including index 4"
   ]
  },
  {
   "cell_type": "markdown",
   "metadata": {},
   "source": [
    "# Nested lists\n",
    "# The list elements are also lists. Loop traversal of nested lists ans indexing"
   ]
  },
  {
   "cell_type": "code",
   "execution_count": 11,
   "metadata": {
    "collapsed": false
   },
   "outputs": [
    {
     "name": "stdout",
     "output_type": "stream",
     "text": [
      "-10\n",
      "[0, 0, 1]\n",
      "[-1, -1, 2]\n",
      "[-10, 10, 5]\n",
      "  0   0   1\n",
      " -1  -1   2\n",
      "-10  10   5\n"
     ]
    }
   ],
   "source": [
    "nl = [[0,0,1],[-1, -1, 2], [-10, 10, 5]]\n",
    "nl[0] #index a list element (here element 0)\n",
    "nl[-1] #get last list element\n",
    "nl[0][2] #Nested list indexing (here the trird imput in the first element)\n",
    "print nl[-1][0]\n",
    "for p in nl: # not sure i understand this\n",
    "    print p\n",
    "for a, b, c in nl: #neither this\n",
    "    print '%3d %3d %3d' % (a, b, c)"
   ]
  },
  {
   "cell_type": "code",
   "execution_count": 12,
   "metadata": {
    "collapsed": false
   },
   "outputs": [
    {
     "name": "stdout",
     "output_type": "stream",
     "text": [
      "Easy last column of np array: [4 4 4]\n",
      "Hard: last column of nested list, B[:] is  [[1, 2, 3, 4], [1, 2, 3, 4], [1, 2, 3, 4]]\n",
      "4\n",
      "4\n",
      "4\n"
     ]
    }
   ],
   "source": [
    "# Exercise: Get the last element, of each sub-list?\n",
    "# print B[:][3]\n",
    "print \"Easy last column of np array:\", B_array[:,3]\n",
    "print \"Hard: last column of nested list, B[:] is \", B[:] \n",
    "# Is just the same as B, and you can't do B[:][3]\n",
    "# But you can do it with a for loop:\n",
    "for sub_list in B:\n",
    "    print sub_list[3]\n"
   ]
  },
  {
   "cell_type": "markdown",
   "metadata": {},
   "source": [
    "#Tuples\n",
    "No changes in the tuple is allowed"
   ]
  },
  {
   "cell_type": "code",
   "execution_count": 13,
   "metadata": {
    "collapsed": false
   },
   "outputs": [
    {
     "ename": "SyntaxError",
     "evalue": "invalid syntax (<ipython-input-13-b7d3ba7280b9>, line 1)",
     "output_type": "error",
     "traceback": [
      "\u001b[1;36m  File \u001b[1;32m\"<ipython-input-13-b7d3ba7280b9>\"\u001b[1;36m, line \u001b[1;32m1\u001b[0m\n\u001b[1;33m    print mytuple = (t, dt, T, 'mynumbers.dat', 100)\u001b[0m\n\u001b[1;37m                  ^\u001b[0m\n\u001b[1;31mSyntaxError\u001b[0m\u001b[1;31m:\u001b[0m invalid syntax\n"
     ]
    }
   ],
   "source": [
    "print mytuple = (t, dt, T, 'mynumbers.dat', 100)"
   ]
  },
  {
   "cell_type": "markdown",
   "metadata": {},
   "source": [
    "# For Loops"
   ]
  },
  {
   "cell_type": "code",
   "execution_count": 14,
   "metadata": {
    "collapsed": false
   },
   "outputs": [
    {
     "name": "stdout",
     "output_type": "stream",
     "text": [
      "10 20 25 27 28.5 1 3"
     ]
    },
    {
     "ename": "NameError",
     "evalue": "name 'M' is not defined",
     "output_type": "error",
     "traceback": [
      "\u001b[1;31m---------------------------------------------------------------------------\u001b[0m",
      "\u001b[1;31mNameError\u001b[0m                                 Traceback (most recent call last)",
      "\u001b[1;32m<ipython-input-14-db5bf8bbc6ad>\u001b[0m in \u001b[0;36m<module>\u001b[1;34m()\u001b[0m\n\u001b[0;32m      5\u001b[0m     \u001b[1;32mprint\u001b[0m \u001b[0melem\u001b[0m\u001b[1;33m,\u001b[0m\u001b[1;33m\u001b[0m\u001b[0m\n\u001b[0;32m      6\u001b[0m \u001b[0ms\u001b[0m \u001b[1;33m=\u001b[0m \u001b[1;36m0\u001b[0m \u001b[1;31m# acumulation variable\u001b[0m\u001b[1;33m\u001b[0m\u001b[0m\n\u001b[1;32m----> 7\u001b[1;33m \u001b[1;32mfor\u001b[0m \u001b[0mj\u001b[0m \u001b[1;32min\u001b[0m \u001b[0mrange\u001b[0m\u001b[1;33m(\u001b[0m\u001b[0mM\u001b[0m\u001b[1;33m,\u001b[0m \u001b[0mN\u001b[0m\u001b[1;33m+\u001b[0m\u001b[1;36m1\u001b[0m\u001b[1;33m,\u001b[0m \u001b[1;36m1\u001b[0m\u001b[1;33m)\u001b[0m\u001b[1;33m:\u001b[0m\u001b[1;33m\u001b[0m\u001b[0m\n\u001b[0m\u001b[0;32m      8\u001b[0m     \u001b[0ms\u001b[0m \u001b[1;33m+=\u001b[0m \u001b[1;36m1.\u001b[0m\u001b[1;33m/\u001b[0m\u001b[0mj\u001b[0m\u001b[1;33m**\u001b[0m\u001b[1;36m2\u001b[0m\u001b[1;33m\u001b[0m\u001b[0m\n\u001b[0;32m      9\u001b[0m     \u001b[1;32mprint\u001b[0m \u001b[0ms\u001b[0m\u001b[1;33m\u001b[0m\u001b[0m\n",
      "\u001b[1;31mNameError\u001b[0m: name 'M' is not defined"
     ]
    }
   ],
   "source": [
    "for elem in [10, 20, 25, 27, 28.5]:\n",
    "    print elem, #use comma to prevent new line\n",
    "    # but how to stop this before starting on the next?\n",
    "for elem in range(1, 5, 2):\n",
    "    print elem,\n",
    "s = 0 # acumulation variable\n",
    "for j in range(M, N+1, 1):\n",
    "    s += 1./j**2\n",
    "    print s"
   ]
  },
  {
   "cell_type": "code",
   "execution_count": 15,
   "metadata": {
    "collapsed": false,
    "scrolled": true
   },
   "outputs": [
    {
     "name": "stdout",
     "output_type": "stream",
     "text": [
      " \n",
      "640.0 meters corresponds to\n",
      "25196.85 inches\n",
      "2099.74 feet\n",
      "699.91 yards\n",
      "0.3977 miles\n",
      "\n"
     ]
    }
   ],
   "source": [
    "# Exercise 1.4 Length conversion\n",
    "\n",
    "\"\"\"\n",
    "length_in_unit = length_in_meters/unit\n",
    "km = 1000.0\n",
    "length_in_km = length_in_meters/km\n",
    "\"\"\"\n",
    "\n",
    "inch = 2.54/100 #cm/100 = m\n",
    "foot = 12.0*inch\n",
    "yard = 3.0*foot\n",
    "mile = 1760.0*yard\n",
    "\n",
    "length_in_meters = 640.0\n",
    "\n",
    "print \"\"\"\n",
    "%.1f meters corresponds to\n",
    "%.2f inches\n",
    "%.2f feet\n",
    "%.2f yards\n",
    "%.4f miles\n",
    "\"\"\" %(length_in_meters, length_in_meters/inch, \n",
    "      length_in_meters/foot, length_in_meters/yard, length_in_meters/mile) #stating all the input arguments"
   ]
  },
  {
   "cell_type": "code",
   "execution_count": 16,
   "metadata": {
    "collapsed": false
   },
   "outputs": [
    {
     "name": "stdout",
     "output_type": "stream",
     "text": [
      "Forces for V = 33.3 km/h: Drag = 5.1 N, Gravity = 4.2 N, Ratio = 0.8.\n",
      "Forces for V = 2.8 km/h: Drag = 0.0 N, Gravity = 4.2 N, Ratio = 119.8.\n"
     ]
    },
    {
     "data": {
      "image/png": "[encoded data removed]",
      "text/plain": [
       "<matplotlib.figure.Figure at 0xa577b00>"
      ]
     },
     "metadata": {},
     "output_type": "display_data"
    }
   ],
   "source": [
    "# Exercise 1.11: Compute the air resistance on a football (kick.py) # Tror det går ann å løse denne på en enklere måte?\n",
    "\n",
    "import pylab\n",
    "import numpy as np\n",
    "\n",
    "\n",
    "def air_resistance(velocity,           #m/s\n",
    "                   radius=0.11,         #m\n",
    "                   drag_coefficient=0.2):   #no units\n",
    "                    \n",
    "    k_air_density = 1.2 # kg/m**3 \n",
    "    area = np.pi*radius**2\n",
    "    drag_force = (0.5*drag_coefficient*k_air_density*\n",
    "                        area*velocity**2)\n",
    "    return drag_force # N\n",
    "   \n",
    "air_drag=[]\n",
    "velocity=[]\n",
    "for i in range(0,400):\n",
    "    velocity.append(i/10.0)\n",
    "    air_drag.append(air_resistance(i/10.0))\n",
    "pylab.plot(velocity,air_drag)\n",
    "pylab.xlabel('Velocity, m/s')\n",
    "pylab.ylabel('Drag force, N')\n",
    "\n",
    "def convert_kmh_to_ms( vel_kmh):\n",
    "   return vel_kmh/3.6 # m/s\n",
    "   \n",
    "# Requested output:\n",
    "# Forces for V = 120 km/h: Drag = 13.9 N,  Gravity = 3.2 N, Ratio = 10.1\n",
    "def print_forces(vel_kmh, mass=0.43):\n",
    "    vel=convert_kmh_to_ms(vel_kmh)\n",
    "    drag=air_resistance(vel)\n",
    "    gravity_force=9.81*mass\n",
    "    ratio=gravity_force/drag\n",
    "    print ''.join( #join empty string with list of strings.\n",
    "    ('Forces for V = ', format(vel,'.1f'), \n",
    "    ' km/h: Drag = ', format(drag,'.1f'), \n",
    "    ' N, Gravity = ', format(gravity_force,'.1f'), \n",
    "    ' N, Ratio = ', format(ratio,'.1f'), '.'))\n",
    "    \n",
    "print_forces(120)\n",
    "\n",
    "print_forces(10)"
   ]
  },
  {
   "cell_type": "code",
   "execution_count": 17,
   "metadata": {
    "collapsed": false
   },
   "outputs": [
    {
     "name": "stdout",
     "output_type": "stream",
     "text": [
      "------------------\n",
      "  0.0 -17.8\n",
      " 10.0 -12.2\n",
      " 20.0  -6.7\n",
      " 30.0  -1.1\n",
      " 40.0   4.4\n",
      " 50.0  10.0\n",
      " 60.0  15.6\n",
      " 70.0  21.1\n",
      " 80.0  26.7\n",
      " 90.0  32.2\n",
      "100.0  37.8\n",
      "------------------\n"
     ]
    }
   ],
   "source": [
    "# Exercise 2.1 Make a Fahrenheit-Celcius conversion table (f2c_table_while.py)\n",
    "\n",
    "print '------------------'     \n",
    "F = 0\n",
    "dF = 10\n",
    "while F <= 100:                \n",
    "    C = (F-32)*(5.0/9)\n",
    "    print \"%5.1f %5.1f\" %(F, C)  \n",
    "    F = F + dF                 \n",
    "print '------------------'  \n"
   ]
  },
  {
   "cell_type": "code",
   "execution_count": 28,
   "metadata": {
    "collapsed": false
   },
   "outputs": [
    {
     "name": "stdout",
     "output_type": "stream",
     "text": [
      "For loop:\n",
      " 0.00  0.00\n",
      " 0.10  0.97\n",
      " 0.20  1.83\n",
      " 0.31  2.60\n",
      " 0.41  3.26\n",
      " 0.51  3.82\n",
      " 0.61  4.28\n",
      " 0.71  4.64\n",
      " 0.82  4.89\n",
      " 0.92  5.05\n",
      " 1.02  5.10\n",
      " 1.12  5.05\n",
      " 1.22  4.89\n",
      " 1.33  4.64\n",
      " 1.43  4.28\n",
      " 1.53  3.82\n",
      " 1.63  3.26\n",
      " 1.73  2.60\n",
      " 1.83  1.83\n",
      " 1.94  0.97\n",
      " 2.04  0.00\n",
      "While loop:\n",
      " 0.00  0.00\n",
      " 0.10  0.97\n",
      " 0.20  1.83\n",
      " 0.31  2.60\n",
      " 0.41  3.26\n",
      " 0.51  3.82\n",
      " 0.61  4.28\n",
      " 0.71  4.64\n",
      " 0.82  4.89\n",
      " 0.92  5.05\n",
      " 1.02  5.10\n",
      " 1.12  5.05\n",
      " 1.22  4.89\n",
      " 1.33  4.64\n",
      " 1.43  4.28\n",
      " 1.53  3.82\n",
      " 1.63  3.26\n",
      " 1.73  2.60\n",
      " 1.83  1.83\n",
      " 1.94  0.97\n",
      " 2.04  0.00\n"
     ]
    }
   ],
   "source": [
    "# Exercise 2.7 Make a table of values from a formula (ball_table1.py)\n",
    "\n",
    "# purpose is to write nicely formattet tables. Changed from n=5 to n=20 and v0=5.0 to v0=10.0\n",
    "n = 20\n",
    "\n",
    "v0 = 10.0\n",
    "g = 9.81\n",
    "\n",
    "t_stop = 2*v0/g\n",
    "dt = t_stop/n\n",
    "\n",
    "print \"For loop:\"\n",
    "for i in range(n+1):\n",
    "    t = dt*i\n",
    "    y = v0*t -0.5*g*t**2\n",
    "    print \"%5.2f %5.2f\" %(t, y)\n",
    "\n",
    "print \"While loop:\"\n",
    "t = 0\n",
    "eps = 1e-9 #Question: why do we include eps here? To get the while loop run until the last value? Yes, due to round off errors\n",
    "\n",
    "while t < t_stop+eps:\n",
    "    y = v0*t -0.5*g*t**2\n",
    "    print \"%5.2f %5.2f\" %(t, y)\n",
    "    t += dt"
   ]
  },
  {
   "cell_type": "code",
   "execution_count": 19,
   "metadata": {
    "collapsed": false
   },
   "outputs": [
    {
     "data": {
      "image/png": "[encoded data removed]",
      "text/plain": [
       "<matplotlib.figure.Figure at 0xa76c4a8>"
      ]
     },
     "metadata": {},
     "output_type": "display_data"
    }
   ],
   "source": [
    "# I did run this version on the iPyton notebook using what is stated in\"#\"\n",
    "from numpy import * #import numy as np\n",
    "from matplotlib.pyplot import * #import matplotlib.pyplot as plt\n",
    "\n",
    "#alternative version:\n",
    "#from scitools.std import *\n",
    "\n",
    "v0 = 10.0\n",
    "g = 9.81\n",
    "t_max = 2*v0/g # max value stated in the exercise\n",
    "n = 100 #no of points \n",
    "t = linspace(0,t_max,n) #np.linspace(start value of sequence,stop included only if true, number of samples)\n",
    "y = v0*t -0.5*g*t**2\n",
    "\n",
    "plot(t,y) # I normally use plt.plot(args, kwargs) What does that mean? Normally x, y axis\n",
    "xlabel('time (s)')\n",
    "ylabel('height (m)')\n",
    "show() # plt.show()"
   ]
  },
  {
   "cell_type": "code",
   "execution_count": 20,
   "metadata": {
    "collapsed": false
   },
   "outputs": [
    {
     "name": "stdout",
     "output_type": "stream",
     "text": [
      "Position after 2.03873598369 second 0.0\n",
      "t = 0.00\ty = 0.00\n",
      "t = 0.20\ty = 1.83\n",
      "t = 0.41\ty = 3.26\n",
      "t = 0.61\ty = 4.28\n",
      "t = 0.82\ty = 4.89\n",
      "t = 1.02\ty = 5.10\n",
      "t = 1.22\ty = 4.89\n",
      "t = 1.43\ty = 4.28\n",
      "t = 1.63\ty = 3.26\n",
      "t = 1.83\ty = 1.83\n",
      "t = 2.04\ty = 0.00\n"
     ]
    },
    {
     "data": {
      "text/plain": [
       "[<matplotlib.lines.Line2D at 0xbe75198>]"
      ]
     },
     "execution_count": 20,
     "metadata": {},
     "output_type": "execute_result"
    },
    {
     "data": {
      "image/png": "[encoded data removed]",
      "text/plain": [
       "<matplotlib.figure.Figure at 0xa94d908>"
      ]
     },
     "metadata": {},
     "output_type": "display_data"
    }
   ],
   "source": [
    "#Exercise 2.8 (ball_table2.py)\n",
    "# Exercise 2.8: Store values from a formula in lists\n",
    "\n",
    "#This exercise aims to produce the same table of numbers as in Exercise 2.7,\n",
    "#but with different code. First, store the t and y values in two lists t and\n",
    "#y. Thereafter, write out a nicely formatted table by traversing the two\n",
    "#lists with a for loop.\n",
    "\n",
    "#Hint. In the for loop, use either zip to traverse the two lists in parallel,\n",
    "#or use an index and the range construction.\n",
    "\n",
    "\n",
    "# Exercise 2.7 y(t) = v0t − 1/2*gt^2\n",
    "# Use n + 1 uniformly spaced t values throughout the interval [0, 2v0/g].\n",
    "# use a for loop to produce the table\n",
    "\n",
    "k_gravity = 9.81 #ms**2\n",
    "v_0 = 10        #ms\n",
    "n = 10        # Steps in simulation\n",
    "end_time_s = 2*v_0/k_gravity #Given in the exercise\n",
    "\n",
    "def find_y_t( t, initial_velocity_ms = v_0):\n",
    "    return initial_velocity_ms * t - 0.5*k_gravity*t**2\n",
    "\n",
    "print 'Position after', end_time_s, 'second', find_y_t(end_time_s)\n",
    "    \n",
    "t = np.linspace(0, end_time_s, num=n+1)\n",
    "y = np.zeros(n+1)\n",
    "\n",
    "# Calculate and fill in values in y\n",
    "for i in range( len(t)): #here we use range over the length of t \n",
    "    y[i] = find_y_t(t[i]) #Question: could we just specify the y function here? \n",
    "\n",
    "for (time, height) in zip(t,y): # in order to traverse the two lists in one operation\n",
    "    height = find_y_t(time)\n",
    "    \n",
    "# Print out the values, and try using zip   \n",
    "for (time, height) in zip(t,y):\n",
    "    print ('t = '+ format(time,'.2f')+\n",
    "           '\\ty = '+ format(height,'.2f'))\n",
    "           \n",
    "plt.figure('Ball vertical position')\n",
    "plt.plot(t,y)"
   ]
  },
  {
   "cell_type": "code",
   "execution_count": 51,
   "metadata": {
    "collapsed": false
   },
   "outputs": [
    {
     "name": "stdout",
     "output_type": "stream",
     "text": [
      "[2.0, 5.0, 10.0, 12.0, 15.0]\n",
      "[2.0, 5.0, 10.0, 12.0, 15.0]\n",
      "['v0=2', 'v0=5', 'v0=10', 'v0=12', 'v0=15']\n"
     ]
    },
    {
     "data": {
      "image/png": "[encoded data removed]",
      "text/plain": [
       "<matplotlib.figure.Figure at 0xd19c4a8>"
      ]
     },
     "metadata": {},
     "output_type": "display_data"
    }
   ],
   "source": [
    "# Answer to plot_ball2.py\n",
    "#SKJØNNER IKKE\n",
    "from numpy import *\n",
    "from matplotlib.pyplot import *\n",
    "import sys\n",
    "\n",
    "v0_arg = [2, 5, 10, 12, 15]\n",
    "\n",
    "if len(sys.argv) ==1:\n",
    "    print 'Give v0 values on the command line!'\n",
    "    sys.exit(1)\n",
    "\n",
    "#v0_list = [float(v0) for v0 in v0_arg[:]]\n",
    "\n",
    "v0_list2 = []\n",
    "for kallenavn in v0_arg:\n",
    "    v0_list2.append(float(kallenavn)) #convert arguments to floats\n",
    "print v0_list\n",
    "print v0_list2\n",
    "\n",
    "g = 9.81\n",
    "\n",
    "legends = [] #text for each curve . will name your curves in the plot\n",
    "for v0 in v0_list2:\n",
    "    t_max = 2*v0/g\n",
    "    t = linspace(0,t_max,100)\n",
    "    y = v0*t -0.5*g*t**2\n",
    "    hold(True)\n",
    "    plot(t,y, label='Velocity=%g'%v0) #making the plot\n",
    "    legends.append('v0=%g'%v0)\n",
    "\n",
    "\n",
    "xlabel('time (s)')\n",
    "ylabel('height (m)')\n",
    "legend(legends)\n",
    "#legend()\n",
    "print legends\n",
    "show() #showing the plot"
   ]
  },
  {
   "cell_type": "code",
   "execution_count": 5,
   "metadata": {
    "collapsed": false
   },
   "outputs": [
    {
     "name": "stdout",
     "output_type": "stream",
     "text": [
      "Position after 2.03873598369 second 0.0\n",
      "For loop y[0] 0.0\n",
      "For loop y[1] 4.5305244082\n",
      "For loop y[2] 4.5305244082\n",
      "For loop y[3] 0.0\n",
      "t in nested list [ 0.          0.67957866  1.35915732  2.03873598]\n",
      "y in nested list [ 0.          4.53052441  4.53052441  0.        ]\n",
      "the actual nested list [array([ 0.        ,  0.67957866,  1.35915732,  2.03873598]), array([ 0.        ,  4.53052441,  4.53052441,  0.        ])]\n",
      "0.00   0.00\n",
      "0.68   4.53\n",
      "1.36   4.53\n",
      "2.04   0.00\n"
     ]
    },
    {
     "data": {
      "text/plain": [
       "\"\\nimport numpy as np\\nimport matplotlib.pyplot as plt\\n\\n\\nk_gravity = 9.81 #ms**2\\nv_0 = 10        #ms\\nn = 10        # Steps in simulation\\nend_time_s = 2*v_0/k_gravity\\n\\ndef find_y_t( t, initial_velocity_ms = v_0):\\n    return initial_velocity_ms * t - 0.5*k_gravity*t**2\\n\\nprint 'Position after', end_time_s, 'second', find_y_t(end_time_s)\\ndata = np.zeros((n+1,2))    \\n\\ndata[:,0] = np.linspace(0, end_time_s, num=n+1)\\nprint data\\n\\n# Calculate and fill in values in y\\nfor i in range( len(data)):\\n    data[i,1] = find_y_t(data[i,0])\\n    \\n # Print out the values, and try using zip   \\nfor (time, height) in data:\\n    print ('t = '+ format(time,'.2f')+\\n           '\\ty = '+ format(height,'.2f'))\\n           \\nplt.figure('Ball vertical position')\\nplt.plot(data[:,0],data[:,1])\\n\""
      ]
     },
     "execution_count": 5,
     "metadata": {},
     "output_type": "execute_result"
    }
   ],
   "source": [
    "# Exercise 2.16 (ball_table3.py, side 88)\n",
    "\n",
    "# FIKK IKKE POENG FOR DENNE MÅTEN Å LØSE OPPGAVEN PÅ.\n",
    "# have to store data in a nested list\n",
    "import numpy as np\n",
    "\n",
    "k_gravity = 9.81 #ms**2\n",
    "v_0 = 10        #ms\n",
    "n = 3        # Steps in simulation\n",
    "end_time_s = 2*v_0/k_gravity #Given in the exercise\n",
    "\n",
    "def find_y_t( t, initial_velocity_ms = v_0):\n",
    "    return initial_velocity_ms * t - 0.5*k_gravity*t**2\n",
    "\n",
    "print 'Position after', end_time_s, 'second', find_y_t(end_time_s)\n",
    "    \n",
    "t = np.linspace(0, end_time_s, num=n+1)\n",
    "y = np.zeros(n+1)\n",
    "\n",
    "for index in range(len(t)): #pugg denne\n",
    "    y[index] = find_y_t(t[index]) #go straight to the array itself\n",
    "    print 'For loop y[%g]' %index, y[index] \n",
    "    \n",
    "nested_ty = [] # new nestet list\n",
    "nested_ty.append(t)\n",
    "nested_ty.append(y)\n",
    "print 't in nested list', t\n",
    "print 'y in nested list', y\n",
    "print 'the actual nested list', nested_ty\n",
    "\n",
    "for t, y in zip(nested_ty[0], nested_ty[1]):\n",
    "    print \"%.2f   %.2f\" % (t, y)\n",
    "\n",
    "\"\"\"\n",
    "import numpy as np\n",
    "import matplotlib.pyplot as plt\n",
    "\n",
    "\n",
    "k_gravity = 9.81 #ms**2\n",
    "v_0 = 10        #ms\n",
    "n = 10        # Steps in simulation\n",
    "end_time_s = 2*v_0/k_gravity\n",
    "\n",
    "def find_y_t( t, initial_velocity_ms = v_0):\n",
    "    return initial_velocity_ms * t - 0.5*k_gravity*t**2\n",
    "\n",
    "print 'Position after', end_time_s, 'second', find_y_t(end_time_s)\n",
    "data = np.zeros((n+1,2))    \n",
    "\n",
    "data[:,0] = np.linspace(0, end_time_s, num=n+1)\n",
    "print data\n",
    "\n",
    "# Calculate and fill in values in y\n",
    "for i in range( len(data)):\n",
    "    data[i,1] = find_y_t(data[i,0])\n",
    "    \n",
    " # Print out the values, and try using zip   \n",
    "for (time, height) in data:\n",
    "    print ('t = '+ format(time,'.2f')+\n",
    "           '\\ty = '+ format(height,'.2f'))\n",
    "           \n",
    "plt.figure('Ball vertical position')\n",
    "plt.plot(data[:,0],data[:,1])\n",
    "\"\"\""
   ]
  },
  {
   "cell_type": "code",
   "execution_count": 3,
   "metadata": {
    "collapsed": false
   },
   "outputs": [
    {
     "name": "stdout",
     "output_type": "stream",
     "text": [
      "Calculating v0 1.0\n",
      "Calculating v0 2.0\n",
      "Calculating v0 5.0\n",
      "Calculating v0 10.0\n"
     ]
    },
    {
     "data": {
      "image/png": "[encoded data removed]",
      "text/plain": [
       "<matplotlib.figure.Figure at 0x3dfbd30>"
      ]
     },
     "metadata": {},
     "output_type": "display_data"
    }
   ],
   "source": [
    "#Exercise 2.16\n",
    "from numpy import *\n",
    "from matplotlib.pyplot import *\n",
    "import sys\n",
    "%matplotlib inline\n",
    "\n",
    "\n",
    "if len(sys.argv) == 1:\n",
    "    print 'Give v0 values on the command line!'\n",
    "    sys.exit(1)\n",
    "\n",
    "v0_list = [1, 2, 5, 10]\n",
    "g = 9.81\n",
    "\n",
    "max_t = 0\n",
    "max_y = 0\n",
    "\n",
    "figure()\n",
    "for v0 in v0_list:\n",
    "    v0 = float(v0)\n",
    "    print 'Calculating v0', v0\n",
    "    t = linspace(0,2*v0/g,100)\n",
    "    y = v0*t -0.5*g*t**2\n",
    "    if max(t) > max_t:\n",
    "        max_t = max(t)\n",
    "    if max(y) > max_y:\n",
    "        max_y = max(y)\n",
    "    plot(t,y)\n",
    "\n",
    "xlabel('time (s)')\n",
    "ylabel('height (m)')\n",
    "axis([0,max_t,0,max_y*1.2])\n",
    "\n",
    "show()"
   ]
  },
  {
   "cell_type": "code",
   "execution_count": 4,
   "metadata": {
    "collapsed": false
   },
   "outputs": [
    {
     "name": "stdout",
     "output_type": "stream",
     "text": [
      "While loop, Sum of 1/n:  5.18737751764\n",
      "For loop, Sum of 1/n:  5.18737751764\n"
     ]
    }
   ],
   "source": [
    "# Exercise 2.10 (sum_while.py)\n",
    "# s=sum(1/k) for k=1 to M=100\n",
    "#Explain why the following program does not work\n",
    "#s = 0; k = 1; M = 100\n",
    "#while k < M:\n",
    "#s += 1/k\n",
    "#print s\n",
    "\n",
    "k = 1.0\n",
    "s = 0\n",
    "M = 100\n",
    "\n",
    "# You can write this loop in two ways, using while:\n",
    "while k <= M: # REMEMBER k<=M, have to include =\n",
    "    s += 1.0/k # QUESTION: DO we always use += in for and while loops?\n",
    "    k += 1\n",
    "print 'While loop, Sum of 1/n: ', s\n",
    "\n",
    "# Or using for:\n",
    "\n",
    "s2 = 0.0\n",
    "for k in range(1,M+1):\n",
    "    s2 += 1.0/k\n",
    "print 'For loop, Sum of 1/n: ', s2"
   ]
  },
  {
   "cell_type": "code",
   "execution_count": 6,
   "metadata": {
    "collapsed": false
   },
   "outputs": [
    {
     "name": "stdout",
     "output_type": "stream",
     "text": [
      "For loop, sum (1/k): 2.92896825397\n"
     ]
    }
   ],
   "source": [
    "# Alternative solution to exercise 2.10 must be run in terminal (?)\n",
    "# Including a test\n",
    "# OR IS THIS NOT GIVING OUTPUT BECAUSE THE TEST IS PASSED?\n",
    "def sum_1k(M):\n",
    "    \"\"\"Evaluates sum(1/k), for k = 1,...,M\"\"\"\n",
    "    s = 0\n",
    "    for k in range(1,M+1): # What is the difference M(will give AssertionError, bc the sum is not right) or M+1\n",
    "        s = s + 1.0/k\n",
    "    return s\n",
    "\n",
    "def test_sum_1k():\n",
    "    \"\"\"tests sum_1k for M=3\"\"\"\n",
    "    expected = 1.0+5.0/6.0\n",
    "    computed = sum_1k(3)\n",
    "    tol = 1e-10\n",
    "\n",
    "    success = abs(expected-computed) < tol\n",
    "    msg = \"%g != %g\" %(computed, expected)\n",
    "\n",
    "    assert success, msg\n",
    "\n",
    "s = sum_1k(10)\n",
    "print 'For loop, sum (1/k):', s # YES, i do think so because this gave output\n",
    "test_sum_1k()\n"
   ]
  },
  {
   "cell_type": "code",
   "execution_count": 26,
   "metadata": {
    "collapsed": false
   },
   "outputs": [
    {
     "name": "stdout",
     "output_type": "stream",
     "text": [
      "The two lists have length 21 and 21\n",
      "List 1: [0.0, 0.5, 1.0, 1.5, 2.0, 2.5, 3.0, 3.5, 4.0, 4.5, 5.0, 5.5, 6.0, 6.5, 7.0, 7.5, 8.0, 8.5, 9.0, 9.5, 10.0]\n",
      "List 2: [0.0, 0.5, 1.0, 1.5, 2.0, 2.5, 3.0, 3.5, 4.0, 4.5, 5.0, 5.5, 6.0, 6.5, 7.0, 7.5, 8.0, 8.5, 9.0, 9.5, 10.0]\n"
     ]
    }
   ],
   "source": [
    "# Exercise 2.6 (coor.py, side 85)\n",
    "\n",
    "\"\"\"\"Generate equally spaced x coordinates in [a,b] and store them in a list. \n",
    "a) use a for loop and append. b) use a list comprehension\"\"\"\"\n",
    "\n",
    "#interval bounds\n",
    "a = 0\n",
    "b = 10\n",
    "\n",
    "#number of subintervals\n",
    "n = 20\n",
    "h = float(b-a)/n\n",
    "\n",
    "#regular for loop:\n",
    "coor = []\n",
    "for i in range(n+1):\n",
    "    x = a+i*h # do not get what the \"starting point\" is h =0 bc n=0?\n",
    "    coor.append(x) # append, only adding a new element at the end? \n",
    "\n",
    "#list comprehension:\n",
    "coor2 = [a+i*h for i in range(n+1)]\n",
    "\n",
    "print \"The two lists have length %d and %d\" %(len(coor), len(coor2))\n",
    "print \"List 1:\", coor\n",
    "print \"List 2:\", coor2"
   ]
  },
  {
   "cell_type": "code",
   "execution_count": 32,
   "metadata": {
    "collapsed": false
   },
   "outputs": [
    {
     "name": "stdout",
     "output_type": "stream",
     "text": [
      "d_step 0.1\n",
      "list1 [9.0, 9.1, 9.2, 9.3, 9.4, 9.5, 9.6, 9.7, 9.8, 9.9, 10.0]\n",
      "length of list1: 11\n",
      "list2 [9.0, 9.1, 9.2, 9.3, 9.4, 9.5, 9.6, 9.7, 9.8, 9.9, 10.0]\n"
     ]
    }
   ],
   "source": [
    "# Exercise 2.6\n",
    "start = 9\n",
    "end = 10\n",
    "n = 10\n",
    "d_step = float(end - start)/n\n",
    "print 'd_step', d_step\n",
    "list1 = []\n",
    "for index in range(0, n+1):\n",
    "    value = start + d_step * index\n",
    "    list1.append(value)\n",
    "print 'list1', list1\n",
    "print 'length of list1:',len(list1)\n",
    "\n",
    "#Next step we do this by list comprehension\n",
    "# List2 = [(innholdet i for loop)(for loop definition)]\n",
    "list2 = [(start + d_step*index) for index in range(0, n+1)] # need to compute this by hand to see the steps\n",
    "print 'list2', list2"
   ]
  },
  {
   "cell_type": "code",
   "execution_count": 38,
   "metadata": {
    "collapsed": false
   },
   "outputs": [
    {
     "name": "stdout",
     "output_type": "stream",
     "text": [
      "a\n",
      "['d', 'e', 'f']\n",
      "h\n",
      "d\n",
      "\n",
      "q[-1][-2] extracts the last element of q, which is a list, and\n",
      "then extracts the second to last element of this list, which is 'g'\n",
      "\n",
      "Loop:\n",
      "[0, 1, 2]\n",
      "i: ['a', 'b', 'c']\n",
      "j =0, elements = a\n",
      "j =1, elements = b\n",
      "j =2, elements = c\n",
      "[0, 1, 2]\n",
      "i: ['d', 'e', 'f']\n",
      "j =0, elements = d\n",
      "j =1, elements = e\n",
      "j =2, elements = f\n",
      "[0, 1]\n",
      "i: ['g', 'h']\n",
      "j =0, elements = g\n",
      "j =1, elements = h\n",
      "The objects i are lists, while objects j are integers\n"
     ]
    }
   ],
   "source": [
    "# Exercise 2.14 (index_nested_list.py, side 87)\n",
    "q = [['a', 'b', 'c'], ['d', 'e', 'f'], ['g', 'h']]\n",
    "#Extracting the following elements\n",
    "#the letter a\n",
    "print q[0][0]\n",
    "\n",
    "#the list [d,e,f]\n",
    "print q[1]\n",
    "\n",
    "#the letter h\n",
    "print q[-1][-1]\n",
    "\n",
    "#the letter d\n",
    "print q[1][0]\n",
    "\n",
    "print \"\"\"\n",
    "q[-1][-2] extracts the last element of q, which is a list, and\n",
    "then extracts the second to last element of this list, which is 'g'\n",
    "\"\"\"\n",
    "\n",
    "print \"Loop:\"\n",
    "for i in q:\n",
    "    print range(len(i))\n",
    "    print 'i:', i\n",
    "    for j in range(len(i)):\n",
    "        print 'j =%g, elements = %s'%(j,i[j])\n",
    "        \n",
    "print \"The objects i are lists, while objects j are integers\" #know that j is a listindex. listindices always integers"
   ]
  },
  {
   "cell_type": "code",
   "execution_count": 56,
   "metadata": {
    "collapsed": false
   },
   "outputs": [
    {
     "name": "stdout",
     "output_type": "stream",
     "text": [
      "Familien har 8 familiemedlemmer\n",
      "index Camilla\n",
      "index Trygve\n",
      "index Anniken\n",
      "index Lukas\n",
      "index Sebastian\n",
      "index Storm\n",
      "index Albicilla\n",
      "index Blanca\n",
      "indices [0, 1, 2, 3, 4, 5, 6, 7]\n",
      "0 Camilla\n",
      "1 Trygve\n",
      "2 Anniken\n",
      "3 Lukas\n",
      "4 Sebastian\n",
      "5 Storm\n",
      "6 Albicilla\n",
      "7 Blanca\n",
      "element Camilla\n",
      "element Trygve\n",
      "element Anniken\n",
      "element Lukas\n",
      "element Sebastian\n",
      "element Storm\n",
      "element Albicilla\n",
      "element Blanca\n",
      "Trygve\n",
      "Camilla\n"
     ]
    }
   ],
   "source": [
    "#Different loops\n",
    "list3 =['Camilla', 'Trygve','Anniken', 'Lukas', 'Sebastian','Storm', 'Albicilla','Blanca']\n",
    "print 'Familien har %g familiemedlemmer' %len(list3)\n",
    "\n",
    "for index in range(len(list3)): # list is list made by range\n",
    "    print 'index', list3[index]\n",
    "    \n",
    "indices = range(len(list3)) #range lager alltid en liste\n",
    "print 'indices', indices\n",
    "\n",
    "for index in indices: #list is the list made by range\n",
    "    print index, list3[index]\n",
    "\n",
    "for element in list3: # list is list3\n",
    "    print 'element', element\n",
    "# HUSK: All for loops are for \"element\" in \"list\"\n",
    "\n",
    "for index in [1,0]:\n",
    "    print list3[index]"
   ]
  },
  {
   "cell_type": "code",
   "execution_count": 71,
   "metadata": {
    "collapsed": false
   },
   "outputs": [
    {
     "data": {
      "text/plain": [
       "'3.3 (roots_quadratic.py, side 129)\\n3.11 (area_triangle.py, side 134)\\n3.16 (gaussian2.py, side 136)\\n3.23 (Heaviside.py, side 139)\\n4.4 (f2c_file_read_write.py, side 212)\\n4.5 (f2c_cml_exc.py, side 212)\\n4.19 (convert_temp.py, side 216)\\n4.11 (ball_cml_qa.py, side 214)\\n4.12 (ball_cml_tcheck.py, side 214)\\n4.14 (ball_file_read_write.py, side 214, 2 poeng)\\n5.3 (fill_arrays_vectorized.py, side 280)\\n5.7 (slicing.py, side 281)\\n5.10 (plot_ball2.py, side 282)\\n5.12 (f2c_shortcut_plot.py, side 282)\\n5.13 (plot_trajectory.py, side 282)\\n5.26 (plot_wavepacket.py, side 290)'"
      ]
     },
     "execution_count": 71,
     "metadata": {},
     "output_type": "execute_result"
    }
   ],
   "source": [
    "\"\"\"3.3 (roots_quadratic.py, side 129)\n",
    "3.11 (area_triangle.py, side 134)\n",
    "3.16 (gaussian2.py, side 136)\n",
    "3.23 (Heaviside.py, side 139)\n",
    "4.4 (f2c_file_read_write.py, side 212)\n",
    "4.5 (f2c_cml_exc.py, side 212)\n",
    "4.19 (convert_temp.py, side 216)\n",
    "4.11 (ball_cml_qa.py, side 214)\n",
    "4.12 (ball_cml_tcheck.py, side 214)\n",
    "4.14 (ball_file_read_write.py, side 214, 2 poeng)\n",
    "5.3 (fill_arrays_vectorized.py, side 280)\n",
    "5.7 (slicing.py, side 281)\n",
    "5.10 (plot_ball2.py, side 282)\n",
    "5.12 (f2c_shortcut_plot.py, side 282)\n",
    "5.13 (plot_trajectory.py, side 282)\n",
    "5.26 (plot_wavepacket.py, side 290)\"\"\"\n"
   ]
  },
  {
   "cell_type": "markdown",
   "metadata": {},
   "source": [
    "# Begynner på kapittel 3: Functions and branching"
   ]
  },
  {
   "cell_type": "code",
   "execution_count": 1,
   "metadata": {
    "collapsed": false
   },
   "outputs": [
    {
     "name": "stdout",
     "output_type": "stream",
     "text": [
      "((-1+1.4142135623730951j), (-1-1.4142135623730951j))\n",
      "(a,b,c) --> (x1,x2):\n",
      "(1, (-2-0j), (2+0j)) --> ((1+1j), (1-1j))\n",
      "<type 'numpy.complex128'>\n",
      "(a,b,c) --> (x1,x2):\n",
      "(1, -2.0, 1.0) --> (1.0, 1.0)\n",
      "All tests passed. BOOM!\n"
     ]
    }
   ],
   "source": [
    "\n",
    "\"\"\" Exercise 3.3 Roots-quadratic\n",
    "\n",
    "Exercise 3.3: Write a function for solving ax2 + bx + c = 0\n",
    "\n",
    "a) Given a quadratic equation ax2+bx+c = 0, write a function roots(a,\n",
    "b, c) that returns the two roots of the equation. The returned roots\n",
    "should be float objects when the roots are real, otherwise the function\n",
    "returns complex objects.\n",
    "\n",
    "Hint. Use sqrt from the numpy.lib.scimath library, see Chapter 1.6.3.\n",
    "\n",
    "b) Construct two test cases with known solutions, one with real roots\n",
    "and the other with complex roots, Implement the two test cases in two\n",
    "test functions test_roots_float and test_roots_complex, where you\n",
    "call the roots function and check the type and value of the returned\n",
    "objects.\n",
    "\n",
    "Find the roots of the quadratic equation ax² + bx + c = 0\n",
    "    The solution is the equation:\n",
    "        -b ± √(b² - 4ac)\n",
    "    x = ----------------\n",
    "                 2a\n",
    "\n",
    "\"\"\"\n",
    "import numpy as np\n",
    "import numpy.lib.scimath as npsci\n",
    "\n",
    "def main():\n",
    "    test_sqrt()\n",
    "    print roots(1,2,3)\n",
    "    tests_roots_complex()\n",
    "    tests_roots_real()\n",
    "    print \"All tests passed. BOOM!\"\n",
    "    \n",
    "def roots(a, b, c):\n",
    "    \"\"\"Find the roots and solution to the equation on the form\n",
    "    ax² + bx + c = 0\n",
    "\n",
    "    The solution is the equation:\n",
    "             √(b² - 4ac)\n",
    "    x = -b ± -----------\n",
    "                 2a\n",
    "\n",
    "    \"\"\"\n",
    "    root_part = npsci.sqrt(b**2 - 4*a*c)\n",
    "    x1 = (-b + root_part)/(2*a)\n",
    "    x2 = (-b - root_part)/(2*a)\n",
    "    return (x1, x2)\n",
    "    \n",
    "def test_sqrt():\n",
    "    assert npsci.sqrt(-1)==1j, 'sqrt not working as suspected'\n",
    "    \n",
    "def tests_roots_real():\n",
    "    \"\"\"Test with real roots\"\"\"\n",
    "    r1 = 1.0\n",
    "    r2 = 1.0\n",
    "   # x^2 - (r1+r2)x + r1*r2 = 0\n",
    "    \n",
    "    a = 1\n",
    "    b = -(r1 + r2)\n",
    "    c = r1*r2\n",
    "    result = roots(a, b, c)\n",
    "    print '(a,b,c) --> (x1,x2):'\n",
    "    print (a,b,c), '-->', result\n",
    "    #Warning: The order is important, let r1 be the biggest root.\n",
    "    assert result == (r1, r2), ('Expected:' + str((r1,r2)) +\n",
    "                                'Result is: ' + str(result))  \n",
    "    assert isinstance(result[0], float), 'Expected float root'\n",
    "    assert isinstance(result[1], float), 'Expected float root'\n",
    "\n",
    "def tests_roots_complex():\n",
    "    \"\"\"Test with complex roots\"\"\"\n",
    "    r1 = 1.0 + 1.0j\n",
    "    r2 = 1.0 - 1.0j\n",
    "   # x^2 - (r1+r2)x + r1*r2 = 0\n",
    "    \n",
    "    a = 1\n",
    "    b = -(r1 + r2)\n",
    "    c = r1*r2\n",
    "    result = roots(a, b, c)\n",
    "    print '(a,b,c) --> (x1,x2):'\n",
    "    print (a,b,c), '-->', result\n",
    "    print type(result[0])\n",
    "    assert result == (r1, r2), ('Expected:' + str((r1,r2)) +\n",
    "                                'Result is: ' + str(result))\n",
    "    assert isinstance(result[0], complex), 'Expected complex root'\n",
    "    assert isinstance(result[1], complex), 'Expected complex root'\n",
    "# NB!: The main shall always be the last\n",
    "if __name__=='__main__':\n",
    "    \"\"\"If this python script is run directly\"\"\"\n",
    "    main()  \n"
   ]
  },
  {
   "cell_type": "code",
   "execution_count": 73,
   "metadata": {
    "collapsed": false
   },
   "outputs": [
    {
     "name": "stdout",
     "output_type": "stream",
     "text": [
      "Area of triangle is 1.00\n",
      "Test success the imput triangle points [(0, 0), (3, 0), (0, 3)] result is 4.5\n"
     ]
    },
    {
     "data": {
      "text/plain": [
       "'\\nOutput:\\nArea of triangle is 1.00\\nTest success the imput triangle points [(0, 0), (3, 0), (0, 3)] result is 4.5\\n'"
      ]
     },
     "execution_count": 73,
     "metadata": {},
     "output_type": "execute_result"
    }
   ],
   "source": [
    "# Area Triangle\n",
    " \n",
    "def main():\n",
    "    triangle1 = area([[0,0], [1,0], [0,2]])\n",
    "    v1 = (0,0); v2 = (1,0); v3 = (0,2)\n",
    "    vertices = [v1, v2, v3]\n",
    "    triangle1 = area(vertices)   \n",
    "    print 'Area of triangle is %.2f' % triangle1\n",
    "    test_area()\n",
    "    \n",
    "def area(vertices):\n",
    "    v0 = vertices[0]\n",
    "    v1 = vertices[1]\n",
    "    v2 = vertices[2]\n",
    "    result = 0.5 * abs(v1[0]*v2[1]-v2[1]*v1[1]\n",
    "                       - v0[0]*v2[1] + v2[0]*v0[1]+v0[0]*v1[1]\n",
    "                       - v1[0]*v0[1])\n",
    "    return result\n",
    "   \n",
    "def test_area():\n",
    "    v1 = (0,0); v2 = (3,0); v3 = (0,3)\n",
    "    vertices = [v1, v2, v3]\n",
    "    area_triangle1 = area(vertices)\n",
    "    expected_area_triangle1 = 4.5\n",
    "    assert expected_area_triangle1 == area_triangle1, 'error wrong area'\n",
    "    print 'Test success the imput triangle points', vertices, 'result is', area_triangle1\n",
    "if __name__ == \"__main__\":\n",
    "    main()\n",
    "    \n",
    "\"\"\"\n",
    "Output:\n",
    "Area of triangle is 1.00\n",
    "Test success the imput triangle points [(0, 0), (3, 0), (0, 3)] result is 4.5\n",
    "\"\"\""
   ]
  },
  {
   "cell_type": "code",
   "execution_count": 74,
   "metadata": {
    "collapsed": false
   },
   "outputs": [
    {
     "name": "stdout",
     "output_type": "stream",
     "text": [
      "xstep: 1.81818181818 min,max -10 10\n",
      "----------------\n",
      "    x      f(x)\n",
      "----------------\n",
      "-10.00  0.000001\n",
      " -8.18  0.000066\n",
      " -6.36  0.001787\n",
      " -4.55  0.021319\n",
      " -2.73  0.111329\n",
      " -0.91  0.254408\n",
      "  0.91  0.254408\n",
      "  2.73  0.111329\n",
      "  4.55  0.021319\n",
      "  6.36  0.001787\n",
      "  8.18  0.000066\n",
      " 10.00  0.000001\n",
      "----------------\n"
     ]
    },
    {
     "data": {
      "text/plain": [
       "'Output:\\nxstep: 1.81818181818 min,max -10 10\\n----------------\\n    x      f(x)\\n----------------\\n-10.00  0.000001\\n -8.18  0.000066\\n -6.36  0.001787\\n -4.55  0.021319\\n -2.73  0.111329\\n -0.91  0.254408\\n  0.91  0.254408\\n  2.73  0.111329\\n  4.55  0.021319\\n  6.36  0.001787\\n  8.18  0.000066\\n 10.00  0.000001\\n----------------\\n'"
      ]
     },
     "execution_count": 74,
     "metadata": {},
     "output_type": "execute_result"
    }
   ],
   "source": [
    "#Gaussian2\n",
    "# Exercise 3.16 Implement a gaussian function\n",
    "\n",
    "\n",
    "import pylab\n",
    "import numpy as np\n",
    "import math\n",
    "\n",
    "def main():\n",
    "    table = gaussian_table(n=12)\n",
    "    print_table(table)\n",
    "    \n",
    "def gaussian(x, m=0, s=2):\n",
    "    f = 1/math.sqrt(2*np.pi*s) * math.exp(-.5*((x-m)/s)**2.0)\n",
    "    return f\n",
    "\n",
    "def gaussian_table(m=0, s=2, n=10):\n",
    "    table = np.zeros((n,2))\n",
    "    xmin = m - 5*s\n",
    "    xmax = m + 5*s\n",
    "    xstep = (xmax - xmin) / float(n-1)\n",
    "    print \"xstep:\", xstep, \"min,max\", xmin, xmax\n",
    "    for index in range(n):\n",
    "        x = xmin + xstep*index\n",
    "        f = gaussian(x, m=m, s=s)\n",
    "        table[index, :] = [x, f]\n",
    "        #print index\n",
    "    return table\n",
    "    \n",
    "def print_table(table):\n",
    "    print \"----------------\"\n",
    "    print \"    x      f(x)\"\n",
    "    print \"----------------\"    \n",
    "    for i in range(len(table)):\n",
    "        print \"%6.2f  %6.6f\" % (table[i,0],table[i,1])\n",
    "    print \"----------------\" \n",
    "    \n",
    "if __name__ == \"__main__\":\n",
    "    main()\n",
    "\n",
    "\"\"\"Output:\n",
    "xstep: 1.81818181818 min,max -10 10\n",
    "----------------\n",
    "    x      f(x)\n",
    "----------------\n",
    "-10.00  0.000001\n",
    " -8.18  0.000066\n",
    " -6.36  0.001787\n",
    " -4.55  0.021319\n",
    " -2.73  0.111329\n",
    " -0.91  0.254408\n",
    "  0.91  0.254408\n",
    "  2.73  0.111329\n",
    "  4.55  0.021319\n",
    "  6.36  0.001787\n",
    "  8.18  0.000066\n",
    " 10.00  0.000001\n",
    "----------------\n",
    "\"\"\""
   ]
  },
  {
   "cell_type": "code",
   "execution_count": 75,
   "metadata": {
    "collapsed": false
   },
   "outputs": [
    {
     "name": "stdout",
     "output_type": "stream",
     "text": [
      "x is: -10 and H(x) is 0\n",
      "Expected result: 0\n",
      "x is: -1e-15 and H(x) is 0\n",
      "Expected result: 0\n",
      "x is: 0 and H(x) is 1\n",
      "Expected result: 1\n",
      "x is: 1e-15 and H(x) is 1\n",
      "Expected result: 1\n",
      "x is: 10 and H(x) is 1\n",
      "Expected result: 1\n",
      "All tests completed without error\n",
      "                           ,---.\n",
      "                          /    |\n",
      "                         /     |\n",
      "                        /      |\n",
      "                       /       |\n",
      "                  ___,'        |\n",
      "                <  -'          :\n",
      "                 `-.__..--'``-,_\\_\n",
      "                    |o/ <o>` :,.)_`>\n",
      "   Thou shall       :/ `     ||/)\n",
      "    give full       (_.).__,-` |\\\n",
      "     score!         /( `.``   `| :\n",
      "                    \\'`-.)  `  ; ;\n",
      "                    | `       /-<\n",
      "                    |     `  /   `.\n",
      "    ,-_-..____     /|  `    :__..-'\\\n",
      "   /,'-.__\\\\  ``-./ :`      ;       \\\n",
      "   `\\ `\\  `\\\\  \\ :  (   `  /  ,   `. \\\n",
      "     \\` \\   \\\\   |  | `   :  :     .\\ \\\n",
      "      \\ `\\_  ))  :  ;     |  |      ): :\n",
      "     (`-.-'\\ ||  |\\ \\   ` ;  ;       | |\n",
      "      \\-_   `;;._   ( `  /  /_       | |\n",
      "       `-.-.// ,'`-._\\__/_,'         ; |\n",
      "          \\:: :     /     `     ,   /  |\n",
      "           || |    (        ,' /   /   |\n",
      "           ||                ,'   /    |\n",
      "\n"
     ]
    },
    {
     "data": {
      "text/plain": [
       "'Output:\\nx is: -10 and H(x) is 0\\nExpected result: 0\\nx is: -1e-15 and H(x) is 0\\nExpected result: 0\\nx is: 0 and H(x) is 1\\nExpected result: 1\\nx is: 1e-15 and H(x) is 1\\nExpected result: 1\\nx is: 10 and H(x) is 1\\nExpected result: 1\\n'"
      ]
     },
     "execution_count": 75,
     "metadata": {},
     "output_type": "execute_result"
    }
   ],
   "source": [
    "# Ec 3.23 Heaviside\n",
    "\n",
    "#Exercise 3.23 Implement the Heaviside function\n",
    "\n",
    "import numpy as np\n",
    "import re\n",
    "\n",
    "def main():\n",
    "    test_heaviside()\n",
    "    \n",
    "def heaviside(x):\n",
    "    if (x < 0):\n",
    "        return 0\n",
    "    else:\n",
    "        return 1\n",
    "\n",
    "def test_heaviside():\n",
    "    test_data = [-10, -10**-15, 0, 10**-15, 10]\n",
    "    expected_result = [0, 0, 1, 1, 1]    \n",
    "    for i, x in enumerate(test_data):    \n",
    "        print \"x is:\", x, \"and H(x) is\", heaviside(x)\n",
    "        print \"Expected result:\", expected_result[i]\n",
    "        assert expected_result[i] == heaviside(x), \"Heaviside error\"\n",
    "    print \"All tests completed without error\"\n",
    "    print easteregg(s1)\n",
    "\n",
    "def easteregg(charcode):\n",
    "    regexp = re.compile(r'(\\d\\d)(.)', re.DOTALL)\n",
    "    last_pos = 0\n",
    "    outstring = ''\n",
    "    for m in regexp.finditer(charcode):\n",
    "        index = int(m.groups()[0])\n",
    "        char = m.groups()[1]\n",
    "        outstring += (index-last_pos)*' ' + char\n",
    "        last_pos = index+1\n",
    "        if char == '\\n': \n",
    "            last_pos = 0\n",
    "    return outstring\n",
    "\n",
    "s1 = \"27,28-29-30-31.32\\n26/31|32\\n25/31|32\\n24/31|32\\n23/31|32\\n18_19_20_21,22'31|32\\n16<19-20'31:32\\n17`18-19.20_21_22.23.24-25-26'27`28`29-30,31_32\\\\33_34\\n20|21o22/24<25o26>27`29:30,31.32)33_34`35>36\\n03T04h05o06u08s09h10a11l12l20:21/23`29|30|31/32)33\\n04g05i06v07e09f10u11l12l20(21_22.23)24.25_26_27,28-29`31|32\\\\33\\n05s06c07o08r09e10!20/21(23`24.25`26`30`31|33:34\\n20\\\\21'22`23-24.25)28`31;33;34\\n20|22`30/31-32<33\\n20|26`29/33`34.35\\n04,05-06_07-08.09.10_11_12_13_19/20|23`28:29_30_31.32.33-34'35\\\\36\\n03/04,05'06-07.08_09_10\\\\11\\\\14`15`16-17.18/20:21`28;36\\\\37\\n03`04\\\\06`07\\\\10`11\\\\12\\\\15\\\\17:20(24`27/30,34`35.37\\\\38\\n05\\\\06`08\\\\12\\\\13\\\\17|20|22`26:29:35.36\\\\38\\\\39\\n06\\\\08`09\\\\10_13)14)17:20;26|29|36)37:39:40\\n05(06`07-08.09-10'11\\\\13|14|17|18\\\\20\\\\24`26;29;37|39|40\\n06\\\\07-08_12`13;14;15.16_20(22`25/28/29_37|39|40\\n07`08-09.10-11.12/13/15,16'17`18-19.20_21\\\\22_23_24/25_26,27'37;39|40\\n10\\\\11:12:14:20/26`32,36/39|40\\n11|12|14|19(28,29'31/35/39|40\\n11|12|29,30'34/39|40\\n\"\n",
    "            \n",
    "if __name__ == \"__main__\":\n",
    "    main()\n",
    "\n",
    "\"\"\"Output:\n",
    "x is: -10 and H(x) is 0\n",
    "Expected result: 0\n",
    "x is: -1e-15 and H(x) is 0\n",
    "Expected result: 0\n",
    "x is: 0 and H(x) is 1\n",
    "Expected result: 1\n",
    "x is: 1e-15 and H(x) is 1\n",
    "Expected result: 1\n",
    "x is: 10 and H(x) is 1\n",
    "Expected result: 1\n",
    "\"\"\""
   ]
  },
  {
   "cell_type": "code",
   "execution_count": null,
   "metadata": {
    "collapsed": true
   },
   "outputs": [],
   "source": [
    "# Chapter 4 on User input and error handling"
   ]
  },
  {
   "cell_type": "code",
   "execution_count": 76,
   "metadata": {
    "collapsed": false
   },
   "outputs": [
    {
     "ename": "IOError",
     "evalue": "[Errno 2] No such file or directory: 'Fdeg.dat'",
     "output_type": "error",
     "traceback": [
      "\u001b[1;31m---------------------------------------------------------------------------\u001b[0m",
      "\u001b[1;31mIOError\u001b[0m                                   Traceback (most recent call last)",
      "\u001b[1;32m<ipython-input-76-206b6d239f28>\u001b[0m in \u001b[0;36m<module>\u001b[1;34m()\u001b[0m\n\u001b[0;32m      1\u001b[0m \u001b[1;31m#Ex4. f2c Read Write\u001b[0m\u001b[1;33m\u001b[0m\u001b[1;33m\u001b[0m\u001b[0m\n\u001b[0;32m      2\u001b[0m \u001b[1;33m\u001b[0m\u001b[0m\n\u001b[1;32m----> 3\u001b[1;33m \u001b[0minfile\u001b[0m \u001b[1;33m=\u001b[0m \u001b[0mopen\u001b[0m\u001b[1;33m(\u001b[0m\u001b[1;34m'Fdeg.dat'\u001b[0m\u001b[1;33m,\u001b[0m\u001b[1;34m'r'\u001b[0m\u001b[1;33m)\u001b[0m\u001b[1;33m\u001b[0m\u001b[0m\n\u001b[0m\u001b[0;32m      4\u001b[0m \u001b[1;33m\u001b[0m\u001b[0m\n\u001b[0;32m      5\u001b[0m \"\"\"Newbie version, repeated calls to readline()\n",
      "\u001b[1;31mIOError\u001b[0m: [Errno 2] No such file or directory: 'Fdeg.dat'"
     ]
    }
   ],
   "source": [
    "#Ex4. f2c Read Write\n",
    "\n",
    "infile = open('Fdeg.dat','r')\n",
    "\n",
    "\"\"\"Newbie version, repeated calls to readline()\n",
    "infile.readline()\n",
    "infile.readline()\n",
    "infile.readline()\n",
    "\"\"\"\n",
    "\n",
    "#Pro version, for-loop\n",
    "for i in range(3):\n",
    "    infile.readline()\n",
    "\n",
    "#read line by line, extract last word, convert and store in list:\n",
    "F = []\n",
    "for line in infile:\n",
    "    words = line.split()\n",
    "    F_ = float(words[-1])\n",
    "    F.append(F_)\n",
    "\n",
    "\"\"\"Alternative (pro) version, read all lines\n",
    "into list and then slice, no need for readline() to skip lines:\n",
    "lines = infile.readlines() \n",
    "for line in lines[3:]:\n",
    "    words = line.split()\n",
    "    F_ = float(words[-1])\n",
    "    F.append(F_)\n",
    "\"\"\"\n",
    "\n",
    "\"\"\"Alternative 1: for loop for producing list of C values:\n",
    "C = []\n",
    "for F_ in F:\n",
    "    C_ = (F_-32)*5./9\n",
    "    C.append(C_)\n",
    "\"\"\"\n",
    "\n",
    "#Alternative 2: list comprehension\n",
    "C = [(F_-32)*5./9 for F_ in F] \n",
    "\n",
    "#Print F,C to screen first to check output:\n",
    "for F_,C_ in zip(F,C):\n",
    "    print \"%6.2f %6.2f\" %(F_, C_)\n",
    "\n",
    "#Print to file:\n",
    "outfile = open('out.txt', 'w')\n",
    "for F_,C_ in zip(F,C):\n",
    "    line = \"%6.2f %6.2f\" %(F_, C_)\n",
    "    outfile.write(line+'\\n')\n",
    "\n",
    "\"\"\"\n",
    "Terminal> python f2c_file_read_write.py \n",
    " 67.20  19.56\n",
    " 66.00  18.89\n",
    " 78.90  26.06\n",
    "102.10  38.94\n",
    " 32.00   0.00\n",
    " 87.80  31.00\n",
    "Terminal> more out.txt\n",
    " 67.20  19.56\n",
    " 66.00  18.89\n",
    " 78.90  26.06\n",
    "102.10  38.94\n",
    " 32.00   0.00\n",
    " 87.80  31.00\n",
    "\"\"\"\n",
    "\n",
    "\n",
    "\n",
    "\n",
    "\n",
    "\"\"\"\n",
    "\n",
    "line = infile.readline()\n",
    "words = line.split()\n",
    "\n",
    "F = float(words[-1])\n",
    "C = (F-32)*5./9\n",
    "\n",
    "print \"%g degrees F is %g degrees C\" %(F,C)\n",
    "\n",
    "\"\"\""
   ]
  },
  {
   "cell_type": "code",
   "execution_count": 77,
   "metadata": {
    "collapsed": false
   },
   "outputs": [
    {
     "ename": "SyntaxError",
     "evalue": "invalid syntax (<ipython-input-77-88a6dc399449>, line 3)",
     "output_type": "error",
     "traceback": [
      "\u001b[1;36m  File \u001b[1;32m\"<ipython-input-77-88a6dc399449>\"\u001b[1;36m, line \u001b[1;32m3\u001b[0m\n\u001b[1;33m    mport sys\u001b[0m\n\u001b[1;37m            ^\u001b[0m\n\u001b[1;31mSyntaxError\u001b[0m\u001b[1;31m:\u001b[0m invalid syntax\n"
     ]
    }
   ],
   "source": [
    "# ex 4 f2c cml exe\n",
    "\n",
    "import sys\n",
    "\n",
    "try:\n",
    "    F = float(sys.argv[1])\n",
    "except IndexError:\n",
    "    print \"Fahrenheit temperature must be provided as command line argument.\"\n",
    "    sys.exit(1)\n",
    "except ValueError:\n",
    "    print \"The temperature must be give as a pure number.\"\n",
    "    sys.exit(1)\n",
    "\n",
    "C = (F-32)*5./9\n",
    "\n",
    "\n",
    "print \"%g degrees Fahrenheit is %g Celsius.\" %(F,C)\n",
    "\n",
    "\"\"\"\n",
    "Terminal> python f2c_cml_exc.py 10.0\n",
    "10 degrees Fahrenheit is -12.2222 Celsius.\n",
    "\n",
    "Terminal> python f2c_cml_exc.py \n",
    "Fahrenheit temperature must be provided as command line argument.\n",
    "\n",
    "Terminal> python f2c_cml_exc.py 37f\n",
    "The temperature must be give as a pure number.\n",
    "\"\"\"\n"
   ]
  },
  {
   "cell_type": "code",
   "execution_count": 78,
   "metadata": {
    "collapsed": false
   },
   "outputs": [
    {
     "name": "stdout",
     "output_type": "stream",
     "text": [
      "First command line argument must be a number.\n"
     ]
    },
    {
     "ename": "SystemExit",
     "evalue": "1",
     "output_type": "error",
     "traceback": [
      "An exception has occurred, use %tb to see the full traceback.\n",
      "\u001b[1;31mSystemExit\u001b[0m\u001b[1;31m:\u001b[0m 1\n"
     ]
    },
    {
     "name": "stderr",
     "output_type": "stream",
     "text": [
      "To exit: use 'exit', 'quit', or Ctrl-D.\n"
     ]
    }
   ],
   "source": [
    "# Convert temp\n",
    "\n",
    "def C2F(c):\n",
    "    return c*9./5 +32\n",
    "\n",
    "def F2C(f):\n",
    "    return (f-32)*5./9\n",
    "\n",
    "def C2K(c):\n",
    "    return c+ 273.15\n",
    "\n",
    "def K2C(k):\n",
    "    return k-273.15\n",
    "\n",
    "def F2K(f):\n",
    "    return C2K(F2C(f))\n",
    "\n",
    "def K2F(k):\n",
    "    return C2F(K2C(k))\n",
    "\n",
    "def conversion_cml():\n",
    "    import sys\n",
    "    try:\n",
    "        value = float(sys.argv[1])\n",
    "        scale = sys.argv[2]\n",
    "    except ValueError:\n",
    "        print \"First command line argument must be a number.\"\n",
    "        sys.exit(1)\n",
    "\n",
    "    if scale == 'C' or scale == 'c':\n",
    "        F = C2F(value)\n",
    "        K = C2K(value)\n",
    "        print \"%g degrees Celsius is %g Fahrenheit and %g Kelvin\" %(value, F,K)\n",
    "    elif scale.lower() == 'k': #simpler than checking for k and K\n",
    "        F = K2F(value)\n",
    "        C = K2C(value)\n",
    "        print \"%g degrees Kelvin is %g Fahrenheit and %g Celsius\" %(value, F,C)\n",
    "    elif scale.lower() == 'f':\n",
    "        C = F2C(value)\n",
    "        K = F2K(value)\n",
    "        print \"%g degrees Fahrenheit is %g Celsius and %g Kelvin\" %(value, C, K)\n",
    "    else:\n",
    "        print \"Unknown temperature scale, should be C, K, or F.\"\n",
    "        sys.exit(1)\n",
    "\n",
    "\n",
    "def test_conversion():\n",
    "    f = 100.0\n",
    "    c = 20.0\n",
    "    tol = 1e-13\n",
    "\n",
    "    success0 = abs(f - C2F(F2C(f))) < tol\n",
    "    success1 = abs(c - K2C(C2K(c))) < tol\n",
    "    success2 = abs(f - K2F(F2K(f))) < tol\n",
    "    success = success0 and success1 and success2   \n",
    "    assert success\n",
    "\n",
    "\n",
    "if __name__ == \"__main__\":\n",
    "    import sys\n",
    "    if len(sys.argv) == 2 and sys.argv[1] == 'verify':\n",
    "        test_conversion()\n",
    "    elif len(sys.argv) > 2:\n",
    "       conversion_cml()\n",
    "    else:\n",
    "        print \"Command line arguments should be either 'verify'\\nor a number followed by a temperature scale.\"\n",
    "\n",
    "\"\"\"\n",
    "Terminal> python convert_temp.py\n",
    "Command line arguments should be either 'verify'\n",
    "or a number followed by a temperature scale.\n",
    "Terminal> python convert_temp.py verify\n",
    "Terminal> python convert_temp.py 21 C\n",
    "21 degrees Celsius is 69.8 Fahrenheit and 294.15 Kelvin\n",
    "\"\"\"\n",
    "\n",
    "\n",
    "       "
   ]
  },
  {
   "cell_type": "code",
   "execution_count": 79,
   "metadata": {
    "collapsed": false
   },
   "outputs": [
    {
     "ename": "ValueError",
     "evalue": "could not convert string to float: -f",
     "output_type": "error",
     "traceback": [
      "\u001b[1;31m---------------------------------------------------------------------------\u001b[0m",
      "\u001b[1;31mValueError\u001b[0m                                Traceback (most recent call last)",
      "\u001b[1;32m<ipython-input-79-87ca608617ad>\u001b[0m in \u001b[0;36m<module>\u001b[1;34m()\u001b[0m\n\u001b[0;32m     12\u001b[0m \u001b[1;33m\u001b[0m\u001b[0m\n\u001b[0;32m     13\u001b[0m \u001b[1;32mtry\u001b[0m\u001b[1;33m:\u001b[0m\u001b[1;33m\u001b[0m\u001b[0m\n\u001b[1;32m---> 14\u001b[1;33m     \u001b[0mt\u001b[0m \u001b[1;33m=\u001b[0m \u001b[0mfloat\u001b[0m\u001b[1;33m(\u001b[0m\u001b[0msys\u001b[0m\u001b[1;33m.\u001b[0m\u001b[0margv\u001b[0m\u001b[1;33m[\u001b[0m\u001b[1;36m1\u001b[0m\u001b[1;33m]\u001b[0m\u001b[1;33m)\u001b[0m\u001b[1;33m\u001b[0m\u001b[0m\n\u001b[0m\u001b[0;32m     15\u001b[0m     \u001b[0mv_0\u001b[0m \u001b[1;33m=\u001b[0m \u001b[0mfloat\u001b[0m\u001b[1;33m(\u001b[0m\u001b[0msys\u001b[0m\u001b[1;33m.\u001b[0m\u001b[0margv\u001b[0m\u001b[1;33m[\u001b[0m\u001b[1;36m2\u001b[0m\u001b[1;33m]\u001b[0m\u001b[1;33m)\u001b[0m\u001b[1;33m\u001b[0m\u001b[0m\n\u001b[0;32m     16\u001b[0m     \u001b[1;32mprint\u001b[0m \u001b[1;34m\"You hav given\"\u001b[0m\u001b[1;33m,\u001b[0m \u001b[0mlen\u001b[0m\u001b[1;33m(\u001b[0m\u001b[0msys\u001b[0m\u001b[1;33m.\u001b[0m\u001b[0margv\u001b[0m\u001b[1;33m)\u001b[0m\u001b[1;33m,\u001b[0m \u001b[1;34m\"arguments.\"\u001b[0m\u001b[1;33m\u001b[0m\u001b[0m\n",
      "\u001b[1;31mValueError\u001b[0m: could not convert string to float: -f"
     ]
    }
   ],
   "source": [
    "# Ball cml qa\n",
    "\"\"\"\n",
    "Exercise 4.11: \n",
    "The program from Exercise 4.10 reads input from the command line. Extend\n",
    "that program with exception handling such that missing commandline\n",
    "arguments are detected. In the except IndexError block, use the\n",
    "raw_input function to ask the user for missing input data.\n",
    "Husk: det vi skal vise er at det er riktig antall argumenter inn i funksjonen. \n",
    "(typ om det er for få)\n",
    "\"\"\"\n",
    "import sys\n",
    "\n",
    "try:\n",
    "    t = float(sys.argv[1])\n",
    "    v_0 = float(sys.argv[2])\n",
    "    print \"You hav given\", len(sys.argv), \"arguments.\"\n",
    "except IndexError as e:\n",
    "    print \"Not enough argumenets given, please give manually:\"\n",
    "    t = raw_input(\"t = \")\n",
    "    v_0 = raw_input(\"v_0 = \")\n",
    "\n",
    "# At this point we are sure that we have two values.\n",
    "# Want to convert them to floats.\n",
    "                \n",
    "try:\n",
    "    t = float(t)\n",
    "    v_0 = float(v_0)\n",
    "except ValueError as e:\n",
    "    print \"\\nNot a number\\n\", e\n",
    "    sys.exit(1)\n",
    "\n",
    "\n",
    "def y_t(g, t, v_0):\n",
    "    y = v_0*t - 0.5*g*t**2\n",
    "    return y\n",
    "\n",
    "g = 9.81\n",
    "print \"The solution for y is \", y_t(g, t, v_0)\n",
    "\n",
    "\"\"\"\n",
    "Output without arguments:\n",
    "\n",
    "Not enough argumenets given, please give manually:\n",
    "t = v_0 = The solution for y is  -32.145\n",
    "\n",
    "Output with too few arguments:\n",
    "\n",
    "C:\\Users\\NBCNO1\\Documents\\Studies\\python>python ball_cml_qa.py 3\n",
    "Not enough argumenets given, please give manually:\n",
    "t = 3\n",
    "v_0 = 4\n",
    "The solution for y is  -32.145\n",
    "\n",
    "Output when argument is not a number:\n",
    "\n",
    "C:\\Users\\NBCNO1\\Documents\\Studies\\python>python ball_cml_qa.py 3\n",
    "Not enough argumenets given, please give manually:\n",
    "t = hei\n",
    "v_0 = 3\n",
    "\n",
    "Not a number\n",
    "could not convert string to float: hei\n",
    "\"\"\""
   ]
  },
  {
   "cell_type": "code",
   "execution_count": 80,
   "metadata": {
    "collapsed": false
   },
   "outputs": [
    {
     "ename": "ValueError",
     "evalue": "could not convert string to float: -f",
     "output_type": "error",
     "traceback": [
      "\u001b[1;31m---------------------------------------------------------------------------\u001b[0m",
      "\u001b[1;31mValueError\u001b[0m                                Traceback (most recent call last)",
      "\u001b[1;32m<ipython-input-80-4ea802c2e55c>\u001b[0m in \u001b[0;36m<module>\u001b[1;34m()\u001b[0m\n\u001b[0;32m     54\u001b[0m \u001b[1;33m\u001b[0m\u001b[0m\n\u001b[0;32m     55\u001b[0m \u001b[1;32mif\u001b[0m \u001b[0m__name__\u001b[0m \u001b[1;33m==\u001b[0m \u001b[1;34m'__main__'\u001b[0m\u001b[1;33m:\u001b[0m\u001b[1;33m\u001b[0m\u001b[0m\n\u001b[1;32m---> 56\u001b[1;33m     \u001b[0mmain\u001b[0m\u001b[1;33m(\u001b[0m\u001b[1;33m)\u001b[0m\u001b[1;33m\u001b[0m\u001b[0m\n\u001b[0m\u001b[0;32m     57\u001b[0m \u001b[1;33m\u001b[0m\u001b[0m\n\u001b[0;32m     58\u001b[0m \u001b[1;33m\u001b[0m\u001b[0m\n",
      "\u001b[1;32m<ipython-input-80-4ea802c2e55c>\u001b[0m in \u001b[0;36mmain\u001b[1;34m()\u001b[0m\n\u001b[0;32m      7\u001b[0m \u001b[1;33m\u001b[0m\u001b[0m\n\u001b[0;32m      8\u001b[0m     \u001b[1;32mtry\u001b[0m\u001b[1;33m:\u001b[0m\u001b[1;33m\u001b[0m\u001b[0m\n\u001b[1;32m----> 9\u001b[1;33m         \u001b[0mt\u001b[0m \u001b[1;33m=\u001b[0m \u001b[0mfloat\u001b[0m\u001b[1;33m(\u001b[0m\u001b[0msys\u001b[0m\u001b[1;33m.\u001b[0m\u001b[0margv\u001b[0m\u001b[1;33m[\u001b[0m\u001b[1;36m1\u001b[0m\u001b[1;33m]\u001b[0m\u001b[1;33m)\u001b[0m\u001b[1;33m\u001b[0m\u001b[0m\n\u001b[0m\u001b[0;32m     10\u001b[0m         \u001b[0mv_0\u001b[0m \u001b[1;33m=\u001b[0m \u001b[0mfloat\u001b[0m\u001b[1;33m(\u001b[0m\u001b[0msys\u001b[0m\u001b[1;33m.\u001b[0m\u001b[0margv\u001b[0m\u001b[1;33m[\u001b[0m\u001b[1;36m2\u001b[0m\u001b[1;33m]\u001b[0m\u001b[1;33m)\u001b[0m\u001b[1;33m\u001b[0m\u001b[0m\n\u001b[0;32m     11\u001b[0m         \u001b[1;32mprint\u001b[0m \u001b[1;34m\"You hav given\"\u001b[0m\u001b[1;33m,\u001b[0m \u001b[0mlen\u001b[0m\u001b[1;33m(\u001b[0m\u001b[0msys\u001b[0m\u001b[1;33m.\u001b[0m\u001b[0margv\u001b[0m\u001b[1;33m)\u001b[0m\u001b[1;33m,\u001b[0m \u001b[1;34m\"arguments.\"\u001b[0m\u001b[1;33m\u001b[0m\u001b[0m\n",
      "\u001b[1;31mValueError\u001b[0m: could not convert string to float: -f"
     ]
    }
   ],
   "source": [
    "# Ball cml tcheck\n",
    "import re\n",
    "import sys\n",
    "\n",
    "g = 9.81\n",
    "def main():\n",
    "        \n",
    "    try:\n",
    "        t = float(sys.argv[1])\n",
    "        v_0 = float(sys.argv[2])\n",
    "        print \"You hav given\", len(sys.argv), \"arguments.\"\n",
    "    except IndexError as e:\n",
    "        print \"Not enough argumenets given, please give manually:\"\n",
    "        t = raw_input(\"t = \")\n",
    "        v_0 = raw_input(\"v_0 = \")\n",
    "    \n",
    "    # At this point we are sure that we have two values.\n",
    "    # Want to convert them to floats.\n",
    "                    \n",
    "    try:\n",
    "        t = float(t)\n",
    "        v_0 = float(v_0)\n",
    "    except ValueError as e:\n",
    "        print \"\\nNot a number\\n\", e\n",
    "        sys.exit(1)\n",
    "    \n",
    "    # Check range of input\n",
    "    if t > (2*v_0)/g or t < 0:\n",
    "        print 't out of range'\n",
    "        print easteregg(s2)\n",
    "        print 'Exceptions? This is an exception.'        \n",
    "        sys.exit(1)\n",
    "        \n",
    "    print \"The solution for y is \", y_t(g, t, v_0)\n",
    "\n",
    "def y_t(g, t, v_0):\n",
    "    y = v_0*t - 0.5*g*t**2\n",
    "    return y\n",
    "\n",
    "def easteregg(charcode):\n",
    "    regexp = re.compile(r'(\\d\\d)(.)', re.DOTALL)\n",
    "    last_pos = 0\n",
    "    outstring = ''\n",
    "    for m in regexp.finditer(charcode):\n",
    "        index = int(m.groups()[0])\n",
    "        char = m.groups()[1]\n",
    "        outstring += (index-last_pos)*' ' + char\n",
    "        last_pos = index+1\n",
    "        if char == '\\n': \n",
    "            last_pos = 0\n",
    "    return outstring\n",
    "\n",
    "s2 = '31o32\\n29o30$31$38o39o40\\n17$18o28o29$31$37o38$39\\n15$18$28$29\"31$36o37$42o43o44o45\\n15$16o18\"19$27o28\"31$36$37\"41o42$43\"44\"45\\n15$16\"19\"20o26o27$31$35o40o41\"42\\n15$20$26$27$31$35$39o40\"41\\n15$16$21$25$26$27\"32$34$35\"38$39\"47o48o50\"51\\n07$11o15$16$22o23o24\"25$32\"34\"38$39o41o42o43o44o45\"46\"47\"51o52o53o54\\n08$12\"13o15$16$23\"26o27o35o36o39\"40\"41\"47o48o49\"50\"51\"52\\n09$13\"14$15$16$24o25\"28\"34\"37\"44o46\"47\\n09$10$44\"45o46o47o48o49o50\\n01o10$36o37o38o47\"48\"49\"50\"51\"52\"53o54o55o56o57\\n02\"03o10$22o23o24o28o33o34\"39\"40\"41\\n00o04\"05o06o10\"20o21\"29\"30o32\"41\"42o48o49o50o51o52\\n01\"02o06\"07\"18o19\"30$42\"43\\n03\"04o05o17o18\"30$31$43$49$50$51$52$53\"54\"55\\n01o02o03o04o05\"17$27o28o30$33o34o43$51\"52\"53\"54\"55\\n01o02o03o04o05o09\"17$26$27\"28$30$32o33\"34$35$43$47o48o49o50o51o52o53o54\\n00\"01\"02\"05\"06$08\"17$26\"27$28\"30$32$33$34\"43\"47$48$49\"50\"51\"52\"53\\n03o04o06$17\"18o29o30$32\"33\"42o47$48$49o50o51o52\\n01o02$03\"04\"05\"06\"07\"18\"19o30\"31o41o47\"48\"49\"50\"51\"52$53\\n01$02$21\"22o23o24o25o26o27$33o39o52$53\\n01\"02$25$32$33o34\"35\"37\"38\"52$53\\n03\"04o09o27o31o32$33\"51\"52\\n05\"06\"07o08o09$10o28\"29\"30\"31\"45$46o47o48o49\"50\\n10\"11o12o44o45$46\"47\\n12\"13o14o42o43o44\"45\\n14\"15\"16o17o26\"27\"28\"39o40o41\"42\"43\\n17\"18\"19\"21o22o35o38\"39\"40\\n22o23\"24$25\"27o28o29o30o32\"33\"34\"35\\n21o22\"26$27\"28\"29\"30\"31\"33o34\\n21$22o26o27$33$34o35\\n20o21$22o23o24o27$28o29o30o31o32o33$34\"35\\n20$21\"27$35\"36\\n20$21\"22\"23\"24\"25\"27$28\"29\"30\"31\"32\"33\"34$35\\n20\"21o22$23$24\"25\"26$27$28o29o30o31o32o33o34$35o36$37\\n21o22\"23$26$35$36\\n21$22o23$26$27\"28\"29\"30\"32\"35$36$37\\n16o21\"26$31\"32\"33\"34\"35\"36$37\\n16$17o18o26$27o28o29o30o31o32o33o36$37\\n17$18\"19\"22o25o26\"36\"37$38\\n17$18$19\"20\"21$22$23$24$25$26$27$28$29$30$31$32$33$34o35$36$37$38\\n20o21$22$23$24$25$26$27$28$29$30$31$32$33$34$35$36$37$40o41\\n16o17o18o19$20\"21\"22$23$24$25$26$27\"28\"29\"30\"31\"32\"33\"34$35$36\"37\"38\"39\"40\"41\"42\"43\"44o45\\n15$16\"17\"18$19o20o21o22o23$24$25$35$45$46o47\\n10\"11\"12\"13\"14\"15$16o34o35\"44o45\"46\"47\"48\\n15\"16\"17$18$19o20o21o22o23o24o25o26o27o28o29o30o31o32o33\"34\"35\"37o38o39o40$41$42\"43\"44\"45\\n22\"23\"24\"25\"26\"27\"28\"29\"30\"'\n",
    "    \n",
    "if __name__ == '__main__':\n",
    "    main()\n",
    "\n",
    "\n",
    "\"\"\"\n",
    "Output when t > (2*v_0)/g:\n",
    "C:\\Users\\NBCNO1\\Documents\\Studies\\python>python ball_cml_tcheck.py 40 50\n",
    "You hav given 3 arguments.\n",
    "t out of range\n",
    "\n",
    "Output when t < 0:\n",
    "\n",
    "C:\\Users\\NBCNO1\\Documents\\Studies\\python>python ball_cml_tcheck.py -1 3\n",
    "You hav given 3 arguments.\n",
    "t out of range\n",
    "\"\"\""
   ]
  },
  {
   "cell_type": "code",
   "execution_count": 68,
   "metadata": {
    "collapsed": true
   },
   "outputs": [],
   "source": [
    "# HAVE NOT SOLVED BALL FILE READ WRITE\n",
    "# COPYING IN []"
   ]
  },
  {
   "cell_type": "markdown",
   "metadata": {},
   "source": [
    "# CHAPTER 5 on Array computing and curve plotting"
   ]
  },
  {
   "cell_type": "code",
   "execution_count": 81,
   "metadata": {
    "collapsed": false
   },
   "outputs": [
    {
     "data": {
      "text/plain": [
       "'5.3 (fill_arrays_vectorized.py, side 280)\\n5.7 (slicing.py, side 281)\\n5.10 (plot_ball2.py, side 282)\\n5.12 (f2c_shortcut_plot.py, side 282)\\n5.13 (plot_trajectory.py, side 282)\\n5.26 (plot_wavepacket.py, side 290)'"
      ]
     },
     "execution_count": 81,
     "metadata": {},
     "output_type": "execute_result"
    }
   ],
   "source": [
    "\"\"\"5.3 (fill_arrays_vectorized.py, side 280)\n",
    "5.7 (slicing.py, side 281)\n",
    "5.10 (plot_ball2.py, side 282)\n",
    "5.12 (f2c_shortcut_plot.py, side 282)\n",
    "5.13 (plot_trajectory.py, side 282)\n",
    "5.26 (plot_wavepacket.py, side 290)\"\"\""
   ]
  },
  {
   "cell_type": "code",
   "execution_count": 82,
   "metadata": {
    "collapsed": false
   },
   "outputs": [
    {
     "name": "stdout",
     "output_type": "stream",
     "text": [
      "[ 0.   0.1  0.2  0.3  0.4  0.5  0.6  0.7  0.8  0.9  1.   1.1  1.2  1.3  1.4\n",
      "  1.5  1.6  1.7  1.8  1.9  2.   2.1  2.2  2.3  2.4  2.5  2.6  2.7  2.8  2.9\n",
      "  3. ]\n",
      "[ 0.   0.1  0.2  0.3  0.4  0.5  0.6  0.7  0.8  0.9  1.   1.1  1.2  1.3  1.4\n",
      "  1.5  1.6  1.7  1.8  1.9  2.   2.1  2.2  2.3  2.4  2.5  2.6  2.7  2.8]\n",
      "[ 0.   0.5  1.   1.5  2.   2.5  3. ]\n",
      "[ 0.2  0.8  1.4  2.   2.6]\n"
     ]
    },
    {
     "data": {
      "text/plain": [
       "'\\nTerminal> python slicing.py\\n[ 0.   0.1  0.2  0.3  0.4  0.5  0.6  0.7  0.8  0.9  1.   1.1  1.2  1.3  1.4\\n  1.5  1.6  1.7  1.8  1.9  2.   2.1  2.2  2.3  2.4  2.5  2.6  2.7  2.8  2.9\\n  3. ]\\n[ 0.   0.1  0.2  0.3  0.4  0.5  0.6  0.7  0.8  0.9  1.   1.1  1.2  1.3  1.4\\n  1.5  1.6  1.7  1.8  1.9  2.   2.1  2.2  2.3  2.4  2.5  2.6  2.7  2.8]\\n[ 0.   0.5  1.   1.5  2.   2.5  3. ]\\n[ 0.2  0.8  1.4  2.   2.6]\\n'"
      ]
     },
     "execution_count": 82,
     "metadata": {},
     "output_type": "execute_result"
    }
   ],
   "source": [
    "# Exercise 5.7 Slicing\n",
    "\n",
    "\"\"\"\n",
    "General syntax for list and array slicing:\n",
    "w[start:stop]\n",
    "start, stop = integers. Extracts from item start, up to but\n",
    "not including stop.\n",
    "w[start:stop:step]\n",
    "Same as above, but extracts elements with step length 'step'.\n",
    "\"\"\"\n",
    "from numpy import *\n",
    "w = linspace(0,3.0,31)\n",
    "\n",
    "#Extract all elements:\n",
    "print w[:]\n",
    "#All elements, up to but not including second from last:\n",
    "print w[:-2]\n",
    "#Starting from first element, extract every 5th:\n",
    "print w[::5]\n",
    "#Starting with 2nd, extract every 6th element, up to but not including 2nd last:\n",
    "print w[2:-2:6]\n",
    "\n",
    "\"\"\"\n",
    "Terminal> python slicing.py\n",
    "[ 0.   0.1  0.2  0.3  0.4  0.5  0.6  0.7  0.8  0.9  1.   1.1  1.2  1.3  1.4\n",
    "  1.5  1.6  1.7  1.8  1.9  2.   2.1  2.2  2.3  2.4  2.5  2.6  2.7  2.8  2.9\n",
    "  3. ]\n",
    "[ 0.   0.1  0.2  0.3  0.4  0.5  0.6  0.7  0.8  0.9  1.   1.1  1.2  1.3  1.4\n",
    "  1.5  1.6  1.7  1.8  1.9  2.   2.1  2.2  2.3  2.4  2.5  2.6  2.7  2.8]\n",
    "[ 0.   0.5  1.   1.5  2.   2.5  3. ]\n",
    "[ 0.2  0.8  1.4  2.   2.6]\n",
    "\"\"\""
   ]
  },
  {
   "cell_type": "code",
   "execution_count": 83,
   "metadata": {
    "collapsed": false
   },
   "outputs": [
    {
     "ename": "ValueError",
     "evalue": "could not convert string to float: -f",
     "output_type": "error",
     "traceback": [
      "\u001b[1;31m---------------------------------------------------------------------------\u001b[0m",
      "\u001b[1;31mValueError\u001b[0m                                Traceback (most recent call last)",
      "\u001b[1;32m<ipython-input-83-d2c6d3eacd2f>\u001b[0m in \u001b[0;36m<module>\u001b[1;34m()\u001b[0m\n\u001b[0;32m      9\u001b[0m     \u001b[0msys\u001b[0m\u001b[1;33m.\u001b[0m\u001b[0mexit\u001b[0m\u001b[1;33m(\u001b[0m\u001b[1;36m1\u001b[0m\u001b[1;33m)\u001b[0m\u001b[1;33m\u001b[0m\u001b[0m\n\u001b[0;32m     10\u001b[0m \u001b[1;33m\u001b[0m\u001b[0m\n\u001b[1;32m---> 11\u001b[1;33m \u001b[0mv0_list\u001b[0m \u001b[1;33m=\u001b[0m \u001b[1;33m[\u001b[0m\u001b[0mfloat\u001b[0m\u001b[1;33m(\u001b[0m\u001b[0mv0\u001b[0m\u001b[1;33m)\u001b[0m \u001b[1;32mfor\u001b[0m \u001b[0mv0\u001b[0m \u001b[1;32min\u001b[0m \u001b[0msys\u001b[0m\u001b[1;33m.\u001b[0m\u001b[0margv\u001b[0m\u001b[1;33m[\u001b[0m\u001b[1;36m1\u001b[0m\u001b[1;33m:\u001b[0m\u001b[1;33m]\u001b[0m\u001b[1;33m]\u001b[0m\u001b[1;33m\u001b[0m\u001b[0m\n\u001b[0m\u001b[0;32m     12\u001b[0m \u001b[0mg\u001b[0m \u001b[1;33m=\u001b[0m \u001b[1;36m9.81\u001b[0m\u001b[1;33m\u001b[0m\u001b[0m\n\u001b[0;32m     13\u001b[0m \u001b[1;33m\u001b[0m\u001b[0m\n",
      "\u001b[1;31mValueError\u001b[0m: could not convert string to float: -f"
     ]
    }
   ],
   "source": [
    "# Exercise Plot Ball 2\n",
    "\n",
    "from numpy import *\n",
    "from matplotlib.pyplot import *\n",
    "import sys\n",
    "\n",
    "if len(sys.argv) ==1:\n",
    "    print 'Give v0 values on the command line!'\n",
    "    sys.exit(1)\n",
    "\n",
    "v0_list = [float(v0) for v0 in sys.argv[1:]]\n",
    "g = 9.81\n",
    "\n",
    "legends = [] #text for each curve\n",
    "for v0 in v0_list:\n",
    "    v0 = float(v0)\n",
    "    t_max = 2*v0/g\n",
    "    t = linspace(0,t_max,100)\n",
    "    y = v0*t -0.5*g*t**2\n",
    "    hold(True)\n",
    "    plot(t,y)\n",
    "    legends.append('v0=%g'%v0)\n",
    "\n",
    "\n",
    "xlabel('time (s)')\n",
    "ylabel('height (m)')\n",
    "legend(legends)\n",
    "show()\n",
    "\n"
   ]
  },
  {
   "cell_type": "code",
   "execution_count": 2,
   "metadata": {
    "collapsed": false
   },
   "outputs": [
    {
     "ename": "ValueError",
     "evalue": "could not convert string to float: -f",
     "output_type": "error",
     "traceback": [
      "\u001b[1;31m---------------------------------------------------------------------------\u001b[0m",
      "\u001b[1;31mValueError\u001b[0m                                Traceback (most recent call last)",
      "\u001b[1;32m<ipython-input-2-bda645843f46>\u001b[0m in \u001b[0;36m<module>\u001b[1;34m()\u001b[0m\n\u001b[0;32m     10\u001b[0m \u001b[0mcorrect\u001b[0m \u001b[0morder\u001b[0m\u001b[1;33m.\u001b[0m \u001b[0mThis\u001b[0m \u001b[1;32mis\u001b[0m \u001b[0ma\u001b[0m \u001b[0msub\u001b[0m\u001b[1;33m-\u001b[0m\u001b[0moptimal\u001b[0m \u001b[0msolution\u001b[0m\u001b[1;33m,\u001b[0m \u001b[0mbut\u001b[0m \u001b[0mgood\u001b[0m\u001b[1;33m\u001b[0m\u001b[0m\n\u001b[0;32m     11\u001b[0m enough for this exercise:\"\"\"\n\u001b[1;32m---> 12\u001b[1;33m \u001b[0my0\u001b[0m \u001b[1;33m=\u001b[0m \u001b[0mfloat\u001b[0m\u001b[1;33m(\u001b[0m\u001b[0msys\u001b[0m\u001b[1;33m.\u001b[0m\u001b[0margv\u001b[0m\u001b[1;33m[\u001b[0m\u001b[1;36m1\u001b[0m\u001b[1;33m]\u001b[0m\u001b[1;33m)\u001b[0m\u001b[1;33m\u001b[0m\u001b[0m\n\u001b[0m\u001b[0;32m     13\u001b[0m \u001b[0mtheta\u001b[0m \u001b[1;33m=\u001b[0m \u001b[0mfloat\u001b[0m\u001b[1;33m(\u001b[0m\u001b[0msys\u001b[0m\u001b[1;33m.\u001b[0m\u001b[0margv\u001b[0m\u001b[1;33m[\u001b[0m\u001b[1;36m2\u001b[0m\u001b[1;33m]\u001b[0m\u001b[1;33m)\u001b[0m\u001b[1;33m\u001b[0m\u001b[0m\n\u001b[0;32m     14\u001b[0m \u001b[0mv0\u001b[0m \u001b[1;33m=\u001b[0m \u001b[0mfloat\u001b[0m\u001b[1;33m(\u001b[0m\u001b[0msys\u001b[0m\u001b[1;33m.\u001b[0m\u001b[0margv\u001b[0m\u001b[1;33m[\u001b[0m\u001b[1;36m3\u001b[0m\u001b[1;33m]\u001b[0m\u001b[1;33m)\u001b[0m\u001b[1;33m\u001b[0m\u001b[0m\n",
      "\u001b[1;31mValueError\u001b[0m: could not convert string to float: -f"
     ]
    }
   ],
   "source": [
    "# Exercise 5.13 Plot trajectory\n",
    "import sys\n",
    "from numpy import *\n",
    "from matplotlib.pyplot import *\n",
    "\n",
    "def trajectory(x,y0,theta,v0,g):\n",
    "    return x*tan(theta)- 1/(2*v0**2)*(g*x**2)/(cos(theta)**2) + y0\n",
    "\n",
    "\"\"\"Assuming that command line arguments are given in\n",
    "correct order. This is a sub-optimal solution, but good\n",
    "enough for this exercise:\"\"\"\n",
    "y0 = float(sys.argv[1])\n",
    "theta = float(sys.argv[2])\n",
    "v0 = float(sys.argv[3])\n",
    "g = 9.81\n",
    "\n",
    "\"\"\"The trajectory should be plotted for y>0, we solve\n",
    "a quadratic equation to find the point where y = 0.\n",
    "\"\"\"\n",
    "a = -1.0/(2*v0**2)*g/cos(theta)**2\n",
    "b = tan(theta)\n",
    "c = y0\n",
    "\n",
    "x1 = (-b +sqrt(b**2 -4*a*c))/(2*a)\n",
    "x2 = (-b -sqrt(b**2 -4*a*c))/(2*a)\n",
    "\n",
    "#We want to use the positive x value:\n",
    "xmax = max(x1,x2)\n",
    "\n",
    "x = linspace(0,xmax,100)\n",
    "y = trajectory(x,y0,theta,v0,g)\n",
    "\n",
    "plot(x,y)\n",
    "show()\n"
   ]
  },
  {
   "cell_type": "code",
   "execution_count": 8,
   "metadata": {
    "collapsed": false
   },
   "outputs": [
    {
     "name": "stdout",
     "output_type": "stream",
     "text": [
      "(0.1353352832366127, -0.2706705664732254)\n"
     ]
    },
    {
     "ename": "TypeError",
     "evalue": "only length-1 arrays can be converted to Python scalars",
     "output_type": "error",
     "traceback": [
      "\u001b[1;31m---------------------------------------------------------------------------\u001b[0m",
      "\u001b[1;31mTypeError\u001b[0m                                 Traceback (most recent call last)",
      "\u001b[1;32m<ipython-input-8-cf3306178ee1>\u001b[0m in \u001b[0;36m<module>\u001b[1;34m()\u001b[0m\n\u001b[0;32m     17\u001b[0m \u001b[0mt\u001b[0m \u001b[1;33m=\u001b[0m \u001b[0mnp\u001b[0m\u001b[1;33m.\u001b[0m\u001b[0mlinspace\u001b[0m\u001b[1;33m(\u001b[0m\u001b[1;36m0\u001b[0m\u001b[1;33m,\u001b[0m \u001b[1;36m5.0\u001b[0m\u001b[1;33m/\u001b[0m\u001b[0mfloat\u001b[0m\u001b[1;33m(\u001b[0m\u001b[0ma\u001b[0m\u001b[1;33m)\u001b[0m\u001b[1;33m,\u001b[0m \u001b[1;36m100\u001b[0m\u001b[1;33m)\u001b[0m \u001b[1;31m# start, stop, n\u001b[0m\u001b[1;33m\u001b[0m\u001b[0m\n\u001b[0;32m     18\u001b[0m \u001b[1;33m\u001b[0m\u001b[0m\n\u001b[1;32m---> 19\u001b[1;33m \u001b[0mg_curve\u001b[0m\u001b[1;33m,\u001b[0m \u001b[0mdgdt_curve\u001b[0m \u001b[1;33m=\u001b[0m \u001b[0mg\u001b[0m\u001b[1;33m(\u001b[0m\u001b[0mt\u001b[0m\u001b[1;33m)\u001b[0m \u001b[1;31m# cant make this work, will just need to do it like this\u001b[0m\u001b[1;33m\u001b[0m\u001b[0m\n\u001b[0m\u001b[0;32m     20\u001b[0m \u001b[0mplt\u001b[0m\u001b[1;33m.\u001b[0m\u001b[0mplot\u001b[0m\u001b[1;33m(\u001b[0m\u001b[0mt\u001b[0m\u001b[1;33m,\u001b[0m \u001b[0mg_curve\u001b[0m\u001b[1;33m,\u001b[0m \u001b[0mt\u001b[0m\u001b[1;33m,\u001b[0m \u001b[0mdgdt_curve\u001b[0m\u001b[1;33m)\u001b[0m\u001b[1;33m\u001b[0m\u001b[0m\n\u001b[0;32m     21\u001b[0m \u001b[0mplt\u001b[0m\u001b[1;33m.\u001b[0m\u001b[0mxlabel\u001b[0m\u001b[1;33m(\u001b[0m\u001b[1;34m't'\u001b[0m\u001b[1;33m)\u001b[0m\u001b[1;33m\u001b[0m\u001b[0m\n",
      "\u001b[1;32m<ipython-input-8-cf3306178ee1>\u001b[0m in \u001b[0;36mg\u001b[1;34m(t)\u001b[0m\n\u001b[0;32m      9\u001b[0m     \u001b[1;31m#dgdt = -a*math.exp(-a*t)\u001b[0m\u001b[1;33m\u001b[0m\u001b[1;33m\u001b[0m\u001b[0m\n\u001b[0;32m     10\u001b[0m     \u001b[1;31m#return g, dgdt\u001b[0m\u001b[1;33m\u001b[0m\u001b[1;33m\u001b[0m\u001b[0m\n\u001b[1;32m---> 11\u001b[1;33m     \u001b[1;32mreturn\u001b[0m \u001b[0mmath\u001b[0m\u001b[1;33m.\u001b[0m\u001b[0mexp\u001b[0m\u001b[1;33m(\u001b[0m\u001b[1;33m-\u001b[0m\u001b[0ma\u001b[0m\u001b[1;33m*\u001b[0m\u001b[0mt\u001b[0m\u001b[1;33m)\u001b[0m\u001b[1;33m,\u001b[0m \u001b[1;33m-\u001b[0m\u001b[0ma\u001b[0m\u001b[1;33m*\u001b[0m\u001b[0mmath\u001b[0m\u001b[1;33m.\u001b[0m\u001b[0mexp\u001b[0m\u001b[1;33m(\u001b[0m\u001b[1;33m-\u001b[0m\u001b[0ma\u001b[0m\u001b[1;33m*\u001b[0m\u001b[0mt\u001b[0m\u001b[1;33m)\u001b[0m\u001b[1;33m\u001b[0m\u001b[0m\n\u001b[0m\u001b[0;32m     12\u001b[0m \u001b[1;32mprint\u001b[0m \u001b[0mg\u001b[0m\u001b[1;33m(\u001b[0m\u001b[1;36m1\u001b[0m\u001b[1;33m)\u001b[0m\u001b[1;33m\u001b[0m\u001b[0m\n\u001b[0;32m     13\u001b[0m \u001b[1;33m\u001b[0m\u001b[0m\n",
      "\u001b[1;31mTypeError\u001b[0m: only length-1 arrays can be converted to Python scalars"
     ]
    }
   ],
   "source": [
    "# Exercise 4\n",
    "import numpy as np\n",
    "import math\n",
    "import matplotlib.pyplot as plt\n",
    "%matplotlib inline\n",
    "def g(t):\n",
    "    a = 2\n",
    "    #g = math.exp(-a*t)\n",
    "    #dgdt = -a*math.exp(-a*t)\n",
    "    #return g, dgdt\n",
    "    return math.exp(-a*t), -a*math.exp(-a*t)\n",
    "print g(1)\n",
    "\n",
    "#Given in task that t 0<=t<=5/a (remember heltall)\n",
    "\n",
    "a =2\n",
    "t = np.linspace(0, 5.0/float(a), 100) # start, stop, n\n",
    "\n",
    "g_curve, dgdt_curve = g(t) # cant make this work, will just need to do it like this\n",
    "plt.plot(t, g_curve, t, dgdt_curve)\n",
    "plt.xlabel('t')\n",
    "plt.ylabel('g','dgdt')\n",
    "plt.legend('g', 'dgdt')\n",
    "plt.savefig('plot.png')\n",
    "plt.show()"
   ]
  },
  {
   "cell_type": "code",
   "execution_count": 36,
   "metadata": {
    "collapsed": false
   },
   "outputs": [
    {
     "name": "stdout",
     "output_type": "stream",
     "text": [
      "((-1+1.4142135623730951j), (-1-1.4142135623730951j))\n",
      "(a,b,c) --> (x1,x2):\n",
      "(1, (-2-0j), (2+0j)) --> ((1+1j), (1-1j))\n",
      "type in complex test <type 'numpy.complex128'>\n",
      "(a,b,c) --> (x1,x2):\n",
      "(1, -2.0, 1.0) --> (1.0, 1.0)\n",
      "All tests passed. BOOM!\n"
     ]
    }
   ],
   "source": [
    "# Exercise 5 Roots quadratic\n",
    "# write a function that takes a,b and c as arguments \n",
    "# returns x1 and x2\n",
    "# require q>=0 -> real numbers\n",
    "#ValueError if q<0\n",
    "# particular solution when a=1 b=3 and c =1\n",
    "\n",
    "import numpy as np\n",
    "import numpy.lib.scimath as npsci\n",
    "\n",
    "def main():\n",
    "    test_sqrt() # compared to the exam we have them in different test_fn\n",
    "    print roots(1,2,3)\n",
    "    tests_roots_complex()\n",
    "    tests_roots_real()\n",
    "    print \"All tests passed. BOOM!\"\n",
    "    \n",
    "def roots(a, b, c):\n",
    "    \"\"\"Find the roots and solution to the equation on the form\n",
    "    ax² + bx + c = 0\n",
    "\n",
    "    The solution is the equation:\n",
    "             √(b² - 4ac)\n",
    "    x = -b ± -----------\n",
    "                 2a\n",
    "\n",
    "    \"\"\"\n",
    "    q = npsci.sqrt(b**2 - 4*a*c)\n",
    "    x1 = (-b + q)/(2*a)\n",
    "    x2 = (-b - q)/(2*a)\n",
    "    return (x1, x2) # this is just the normal function\n",
    "    \n",
    "def test_sqrt():\n",
    "    assert npsci.sqrt(-1)==1j, 'sqrt not working as suspected'\n",
    "    # assert wil, only run if failed, and then print string\n",
    "    \n",
    "def tests_roots_real():\n",
    "    \"\"\"Test with real roots\"\"\"\n",
    "    r1 = 1.0\n",
    "    r2 = 1.0\n",
    "   # x^2 - (r1+r2)x + r1*r2 = 0\n",
    "    \n",
    "    a = 1\n",
    "    b = -(r1 + r2)\n",
    "    c = r1*r2\n",
    "    result = roots(a, b, c)\n",
    "    print '(a,b,c) --> (x1,x2):'\n",
    "    print (a,b,c), '-->', result\n",
    "    #Warning: The order is important, let r1 be the biggest root.\n",
    "    assert result == (r1, r2), ('Expected:' + str((r1,r2)) +\n",
    "                                'Result is: ' + str(result))  \n",
    "    #isinstance(object, classinfo)\n",
    "    #return true if the object argument is an instance of the classinfo argument\n",
    "    #return false if object is not a class instance or an object of the given type\n",
    "    assert isinstance(result[0], float), 'Expected float root' #peker på x1\n",
    "    assert isinstance(result[1], float), 'Expected float root' # peker på x2\n",
    "\n",
    "def tests_roots_complex():\n",
    "    \"\"\"Test with complex roots\"\"\"\n",
    "    r1 = 1.0 + 1.0j\n",
    "    r2 = 1.0 - 1.0j\n",
    "   # x^2 - (r1+r2)x + r1*r2 = 0\n",
    "    \n",
    "    a = 1\n",
    "    b = -(r1 + r2)\n",
    "    c = r1*r2\n",
    "    result = roots(a, b, c)\n",
    "    print '(a,b,c) --> (x1,x2):'\n",
    "    print (a,b,c), '-->', result\n",
    "    print 'type in complex test', type(result[0])\n",
    "    assert result == (r1, r2), ('Expected:' + str((r1,r2)) +\n",
    "                                'Result is: ' + str(result))\n",
    "    assert isinstance(result[0], complex), 'Expected complex root'\n",
    "    assert isinstance(result[1], complex), 'Expected complex root'\n",
    "    \n",
    "# NB!: The main shall always be the last\n",
    "if __name__=='__main__':\n",
    "    \"\"\"If this python script is run directly\"\"\"\n",
    "    main()  "
   ]
  },
  {
   "cell_type": "code",
   "execution_count": 18,
   "metadata": {
    "collapsed": false
   },
   "outputs": [
    {
     "ename": "SyntaxError",
     "evalue": "invalid syntax (<ipython-input-18-31055b6b0ed3>, line 18)",
     "output_type": "error",
     "traceback": [
      "\u001b[1;36m  File \u001b[1;32m\"<ipython-input-18-31055b6b0ed3>\"\u001b[1;36m, line \u001b[1;32m18\u001b[0m\n\u001b[1;33m    return x1, x2\u001b[0m\n\u001b[1;37m         ^\u001b[0m\n\u001b[1;31mSyntaxError\u001b[0m\u001b[1;31m:\u001b[0m invalid syntax\n"
     ]
    }
   ],
   "source": [
    "import math\n",
    "import sys\n",
    "\n",
    "def roots(a, b, c):\n",
    "    \"\"\"Find the roots and solution to the equation on the form\n",
    "    ax² + bx + c = 0\n",
    "\n",
    "    The solution is the equation:\n",
    "             √(b² - 4ac)\n",
    "    x = -b ± -----------\n",
    "                 2a\n",
    "\n",
    "    \"\"\"\n",
    "    try:        \n",
    "        q = (b**2 - 4*a*c)\n",
    "        x1 = (-b + math.sqrt(q))/(2*a)\n",
    "        x2 = (-b - math.sqrt(q)/(2*a)\n",
    "    return x1, x2\n",
    "    except ValueError:\n",
    "              print 'Complex roots not allowed'\n",
    "              sys.exit(1)\n",
    "print roots(1, 3, 1)"
   ]
  },
  {
   "cell_type": "code",
   "execution_count": 31,
   "metadata": {
    "collapsed": false
   },
   "outputs": [
    {
     "name": "stdout",
     "output_type": "stream",
     "text": [
      "(-0.3819660112501051, -2.618033988749895)\n"
     ]
    }
   ],
   "source": [
    "#THE QUADRATIC EQUATION\n",
    "import math\n",
    "def roots(a, b, c):\n",
    "    q = b**2 - 4*a*c\n",
    "    tol = 1e-12\n",
    "    if q < tol: # q < 0 with tolerance\n",
    "        raise ValueError('q=%g<0 is not allowed' % q)\n",
    "    x1 = (-b + math.sqrt(q))/(2*a)\n",
    "    x2 = (-b - math.sqrt(q))/(2*a)\n",
    "    if q > tol: # q > 0 with tolerance\n",
    "        return x1, x2\n",
    "    else:\n",
    "        return x1, None\n",
    "\n",
    "print roots(1, 3, 1)\n"
   ]
  },
  {
   "cell_type": "code",
   "execution_count": 37,
   "metadata": {
    "collapsed": false
   },
   "outputs": [
    {
     "name": "stdout",
     "output_type": "stream",
     "text": [
      "(4.645751311064591, -0.6457513110645907)\n"
     ]
    }
   ],
   "source": [
    "# Exercise 6 Test\n",
    "# test calling the function\n",
    "# checking results q>0, q<0 and q=0\n",
    "# write a message when a test fails\n",
    "# write a message if all test succeed\n",
    "#REMEBER: test equality of real numbers with a tolerance\n",
    "import math\n",
    "\n",
    "def roots(a, b, c):\n",
    "    q = b**2 - 4*a*c\n",
    "    tol = 1e-12\n",
    "    if q < tol: # q < 0 with tolerance\n",
    "        raise ValueError('q=%g<0 is not allowed' % q)\n",
    "    x1 = (-b + math.sqrt(q))/(2*a)\n",
    "    x2 = (-b - math.sqrt(q))/(2*a)\n",
    "    if q > tol: # q > 0 with tolerance\n",
    "        return x1, x2\n",
    "    else:\n",
    "        return x1, None\n",
    "\n",
    "print roots(1, -4, -3)\n",
    "\n",
    "def equal(a, b, eps=1e-14):\n",
    "    \"\"\"Test a==b with tolerance eps.\"\"\"\n",
    "    return abs(a - b) < eps\n",
    "\n",
    "def test_roots():\n",
    "    ok = True # True if all tests pass\n",
    "    eps = 1E-14 # tolerance for testing equality of floats\n",
    "\n",
    "    # Case 1: q > 0\n",
    "    # x1 = 1, x2 = -1 (x-1)*(x+1)=0 => x**2 - 1 = 0\n",
    "    x1, x2 = roots(1, 0, -1)\n",
    "    if not equal(x1, 1) or not equal(x2, -1):\n",
    "        print 'Test with q>0 failed.'\n",
    "        ok = False\n",
    "    \n",
    "    # Case 2: q = 0\n",
    "    # x1 = 2, x2 = 2 (x-2)*(x-2)=0 => x**2 - 4*x + 4 = 0\n",
    "    x1, x2 = roots(1, -4, 4)\n",
    "    if not equal(x1, 2) or not x2 == None:\n",
    "        print 'Test with q==0 failed'\n",
    "        ok = False\n",
    "    \n",
    "    # Case 3: q < 0\n",
    "    # b=1, a=1, c=1 => b**2 - 4*a*c = 1 - 4 = -3\n",
    "    try:\n",
    "        x1, x2 = solve_quadratic_equation(1, 1, 1)\n",
    "        print 'Test with q<0 failed.'\n",
    "        ok = False\n",
    "    except ValueError:\n",
    "            # Do nothing\n",
    "        pass # or do print ’’\n",
    "    \n",
    "    if ok: # from start where all are true\n",
    "        print 'OK. All tests passed!'\n",
    "# DO NOT GET WHY LAST STATEMENT IS NOT PRINTED?!"
   ]
  },
  {
   "cell_type": "code",
   "execution_count": 39,
   "metadata": {
    "collapsed": true
   },
   "outputs": [],
   "source": [
    "# Exercise 4 exam 13\n",
    "# And exercise 2\n",
    "# Write a progran\n",
    "# python function g(t) that evaluates and returns g and g'\n",
    "#a = global variable\n",
    "\n",
    "#Ex1\n",
    "\n",
    "import math\n",
    "def g(t):\n",
    "    g_\n"
   ]
  },
  {
   "cell_type": "code",
   "execution_count": 45,
   "metadata": {
    "collapsed": false
   },
   "outputs": [
    {
     "name": "stdout",
     "output_type": "stream",
     "text": [
      "[<function ti_sin at 0x000000000A9AF518>\n",
      " <function ti_sin at 0x000000000A9AF518>\n",
      " <function ti_sin at 0x000000000A9AF518>\n",
      " <function ti_sin at 0x000000000A9AF518>\n",
      " <function ti_sin at 0x000000000A9AF518>\n",
      " <function ti_sin at 0x000000000A9AF518>\n",
      " <function ti_sin at 0x000000000A9AF518>\n",
      " <function ti_sin at 0x000000000A9AF518>\n",
      " <function ti_sin at 0x000000000A9AF518>\n",
      " <function ti_sin at 0x000000000A9AF518>\n",
      " <function ti_sin at 0x000000000A9AF518>]\n"
     ]
    },
    {
     "ename": "ValueError",
     "evalue": "math domain error",
     "output_type": "error",
     "traceback": [
      "\u001b[1;31m---------------------------------------------------------------------------\u001b[0m",
      "\u001b[1;31mValueError\u001b[0m                                Traceback (most recent call last)",
      "\u001b[1;32m<ipython-input-45-34dccbe71d9b>\u001b[0m in \u001b[0;36m<module>\u001b[1;34m()\u001b[0m\n\u001b[0;32m     21\u001b[0m \u001b[0mi\u001b[0m \u001b[1;33m=\u001b[0m \u001b[1;36m0\u001b[0m\u001b[1;33m\u001b[0m\u001b[0m\n\u001b[0;32m     22\u001b[0m \u001b[1;32mprint\u001b[0m \u001b[0mterms\u001b[0m\u001b[1;33m(\u001b[0m\u001b[0mti_sin\u001b[0m\u001b[1;33m,\u001b[0m\u001b[0mmath\u001b[0m\u001b[1;33m.\u001b[0m\u001b[0mpi\u001b[0m\u001b[1;33m,\u001b[0m\u001b[1;36m10\u001b[0m\u001b[1;33m)\u001b[0m\u001b[1;33m\u001b[0m\u001b[0m\n\u001b[1;32m---> 23\u001b[1;33m \u001b[0mvisualize\u001b[0m\u001b[1;33m(\u001b[0m\u001b[0mt\u001b[0m\u001b[1;33m)\u001b[0m\u001b[1;33m\u001b[0m\u001b[0m\n\u001b[0m",
      "\u001b[1;32m<ipython-input-45-34dccbe71d9b>\u001b[0m in \u001b[0;36mvisualize\u001b[1;34m(t)\u001b[0m\n\u001b[0;32m     17\u001b[0m \u001b[1;32mdef\u001b[0m \u001b[0mvisualize\u001b[0m\u001b[1;33m(\u001b[0m\u001b[0mt\u001b[0m\u001b[1;33m)\u001b[0m\u001b[1;33m:\u001b[0m\u001b[1;33m\u001b[0m\u001b[0m\n\u001b[0;32m     18\u001b[0m     \u001b[1;31m#plot the logaritm\u001b[0m\u001b[1;33m\u001b[0m\u001b[1;33m\u001b[0m\u001b[0m\n\u001b[1;32m---> 19\u001b[1;33m     \u001b[0mplt\u001b[0m\u001b[1;33m.\u001b[0m\u001b[0mplot\u001b[0m\u001b[1;33m(\u001b[0m\u001b[0mt\u001b[0m\u001b[1;33m,\u001b[0m \u001b[0mmath\u001b[0m\u001b[1;33m.\u001b[0m\u001b[0mlog\u001b[0m\u001b[1;33m(\u001b[0m\u001b[0mabs\u001b[0m\u001b[1;33m(\u001b[0m\u001b[0mt\u001b[0m\u001b[1;33m[\u001b[0m\u001b[0mi\u001b[0m\u001b[1;33m]\u001b[0m\u001b[1;33m)\u001b[0m\u001b[1;33m)\u001b[0m\u001b[1;33m,\u001b[0m \u001b[1;34m'ro'\u001b[0m\u001b[1;33m)\u001b[0m\u001b[1;33m\u001b[0m\u001b[0m\n\u001b[0m\u001b[0;32m     20\u001b[0m     \u001b[0mplt\u001b[0m\u001b[1;33m.\u001b[0m\u001b[0mshow\u001b[0m\u001b[1;33m(\u001b[0m\u001b[1;33m)\u001b[0m\u001b[1;33m\u001b[0m\u001b[0m\n\u001b[0;32m     21\u001b[0m \u001b[0mi\u001b[0m \u001b[1;33m=\u001b[0m \u001b[1;36m0\u001b[0m\u001b[1;33m\u001b[0m\u001b[0m\n",
      "\u001b[1;31mValueError\u001b[0m: math domain error"
     ]
    }
   ],
   "source": [
    "# exam 12\n",
    "import numpy as np\n",
    "import math\n",
    "import matplotlib.pyplot as plt\n",
    "%matplotlib inline\n",
    "\n",
    "def terms(ti,x_0,N):\n",
    "    #returns an array of ti(x_0)\n",
    "    # for i = 0 -> N\n",
    "    i = 0\n",
    "    return np.array([ti for i in range(0,N+1)]) #this is not working\n",
    "\n",
    "def ti_sin(i,x):\n",
    "    ti = (-1)**i*((x**(2*i+1)/math.factorial(2*i+1)))\n",
    "    return \n",
    "\n",
    "def visualize(t):\n",
    "    #plot the logaritm\n",
    "    plt.plot(t, math.log(abs(t[i])), 'ro')\n",
    "    plt.show()\n",
    "i = 0    \n",
    "print terms(ti_sin,math.pi,10)\n",
    "visualize(t)"
   ]
  },
  {
   "cell_type": "code",
   "execution_count": 11,
   "metadata": {
    "collapsed": false
   },
   "outputs": [
    {
     "name": "stdout",
     "output_type": "stream",
     "text": [
      "[  3.14159265e+00  -5.16771278e+00   2.55016404e+00  -5.99264529e-01\n",
      "   8.21458866e-02  -7.37043095e-03   4.66302806e-04  -2.19153534e-05\n",
      "   7.95205400e-07  -2.29484290e-08   5.39266466e-10]\n"
     ]
    },
    {
     "data": {
      "image/png": "[encoded data removed]",
      "text/plain": [
       "<matplotlib.figure.Figure at 0xa642f98>"
      ]
     },
     "metadata": {},
     "output_type": "display_data"
    }
   ],
   "source": [
    "#Try in another way\n",
    "#VERY DIFFICULT TASK!!\n",
    "import numpy as np\n",
    "import math\n",
    "import matplotlib.pyplot as plt\n",
    "\n",
    "%matplotlib inline\n",
    "\n",
    "def terms(ti,x_0,N):\n",
    "    #returns an array of ti(x_0)\n",
    "    # huskeregel: start med empty array\n",
    "    t_list = []\n",
    "    for i in range(0, N+1):\n",
    "        t = ti(i, x_0) #why do we include this one?\n",
    "        t_list.append(t) #use t here\n",
    "    return np.array(t_list) # remember to make it into an array!!\n",
    "\n",
    "def ti_sin(i, x_0):\n",
    "    return (-1)**i*((x_0**(2*i+1))/math.factorial(2*i+1))\n",
    "    #why not ti = 'above', then return ti\n",
    "    \n",
    "def visualize(t):\n",
    "    #plot the logaritm\n",
    "    #NB Need to plot over t from i = [0,N]\n",
    "    # HOW? USE RANGE!!!\n",
    "    for i in range(0,len(t)): # for løkke på t\n",
    "        plt.plot(i, math.log(abs(t[i])), 'ro') #use i not t as first argument\n",
    "    plt.show()\n",
    "\n",
    "t = terms(ti_sin, math.pi, 10)\n",
    "print t\n",
    "visualize(t)"
   ]
  }
 ],
 "metadata": {
  "kernelspec": {
   "display_name": "Python 2",
   "language": "python",
   "name": "python2"
  },
  "language_info": {
   "codemirror_mode": {
    "name": "ipython",
    "version": 2
   },
   "file_extension": ".py",
   "mimetype": "text/x-python",
   "name": "python",
   "nbconvert_exporter": "python",
   "pygments_lexer": "ipython2",
   "version": "2.7.10"
  }
 },
 "nbformat": 4,
 "nbformat_minor": 0
}
