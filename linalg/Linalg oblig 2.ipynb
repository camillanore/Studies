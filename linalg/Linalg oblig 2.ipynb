{
 "cells": [
  {
   "cell_type": "markdown",
   "metadata": {},
   "source": [
    "## Linalg oblig 2\n",
    "Camilla Nore\n",
    "\n",
    "2015-10-28"
   ]
  },
  {
   "cell_type": "markdown",
   "metadata": {},
   "source": [
    "### Oppgave 1a\n",
    "\n",
    "$$ C = \\begin{bmatrix}\n",
    "0 & 1 \\\\\n",
    "-a_0 & -a_1\n",
    "\\end{bmatrix}\n",
    "$$\n",
    "Charactheristic polynom is given by:\n",
    "$$ det(tI - C) = p(t) $$\n",
    "\n",
    "$$ det(tI - C) = det\\begin{bmatrix}\n",
    "t & -1 \\\\\n",
    "a_0 & t+a_1\n",
    "\\end{bmatrix} = t( t + a_1) - (-1 * a_0) \n",
    "= a_0 + a_1 t + t^2 \n",
    "$$"
   ]
  },
  {
   "cell_type": "markdown",
   "metadata": {},
   "source": [
    "### Oppgave 1b\n",
    "\n",
    "\n",
    "$$ C = \\begin{bmatrix}\n",
    "0 & 1 & 0\\\\\n",
    "0 & 0 & 1\\\\\n",
    "-a_0 & -a_1 & -a_2\n",
    "\\end{bmatrix}\n",
    "$$\n",
    "Charactheristic polynom is given by:\n",
    "$$ det(tI - C) = p(t) $$\n",
    "\n",
    "$$ det(tI - C) = det\\begin{bmatrix}\n",
    "t & -1 & 0\\\\\n",
    "0 & t & -1\\\\\n",
    "a_0 & a_1 & t+a_2\n",
    "\\end{bmatrix} \n",
    "\\\\\n",
    "= t det\\begin{bmatrix}\n",
    "t & -1\\\\\n",
    "a_1 & t+a_2\n",
    "\\end{bmatrix}\n",
    "+\n",
    "a_0 det\\begin{bmatrix}\n",
    "-1 & 0\\\\\n",
    " t & -1\\\\\n",
    "\\end{bmatrix}\n",
    "\\\\\n",
    "= t (t^2 +ta_2 - (-a_1)) + a_0(1 -0) = t^3 + a_2 t^2 + a_1 t + a_0\n",
    "$$\n",
    " Have shown that the characteristic polynom is p, not -p."
   ]
  },
  {
   "cell_type": "markdown",
   "metadata": {},
   "source": [
    "### Oppgave 2i\n",
    "Vi starter med å definere $$f(t) = f$$ for enklere notasjon, vi bruker dot notasjon for den tidsderiverte: $$f'(t) = \\dot{f}$$.\n",
    "\n",
    "$$ \n",
    "\\mathbf{x} = \n",
    "\\begin{bmatrix} x_1 \\\\ x_2 \\\\ x_3 \\end{bmatrix} = \n",
    "\\begin{bmatrix} f \\\\ \\dot{f} \\\\ \\ddot{f} \\end{bmatrix}\n",
    "$$\n",
    "Vi skriver om differensiallikningen med dot-notasjon.\n",
    "$$\n",
    "\\dddot{f} + \\ddot{f} - 4\\dot{f} -4f = 0\\\\\n",
    "\\dot{x_3} + x_3 - 4 x_2 - 4 x_1 = 0 \\\\\n",
    "\\dot{x_3} = - x_3 + 4 x_2 + 4 x_1 \\\\\n",
    "$$\n",
    "Vi har nå et uttrykk for $\\dot{x_3}$. Og vi ser at \n",
    "$\\dot{x_2} = \\ddot{f} = x_3$ og \n",
    "$\\dot{x_1} = \\dot{f} = x_2$.\n",
    "Dette kan vi skrive på matriseform:\n",
    "\n",
    "$$\n",
    "\\mathbf{\\dot{x}} =\n",
    "\\begin{bmatrix} \\dot{x_1} \\\\ \\dot{x_2} \\\\ \\dot{x_3} \\end{bmatrix}\n",
    "= \n",
    "\\begin{bmatrix}\n",
    "0 & 1 & 0 \\\\\n",
    "0 & 0 & 1 \\\\\n",
    "4 & 4 & -1\n",
    "\\end{bmatrix}\n",
    "\\mathbf{x} $$\n",
    "Vi ser nå at dette er det samme som (**):\n",
    "$$\n",
    "\\mathbf{\\dot{x}} = C\\mathbf{x} $$"
   ]
  },
  {
   "cell_type": "markdown",
   "metadata": {},
   "source": [
    "### Oppgave 2ii\n",
    "Grunnet hvordan jeg viste oppgave 2i, er dette allerede gjort. Vi setter inn $x_1 = f(t)$\n",
    "$$\n",
    "\\mathbf{\\dot{x}} =\n",
    "\\begin{bmatrix} \\dot{f}(t) \\\\ \\ddot{f}(t) \\\\ \\dddot{f}(t) \\end{bmatrix}\n",
    "= \n",
    "\\begin{bmatrix}\n",
    "0 & 1 & 0 \\\\\n",
    "0 & 0 & 1 \\\\\n",
    "4 & 4 & -1\n",
    "\\end{bmatrix}\n",
    "\\begin{bmatrix} f(t) \\\\ \\dot{f}(t) \\\\ \\ddot{f}(t) \\end{bmatrix} $$\n",
    "Den siste raden vil gi (*).\n",
    "$$\n",
    "\\dddot{f} = -\\ddot{f} + 4\\dot{f} +4f \\\\\n",
    "$$\n",
    "\n",
    "### Oppgave 2iii\n",
    "Løsningen av et 1.ordens lineært differentiallikningsystem er gitt ved:\n",
    "$$\n",
    "\\mathbf{x}(t) = \n",
    "c_1 e^{\\lambda_1 t}\\mathbf{u}_1 +\n",
    "c_2 e^{\\lambda_2 t}\\mathbf{u}_2 +\n",
    "c_3 e^{\\lambda_3 t}\\mathbf{u}_3\n",
    "$$\n",
    "Hvor c er konstanter, $\\lambda$ er egenverdiene til C, med tilhørende egenvektorer $\\mathbf{u}$."
   ]
  },
  {
   "cell_type": "code",
   "execution_count": 6,
   "metadata": {
    "collapsed": false
   },
   "outputs": [
    {
     "name": "stdout",
     "output_type": "stream",
     "text": [
      "(array([-2., -1.,  2.]), array([[-0.21821789, -0.57735027, -0.21821789],\n",
      "       [ 0.43643578,  0.57735027, -0.43643578],\n",
      "       [-0.87287156, -0.57735027, -0.87287156]]))\n"
     ]
    }
   ],
   "source": [
    "import numpy as np\n",
    "C = np.asarray([[0,1,0],\n",
    "               [0,0,1],\n",
    "               [4,4,-1]])\n",
    "print np.linalg.eig(C)\n",
    "def x(t, x_0, x_star):\n",
    "    x = x_star + np.e**(C*t)[x_0 - x_star]\n",
    "    return x\n"
   ]
  },
  {
   "cell_type": "code",
   "execution_count": null,
   "metadata": {
    "collapsed": true
   },
   "outputs": [],
   "source": []
  },
  {
   "cell_type": "code",
   "execution_count": null,
   "metadata": {
    "collapsed": true
   },
   "outputs": [],
   "source": []
  }
 ],
 "metadata": {
  "kernelspec": {
   "display_name": "Python 2",
   "language": "python",
   "name": "python2"
  },
  "language_info": {
   "codemirror_mode": {
    "name": "ipython",
    "version": 2
   },
   "file_extension": ".py",
   "mimetype": "text/x-python",
   "name": "python",
   "nbconvert_exporter": "python",
   "pygments_lexer": "ipython2",
   "version": "2.7.10"
  }
 },
 "nbformat": 4,
 "nbformat_minor": 0
}
