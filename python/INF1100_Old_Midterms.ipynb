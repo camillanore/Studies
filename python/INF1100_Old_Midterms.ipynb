{
 "cells": [
  {
   "cell_type": "markdown",
   "metadata": {},
   "source": [
    "#INF 1100 MIDTERM 2014"
   ]
  },
  {
   "cell_type": "code",
   "execution_count": 22,
   "metadata": {
    "collapsed": false
   },
   "outputs": [
    {
     "name": "stdout",
     "output_type": "stream",
     "text": [
      "[0, 1, 2, 3, 4, 5, 6, 7, 8, 9]\n",
      "[0, 1, 2, 3, 4]\n",
      "0.00692527070751\n"
     ]
    }
   ],
   "source": [
    "# Exercise 2\n",
    "\n",
    "import math\n",
    "\n",
    "def K(x, N):\n",
    "    x = float(x) #\n",
    "    s = 0\n",
    "    for k in range(N+1):\n",
    "        s += ((-1)**k)*((x**(2*k+1))/math.factorial(2*k+1)) # because it is a sum: use +=\n",
    "    print range(N+1)\n",
    "    return s\n",
    "\n",
    "print range(10)\n",
    "\n",
    "print K(math.pi, 4) # x=pi and N=4"
   ]
  },
  {
   "cell_type": "code",
   "execution_count": 40,
   "metadata": {
    "collapsed": false
   },
   "outputs": [
    {
     "name": "stdout",
     "output_type": "stream",
     "text": [
      "Cannot convert to float! hei\n"
     ]
    }
   ],
   "source": [
    "# Exercise 1\n",
    "# Do not understand what happens when I put in other values than a[3]\n",
    "\n",
    "import sys\n",
    "A = [1, 7, 15, 'hei']\n",
    "try:\n",
    "    r = float(A[3])\n",
    "except IndexError:\n",
    "    print 'A has length %g' % len(A)\n",
    "except ValueError:\n",
    "    print 'Cannot convert to float!' , A[3]\n"
   ]
  },
  {
   "cell_type": "code",
   "execution_count": 9,
   "metadata": {
    "collapsed": false
   },
   "outputs": [
    {
     "name": "stdout",
     "output_type": "stream",
     "text": [
      "[0, 1, 2, 3]\n",
      "[2 4]\n"
     ]
    }
   ],
   "source": [
    "u = [0, 1]\n",
    "v = [2, 3]\n",
    "print u + v\n",
    "from numpy import array\n",
    "u = array(u)\n",
    "v = array(v) # what does the array do? I dont remember\n",
    "print u + v\n",
    "\"\"\"convert a list to a numpy array, like a vector\"\"\""
   ]
  },
  {
   "cell_type": "code",
   "execution_count": 63,
   "metadata": {
    "collapsed": false
   },
   "outputs": [
    {
     "ename": "AssertionError",
     "evalue": "melding",
     "output_type": "error",
     "traceback": [
      "\u001b[1;31m---------------------------------------------------------------------------\u001b[0m",
      "\u001b[1;31mAssertionError\u001b[0m                            Traceback (most recent call last)",
      "\u001b[1;32m<ipython-input-63-162942ce981c>\u001b[0m in \u001b[0;36m<module>\u001b[1;34m()\u001b[0m\n\u001b[0;32m     12\u001b[0m     \u001b[1;32massert\u001b[0m \u001b[0mabs\u001b[0m\u001b[1;33m(\u001b[0m\u001b[0mexact\u001b[0m \u001b[1;33m-\u001b[0m \u001b[0mcomputed\u001b[0m\u001b[1;33m)\u001b[0m\u001b[1;33m<\u001b[0m \u001b[0mtol\u001b[0m\u001b[1;33m,\u001b[0m \u001b[0mmsg\u001b[0m\u001b[1;33m\u001b[0m\u001b[0m\n\u001b[0;32m     13\u001b[0m     \u001b[1;32massert\u001b[0m \u001b[1;36m1\u001b[0m \u001b[1;33m==\u001b[0m \u001b[1;36m2\u001b[0m\u001b[1;33m,\u001b[0m \u001b[1;34m'melding'\u001b[0m\u001b[1;33m\u001b[0m\u001b[0m\n\u001b[1;32m---> 14\u001b[1;33m \u001b[0mtest_plus1\u001b[0m\u001b[1;33m(\u001b[0m\u001b[1;33m)\u001b[0m\u001b[1;33m\u001b[0m\u001b[0m\n\u001b[0m",
      "\u001b[1;32m<ipython-input-63-162942ce981c>\u001b[0m in \u001b[0;36mtest_plus1\u001b[1;34m()\u001b[0m\n\u001b[0;32m     11\u001b[0m     \u001b[1;31m#assert success, msg #assert will only give output by misspecification\u001b[0m\u001b[1;33m\u001b[0m\u001b[1;33m\u001b[0m\u001b[0m\n\u001b[0;32m     12\u001b[0m     \u001b[1;32massert\u001b[0m \u001b[0mabs\u001b[0m\u001b[1;33m(\u001b[0m\u001b[0mexact\u001b[0m \u001b[1;33m-\u001b[0m \u001b[0mcomputed\u001b[0m\u001b[1;33m)\u001b[0m\u001b[1;33m<\u001b[0m \u001b[0mtol\u001b[0m\u001b[1;33m,\u001b[0m \u001b[0mmsg\u001b[0m\u001b[1;33m\u001b[0m\u001b[0m\n\u001b[1;32m---> 13\u001b[1;33m     \u001b[1;32massert\u001b[0m \u001b[1;36m1\u001b[0m \u001b[1;33m==\u001b[0m \u001b[1;36m2\u001b[0m\u001b[1;33m,\u001b[0m \u001b[1;34m'melding'\u001b[0m\u001b[1;33m\u001b[0m\u001b[0m\n\u001b[0m\u001b[0;32m     14\u001b[0m \u001b[0mtest_plus1\u001b[0m\u001b[1;33m(\u001b[0m\u001b[1;33m)\u001b[0m\u001b[1;33m\u001b[0m\u001b[0m\n",
      "\u001b[1;31mAssertionError\u001b[0m: melding"
     ]
    }
   ],
   "source": [
    "# Nothing gets printed because the test is not failing, but what do i need to change in order for the test to fail?\n",
    "def plus1(x):\n",
    "    return x + 1\n",
    "def test_plus1():\n",
    "    x = 4.5\n",
    "    exact = 5.5\n",
    "    computed = plus1(x)\n",
    "    tol = 1E-14 # float value is unprecise\n",
    "    #success = abs(exact - computed) < tol #absoluttverdi\n",
    "    msg = 'exact=%g, computed=%g' % (exact, computed)\n",
    "    #assert success, msg #assert will only give output by misspecification\n",
    "    assert abs(exact - computed)< tol, msg\n",
    "    assert 1 == 2, 'melding'\n",
    "test_plus1()"
   ]
  },
  {
   "cell_type": "code",
   "execution_count": 59,
   "metadata": {
    "collapsed": false
   },
   "outputs": [
    {
     "name": "stdout",
     "output_type": "stream",
     "text": [
      "[-1]\n",
      "[-2, -1]\n",
      "-1 -1\n"
     ]
    }
   ],
   "source": [
    "# Nothing gets printed\n",
    "print range(-1, 1,2)\n",
    "print range(-2,0)\n",
    "for i in range(-1, 1, 2):\n",
    "    for j in range(-2,0):\n",
    "        if i == j:\n",
    "            print i, j"
   ]
  },
  {
   "cell_type": "code",
   "execution_count": 68,
   "metadata": {
    "collapsed": false
   },
   "outputs": [
    {
     "name": "stdout",
     "output_type": "stream",
     "text": [
      "0.00692527070751\n"
     ]
    }
   ],
   "source": [
    "#Exercise 2\n",
    "import math\n",
    "k = 0\n",
    "N = 4 \n",
    "\n",
    "def K(x):\n",
    "    s = 0\n",
    "    for k in range(0,N+1,1):\n",
    "        s +=(-1)**k*((x**(2*k+1))/math.factorial(2*k+1))\n",
    "    return s\n",
    "print K(math.pi)"
   ]
  },
  {
   "cell_type": "code",
   "execution_count": 10,
   "metadata": {
    "collapsed": false
   },
   "outputs": [
    {
     "name": "stdout",
     "output_type": "stream",
     "text": [
      "Too few arguments are given\n"
     ]
    }
   ],
   "source": [
    "import math\n",
    "import sys\n",
    "sys.argv = ['myprog.py',math.pi]\n",
    "#read x and N from command line\n",
    "# add a try-except block\n",
    "def K(x, N):\n",
    "    s = 0\n",
    "    for k in range(0,N+1,1):\n",
    "        s +=(-1)**k*((x**(2*k+1))/math.factorial(2*k+1))\n",
    "    return s\n",
    "try:\n",
    "    x = float(sys.argv[1])\n",
    "    N = int(sys.argv[2])\n",
    "    print K(x, N)\n",
    "except IndexError:\n",
    "    print 'Too few arguments are given'\n",
    "    exit(1)\n",
    "except ValueError:\n",
    "    print 'Input argument is not a number'\n",
    "    exit(1)\n",
    "\n"
   ]
  },
  {
   "cell_type": "code",
   "execution_count": 12,
   "metadata": {
    "collapsed": false
   },
   "outputs": [
    {
     "name": "stdout",
     "output_type": "stream",
     "text": [
      "[ 0.          0.6981317   1.3962634   2.0943951   2.7925268   3.4906585\n",
      "  4.1887902   4.88692191  5.58505361  6.28318531]\n",
      "[0.0, 0.64278760968653925, 0.9848077530122078, 0.86602540378443982, 0.34202014332636005, -0.34202014320935825, -0.8660253961465384, -0.98480749102841103, -0.64278202542076324, 8.2740952213284334e-05]\n"
     ]
    },
    {
     "data": {
      "image/png": "[encoded data removed]",
      "text/plain": [
       "<matplotlib.figure.Figure at 0xa9580b8>"
      ]
     },
     "metadata": {},
     "output_type": "display_data"
    }
   ],
   "source": [
    "#Exercise 4\n",
    "import math\n",
    "import sys\n",
    "import numpy as np\n",
    "import matplotlib.pyplot as plt\n",
    "% matplotlib inline\n",
    "N = 10\n",
    "x = np.linspace(0,2*math.pi,10)\n",
    "print x\n",
    "K_values = []\n",
    "for x_ in x:\n",
    "    K_values.append(K(x_, N))\n",
    "print K_values\n",
    "def K(x, N):\n",
    "    s = 0\n",
    "    for k in range(0,N+1,1):\n",
    "        s +=(-1)**k*((x**(2*k+1))/math.factorial(2*k+1))\n",
    "    return s\n",
    "y = K_values\n",
    "plt.plot(x, y, label = 'N = 10')\n",
    "plt.xlabel('x')\n",
    "plt.ylabel('K')\n",
    "plt.legend()\n",
    "plt.savefig('fig.png')\n",
    "plt.show()\n"
   ]
  },
  {
   "cell_type": "code",
   "execution_count": 20,
   "metadata": {
    "collapsed": false
   },
   "outputs": [],
   "source": [
    "#Exercise 5\n",
    "def test_K():\n",
    "    x = math.pi*2\n",
    "    N = 10\n",
    "    assumed_K = 8.2740952213284334e-05\n",
    "    computed_K = K(x, N)\n",
    "    tol = 1e-14\n",
    "    diff = abs(computed_K - assumed_K)\n",
    "    assert diff < tol, \"test failed\"\n",
    "test_K() # Remember: No output --> test passed\n"
   ]
  },
  {
   "cell_type": "code",
   "execution_count": 52,
   "metadata": {
    "collapsed": false
   },
   "outputs": [
    {
     "name": "stdout",
     "output_type": "stream",
     "text": [
      "['measurement', 'prediction']\n"
     ]
    },
    {
     "data": {
      "text/plain": [
       "\"\\nTo make them into numpy arrays:\\ntime = np.array(data['time'])\\nmeasurement = np.array(data['measurement'])\\nprediction = np.array(data['prediction'])\""
      ]
     },
     "execution_count": 52,
     "metadata": {},
     "output_type": "execute_result"
    },
    {
     "data": {
      "image/png": "[encoded data removed]",
      "text/plain": [
       "<matplotlib.figure.Figure at 0xdfba048>"
      ]
     },
     "metadata": {},
     "output_type": "display_data"
    }
   ],
   "source": [
    "# Exercise 6\n",
    "import numpy as np\n",
    "\n",
    "# Read file data into lists\n",
    "infile = open('simulations.dat', 'r')\n",
    "infile.readline()\n",
    "infile.readline()\n",
    "data = {'time' : [], 'measurement' : [], 'prediction': []}\n",
    "\n",
    "for line in infile:\n",
    "    words = line.split()\n",
    "    floats = [float(word) for word in words] #list comprehension\n",
    "    data['time'].append(floats[0])\n",
    "    data['measurement'].append(floats[1])\n",
    "    data['prediction'].append(floats[2])\n",
    "keys = data.keys()\n",
    "keys.remove('time')\n",
    "print keys\n",
    "for key in keys: #keys in dictionary\n",
    "    plt.plot(data['time'], data[key],label = key)\n",
    "    plt.legend()\n",
    "\n",
    "\"\"\"\n",
    "To make them into numpy arrays:\n",
    "time = np.array(data['time'])\n",
    "measurement = np.array(data['measurement'])\n",
    "prediction = np.array(data['prediction'])\"\"\"\n",
    "#Start with empty lists since we do not know how"
   ]
  },
  {
   "cell_type": "code",
   "execution_count": null,
   "metadata": {
    "collapsed": true
   },
   "outputs": [],
   "source": []
  }
 ],
 "metadata": {
  "kernelspec": {
   "display_name": "Python 2",
   "language": "python",
   "name": "python2"
  },
  "language_info": {
   "codemirror_mode": {
    "name": "ipython",
    "version": 2
   },
   "file_extension": ".py",
   "mimetype": "text/x-python",
   "name": "python",
   "nbconvert_exporter": "python",
   "pygments_lexer": "ipython2",
   "version": "2.7.10"
  }
 },
 "nbformat": 4,
 "nbformat_minor": 0
}
