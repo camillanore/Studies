{
 "cells": [
  {
   "cell_type": "code",
   "execution_count": 1,
   "metadata": {
    "collapsed": true
   },
   "outputs": [],
   "source": [
    "\n",
    "import matplotlib.pyplot as plt\n",
    "import numpy as np\n",
    "%matplotlib inline"
   ]
  },
  {
   "cell_type": "code",
   "execution_count": 2,
   "metadata": {
    "collapsed": false
   },
   "outputs": [],
   "source": [
    "# Is this a nested list, or a two-dimensional array?\n",
    "A = [ 1, 2, \n",
    "      3, 4]"
   ]
  },
  {
   "cell_type": "code",
   "execution_count": 3,
   "metadata": {
    "collapsed": false
   },
   "outputs": [
    {
     "name": "stdout",
     "output_type": "stream",
     "text": [
      "Lurespørsmål: [1, 2, 3, 4]\n"
     ]
    }
   ],
   "source": [
    "print \"Lurespørsmål:\", A"
   ]
  },
  {
   "cell_type": "code",
   "execution_count": 4,
   "metadata": {
    "collapsed": false
   },
   "outputs": [
    {
     "name": "stdout",
     "output_type": "stream",
     "text": [
      "This is a nested list [[1, 2, 3, 4], [1, 2, 3, 4], [1, 2, 3, 4]]\n",
      "This is entry two in B [1, 2, 3, 4]\n"
     ]
    }
   ],
   "source": [
    "# Accessing a nested list.\n",
    "B = [ A, A, A]\n",
    "print \"This is a nested list\", B\n",
    "print \"This is entry two in B\", B[2]"
   ]
  },
  {
   "cell_type": "code",
   "execution_count": 5,
   "metadata": {
    "collapsed": false
   },
   "outputs": [
    {
     "ename": "TypeError",
     "evalue": "list indices must be integers, not tuple",
     "output_type": "error",
     "traceback": [
      "\u001b[1;31m---------------------------------------------------------------------------\u001b[0m",
      "\u001b[1;31mTypeError\u001b[0m                                 Traceback (most recent call last)",
      "\u001b[1;32m<ipython-input-5-0ae3cc226d6c>\u001b[0m in \u001b[0;36m<module>\u001b[1;34m()\u001b[0m\n\u001b[0;32m      1\u001b[0m \u001b[1;31m# Is this legal?\u001b[0m\u001b[1;33m\u001b[0m\u001b[1;33m\u001b[0m\u001b[0m\n\u001b[1;32m----> 2\u001b[1;33m \u001b[1;32mprint\u001b[0m \u001b[0mB\u001b[0m\u001b[1;33m[\u001b[0m\u001b[1;36m1\u001b[0m\u001b[1;33m,\u001b[0m\u001b[1;36m1\u001b[0m\u001b[1;33m]\u001b[0m\u001b[1;33m\u001b[0m\u001b[0m\n\u001b[0m",
      "\u001b[1;31mTypeError\u001b[0m: list indices must be integers, not tuple"
     ]
    }
   ],
   "source": [
    "# Is this legal?\n",
    "print B[1,1]"
   ]
  },
  {
   "cell_type": "code",
   "execution_count": 6,
   "metadata": {
    "collapsed": false
   },
   "outputs": [
    {
     "name": "stdout",
     "output_type": "stream",
     "text": [
      "B is a nested list:  [[1, 2, 3, 4], [1, 2, 3, 4], [1, 2, 3, 4]]\n",
      "B_array is a np.ndarray: \n",
      "[[1 2 3 4]\n",
      " [1 2 3 4]\n",
      " [1 2 3 4]]\n",
      "We can use tuple index accessors on B_array[1,1]: 2\n",
      "To do the same with a nested list, we must use double [][], e.g. B[1][1]: 2\n"
     ]
    }
   ],
   "source": [
    "B_array = np.asarray(B)\n",
    "print \"B is a nested list: \", B\n",
    "print \"B_array is a np.ndarray: \\n\", B_array\n",
    "print \"We can use tuple index accessors on B_array[1,1]:\", B_array[1,1]\n",
    "print \"To do the same with a nested list, we must use double [][], e.g. B[1][1]:\", B[1][1]"
   ]
  },
  {
   "cell_type": "code",
   "execution_count": 7,
   "metadata": {
    "collapsed": false
   },
   "outputs": [
    {
     "name": "stdout",
     "output_type": "stream",
     "text": [
      "0\n",
      "0.5\n",
      "1.0\n",
      "1.5\n",
      "2.0\n"
     ]
    }
   ],
   "source": [
    "#While loops\n",
    "# Used to repeat a collection of program statements several times. While runs as long as condition evaluates to True\n",
    "t = 0\n",
    "dt = 0.5\n",
    "T = 2\n",
    "while t <= T:\n",
    "    print t\n",
    "    t += dt"
   ]
  },
  {
   "cell_type": "code",
   "execution_count": 8,
   "metadata": {
    "collapsed": false
   },
   "outputs": [
    {
     "name": "stdout",
     "output_type": "stream",
     "text": [
      "Final t: 2.5 ; <= T is False\n"
     ]
    }
   ],
   "source": [
    "print 'Final t:', t, '; <= T is', t <= T"
   ]
  },
  {
   "cell_type": "code",
   "execution_count": 9,
   "metadata": {
    "collapsed": true
   },
   "outputs": [],
   "source": [
    "#Lists\n",
    "# Used to collect a number of values in  an ordered sequence\n",
    "mylist = [t, dt, 'mynumbers.dat', 100]"
   ]
  },
  {
   "cell_type": "code",
   "execution_count": null,
   "metadata": {
    "collapsed": true
   },
   "outputs": [],
   "source": []
  },
  {
   "cell_type": "code",
   "execution_count": 10,
   "metadata": {
    "collapsed": false
   },
   "outputs": [
    {
     "name": "stdout",
     "output_type": "stream",
     "text": [
      "[1, 4.4, 'run.py']\n"
     ]
    },
    {
     "data": {
      "text/plain": [
       "[3.2, 9, 7]"
      ]
     },
     "execution_count": 10,
     "metadata": {},
     "output_type": "execute_result"
    }
   ],
   "source": [
    "a = [1, 4.4, 'run.py']\n",
    "print sorted(a)\n",
    "a[1:3]\n",
    "#a.remove(1)\n",
    "min(a)\n",
    "max(a)\n",
    "reversed(a)\n",
    "a.insert(1, 4) #insert element 4 before index 1\n",
    "type(a) is list\n",
    "len(a)\n",
    "a[-1] #get last list element\n",
    "a[3]\n",
    "b = [4, 3.2, 9, 7, 12]\n",
    "sum(b)\n",
    "b[1:4] #will copy the data to a sublist, not including index 4"
   ]
  },
  {
   "cell_type": "markdown",
   "metadata": {},
   "source": [
    "# Nested lists\n",
    "# The list elements are also lists. Loop traversal of nested lists ans indexing"
   ]
  },
  {
   "cell_type": "code",
   "execution_count": 11,
   "metadata": {
    "collapsed": false
   },
   "outputs": [
    {
     "name": "stdout",
     "output_type": "stream",
     "text": [
      "-10\n",
      "[0, 0, 1]\n",
      "[-1, -1, 2]\n",
      "[-10, 10, 5]\n",
      "  0   0   1\n",
      " -1  -1   2\n",
      "-10  10   5\n"
     ]
    }
   ],
   "source": [
    "nl = [[0,0,1],[-1, -1, 2], [-10, 10, 5]]\n",
    "nl[0] #index a list element (here element 0)\n",
    "nl[-1] #get last list element\n",
    "nl[0][2] #Nested list indexing (here the trird imput in the first element)\n",
    "print nl[-1][0]\n",
    "for p in nl: # not sure i understand this\n",
    "    print p\n",
    "for a, b, c in nl: #neither this\n",
    "    print '%3d %3d %3d' % (a, b, c)"
   ]
  },
  {
   "cell_type": "code",
   "execution_count": 12,
   "metadata": {
    "collapsed": false
   },
   "outputs": [
    {
     "name": "stdout",
     "output_type": "stream",
     "text": [
      "Easy last column of np array: [4 4 4]\n",
      "Hard: last column of nested list, B[:] is  [[1, 2, 3, 4], [1, 2, 3, 4], [1, 2, 3, 4]]\n",
      "4\n",
      "4\n",
      "4\n"
     ]
    }
   ],
   "source": [
    "# Exercise: Get the last element, of each sub-list?\n",
    "# print B[:][3]\n",
    "print \"Easy last column of np array:\", B_array[:,3]\n",
    "print \"Hard: last column of nested list, B[:] is \", B[:] \n",
    "# Is just the same as B, and you can't do B[:][3]\n",
    "# But you can do it with a for loop:\n",
    "for sub_list in B:\n",
    "    print sub_list[3]\n"
   ]
  },
  {
   "cell_type": "markdown",
   "metadata": {},
   "source": [
    "#Tuples\n",
    "No changes in the tuple is allowed"
   ]
  },
  {
   "cell_type": "code",
   "execution_count": 13,
   "metadata": {
    "collapsed": false
   },
   "outputs": [
    {
     "ename": "SyntaxError",
     "evalue": "invalid syntax (<ipython-input-13-b7d3ba7280b9>, line 1)",
     "output_type": "error",
     "traceback": [
      "\u001b[1;36m  File \u001b[1;32m\"<ipython-input-13-b7d3ba7280b9>\"\u001b[1;36m, line \u001b[1;32m1\u001b[0m\n\u001b[1;33m    print mytuple = (t, dt, T, 'mynumbers.dat', 100)\u001b[0m\n\u001b[1;37m                  ^\u001b[0m\n\u001b[1;31mSyntaxError\u001b[0m\u001b[1;31m:\u001b[0m invalid syntax\n"
     ]
    }
   ],
   "source": [
    "print mytuple = (t, dt, T, 'mynumbers.dat', 100)"
   ]
  },
  {
   "cell_type": "markdown",
   "metadata": {},
   "source": [
    "# For Loops"
   ]
  },
  {
   "cell_type": "code",
   "execution_count": 14,
   "metadata": {
    "collapsed": false
   },
   "outputs": [
    {
     "name": "stdout",
     "output_type": "stream",
     "text": [
      "10 20 25 27 28.5 1 3"
     ]
    },
    {
     "ename": "NameError",
     "evalue": "name 'M' is not defined",
     "output_type": "error",
     "traceback": [
      "\u001b[1;31m---------------------------------------------------------------------------\u001b[0m",
      "\u001b[1;31mNameError\u001b[0m                                 Traceback (most recent call last)",
      "\u001b[1;32m<ipython-input-14-db5bf8bbc6ad>\u001b[0m in \u001b[0;36m<module>\u001b[1;34m()\u001b[0m\n\u001b[0;32m      5\u001b[0m     \u001b[1;32mprint\u001b[0m \u001b[0melem\u001b[0m\u001b[1;33m,\u001b[0m\u001b[1;33m\u001b[0m\u001b[0m\n\u001b[0;32m      6\u001b[0m \u001b[0ms\u001b[0m \u001b[1;33m=\u001b[0m \u001b[1;36m0\u001b[0m \u001b[1;31m# acumulation variable\u001b[0m\u001b[1;33m\u001b[0m\u001b[0m\n\u001b[1;32m----> 7\u001b[1;33m \u001b[1;32mfor\u001b[0m \u001b[0mj\u001b[0m \u001b[1;32min\u001b[0m \u001b[0mrange\u001b[0m\u001b[1;33m(\u001b[0m\u001b[0mM\u001b[0m\u001b[1;33m,\u001b[0m \u001b[0mN\u001b[0m\u001b[1;33m+\u001b[0m\u001b[1;36m1\u001b[0m\u001b[1;33m,\u001b[0m \u001b[1;36m1\u001b[0m\u001b[1;33m)\u001b[0m\u001b[1;33m:\u001b[0m\u001b[1;33m\u001b[0m\u001b[0m\n\u001b[0m\u001b[0;32m      8\u001b[0m     \u001b[0ms\u001b[0m \u001b[1;33m+=\u001b[0m \u001b[1;36m1.\u001b[0m\u001b[1;33m/\u001b[0m\u001b[0mj\u001b[0m\u001b[1;33m**\u001b[0m\u001b[1;36m2\u001b[0m\u001b[1;33m\u001b[0m\u001b[0m\n\u001b[0;32m      9\u001b[0m     \u001b[1;32mprint\u001b[0m \u001b[0ms\u001b[0m\u001b[1;33m\u001b[0m\u001b[0m\n",
      "\u001b[1;31mNameError\u001b[0m: name 'M' is not defined"
     ]
    }
   ],
   "source": [
    "for elem in [10, 20, 25, 27, 28.5]:\n",
    "    print elem, #use comma to prevent new line\n",
    "    # but how to stop this before starting on the next?\n",
    "for elem in range(1, 5, 2):\n",
    "    print elem,\n",
    "s = 0 # acumulation variable\n",
    "for j in range(M, N+1, 1):\n",
    "    s += 1./j**2\n",
    "    print s"
   ]
  },
  {
   "cell_type": "code",
   "execution_count": 15,
   "metadata": {
    "collapsed": false
   },
   "outputs": [
    {
     "name": "stdout",
     "output_type": "stream",
     "text": [
      " \n",
      "640.0 meters corresponds to\n",
      "25196.85 inches\n",
      "2099.74 feet\n",
      "699.91 yards\n",
      "0.3977 miles\n",
      "\n"
     ]
    }
   ],
   "source": [
    "# Exercise 1.4 Length conversion\n",
    "\n",
    "\"\"\"\n",
    "length_in_unit = length_in_meters/unit\n",
    "km = 1000.0\n",
    "length_in_km = length_in_meters/km\n",
    "\"\"\"\n",
    "\n",
    "inch = 2.54/100 #cm/100 = m\n",
    "foot = 12.0*inch\n",
    "yard = 3.0*foot\n",
    "mile = 1760.0*yard\n",
    "\n",
    "length_in_meters = 640.0\n",
    "\n",
    "print \"\"\"\n",
    "%.1f meters corresponds to\n",
    "%.2f inches\n",
    "%.2f feet\n",
    "%.2f yards\n",
    "%.4f miles\n",
    "\"\"\" %(length_in_meters, length_in_meters/inch, \n",
    "      length_in_meters/foot, length_in_meters/yard, length_in_meters/mile) #stating all the input arguments"
   ]
  },
  {
   "cell_type": "code",
   "execution_count": 16,
   "metadata": {
    "collapsed": false
   },
   "outputs": [
    {
     "name": "stdout",
     "output_type": "stream",
     "text": [
      "Forces for V = 33.3 km/h: Drag = 5.1 N, Gravity = 4.2 N, Ratio = 0.8.\n",
      "Forces for V = 2.8 km/h: Drag = 0.0 N, Gravity = 4.2 N, Ratio = 119.8.\n"
     ]
    },
    {
     "data": {
      "image/png": "[encoded data removed]",
      "text/plain": [
       "<matplotlib.figure.Figure at 0xa577b00>"
      ]
     },
     "metadata": {},
     "output_type": "display_data"
    }
   ],
   "source": [
    "# Exercise 1.11: Compute the air resistance on a football (kick.py) # Tror det går ann å løse denne på en enklere måte?\n",
    "\n",
    "import pylab\n",
    "import numpy as np\n",
    "\n",
    "\n",
    "def air_resistance(velocity,           #m/s\n",
    "                   radius=0.11,         #m\n",
    "                   drag_coefficient=0.2):   #no units\n",
    "                    \n",
    "    k_air_density = 1.2 # kg/m**3 \n",
    "    area = np.pi*radius**2\n",
    "    drag_force = (0.5*drag_coefficient*k_air_density*\n",
    "                        area*velocity**2)\n",
    "    return drag_force # N\n",
    "   \n",
    "air_drag=[]\n",
    "velocity=[]\n",
    "for i in range(0,400):\n",
    "    velocity.append(i/10.0)\n",
    "    air_drag.append(air_resistance(i/10.0))\n",
    "pylab.plot(velocity,air_drag)\n",
    "pylab.xlabel('Velocity, m/s')\n",
    "pylab.ylabel('Drag force, N')\n",
    "\n",
    "def convert_kmh_to_ms( vel_kmh):\n",
    "   return vel_kmh/3.6 # m/s\n",
    "   \n",
    "# Requested output:\n",
    "# Forces for V = 120 km/h: Drag = 13.9 N,  Gravity = 3.2 N, Ratio = 10.1\n",
    "def print_forces(vel_kmh, mass=0.43):\n",
    "    vel=convert_kmh_to_ms(vel_kmh)\n",
    "    drag=air_resistance(vel)\n",
    "    gravity_force=9.81*mass\n",
    "    ratio=gravity_force/drag\n",
    "    print ''.join( #join empty string with list of strings.\n",
    "    ('Forces for V = ', format(vel,'.1f'), \n",
    "    ' km/h: Drag = ', format(drag,'.1f'), \n",
    "    ' N, Gravity = ', format(gravity_force,'.1f'), \n",
    "    ' N, Ratio = ', format(ratio,'.1f'), '.'))\n",
    "    \n",
    "print_forces(120)\n",
    "\n",
    "print_forces(10)"
   ]
  },
  {
   "cell_type": "code",
   "execution_count": 17,
   "metadata": {
    "collapsed": false
   },
   "outputs": [
    {
     "name": "stdout",
     "output_type": "stream",
     "text": [
      "------------------\n",
      "  0.0 -17.8\n",
      " 10.0 -12.2\n",
      " 20.0  -6.7\n",
      " 30.0  -1.1\n",
      " 40.0   4.4\n",
      " 50.0  10.0\n",
      " 60.0  15.6\n",
      " 70.0  21.1\n",
      " 80.0  26.7\n",
      " 90.0  32.2\n",
      "100.0  37.8\n",
      "------------------\n"
     ]
    }
   ],
   "source": [
    "# Exercise 2.1 Make a Fahrenheit-Celcius conversion table (f2c_table_while.py)\n",
    "\n",
    "print '------------------'     \n",
    "F = 0\n",
    "dF = 10\n",
    "while F <= 100:                \n",
    "    C = (F-32)*(5.0/9)\n",
    "    print \"%5.1f %5.1f\" %(F, C)  \n",
    "    F = F + dF                 \n",
    "print '------------------'  \n"
   ]
  },
  {
   "cell_type": "code",
   "execution_count": 28,
   "metadata": {
    "collapsed": false
   },
   "outputs": [
    {
     "name": "stdout",
     "output_type": "stream",
     "text": [
      "For loop:\n",
      " 0.00  0.00\n",
      " 0.10  0.97\n",
      " 0.20  1.83\n",
      " 0.31  2.60\n",
      " 0.41  3.26\n",
      " 0.51  3.82\n",
      " 0.61  4.28\n",
      " 0.71  4.64\n",
      " 0.82  4.89\n",
      " 0.92  5.05\n",
      " 1.02  5.10\n",
      " 1.12  5.05\n",
      " 1.22  4.89\n",
      " 1.33  4.64\n",
      " 1.43  4.28\n",
      " 1.53  3.82\n",
      " 1.63  3.26\n",
      " 1.73  2.60\n",
      " 1.83  1.83\n",
      " 1.94  0.97\n",
      " 2.04  0.00\n",
      "While loop:\n",
      " 0.00  0.00\n",
      " 0.10  0.97\n",
      " 0.20  1.83\n",
      " 0.31  2.60\n",
      " 0.41  3.26\n",
      " 0.51  3.82\n",
      " 0.61  4.28\n",
      " 0.71  4.64\n",
      " 0.82  4.89\n",
      " 0.92  5.05\n",
      " 1.02  5.10\n",
      " 1.12  5.05\n",
      " 1.22  4.89\n",
      " 1.33  4.64\n",
      " 1.43  4.28\n",
      " 1.53  3.82\n",
      " 1.63  3.26\n",
      " 1.73  2.60\n",
      " 1.83  1.83\n",
      " 1.94  0.97\n",
      " 2.04  0.00\n"
     ]
    }
   ],
   "source": [
    "# Exercise 2.7 Make a table of values from a formula (ball_table1.py)\n",
    "\n",
    "# purpose is to write nicely formattet tables. Changed from n=5 to n=20 and v0=5.0 to v0=10.0\n",
    "n = 20\n",
    "\n",
    "v0 = 10.0\n",
    "g = 9.81\n",
    "\n",
    "t_stop = 2*v0/g\n",
    "dt = t_stop/n\n",
    "\n",
    "print \"For loop:\"\n",
    "for i in range(n+1):\n",
    "    t = dt*i\n",
    "    y = v0*t -0.5*g*t**2\n",
    "    print \"%5.2f %5.2f\" %(t, y)\n",
    "\n",
    "print \"While loop:\"\n",
    "t = 0\n",
    "eps = 1e-9 #Question: why do we include eps here? To get the while loop run until the last value? Yes, due to round off errors\n",
    "\n",
    "while t < t_stop+eps:\n",
    "    y = v0*t -0.5*g*t**2\n",
    "    print \"%5.2f %5.2f\" %(t, y)\n",
    "    t += dt"
   ]
  },
  {
   "cell_type": "code",
   "execution_count": 19,
   "metadata": {
    "collapsed": false
   },
   "outputs": [
    {
     "data": {
      "image/png": "[encoded data removed]",
      "text/plain": [
       "<matplotlib.figure.Figure at 0xa76c4a8>"
      ]
     },
     "metadata": {},
     "output_type": "display_data"
    }
   ],
   "source": [
    "# I did run this version on the iPyton notebook using what is stated in\"#\"\n",
    "from numpy import * #import numy as np\n",
    "from matplotlib.pyplot import * #import matplotlib.pyplot as plt\n",
    "\n",
    "#alternative version:\n",
    "#from scitools.std import *\n",
    "\n",
    "v0 = 10.0\n",
    "g = 9.81\n",
    "t_max = 2*v0/g # max value stated in the exercise\n",
    "n = 100 #no of points \n",
    "t = linspace(0,t_max,n) #np.linspace(start value of sequence,stop included only if true, number of samples)\n",
    "y = v0*t -0.5*g*t**2\n",
    "\n",
    "plot(t,y) # I normally use plt.plot(args, kwargs) What does that mean? Normally x, y axis\n",
    "xlabel('time (s)')\n",
    "ylabel('height (m)')\n",
    "show() # plt.show()"
   ]
  },
  {
   "cell_type": "code",
   "execution_count": 20,
   "metadata": {
    "collapsed": false
   },
   "outputs": [
    {
     "name": "stdout",
     "output_type": "stream",
     "text": [
      "Position after 2.03873598369 second 0.0\n",
      "t = 0.00\ty = 0.00\n",
      "t = 0.20\ty = 1.83\n",
      "t = 0.41\ty = 3.26\n",
      "t = 0.61\ty = 4.28\n",
      "t = 0.82\ty = 4.89\n",
      "t = 1.02\ty = 5.10\n",
      "t = 1.22\ty = 4.89\n",
      "t = 1.43\ty = 4.28\n",
      "t = 1.63\ty = 3.26\n",
      "t = 1.83\ty = 1.83\n",
      "t = 2.04\ty = 0.00\n"
     ]
    },
    {
     "data": {
      "text/plain": [
       "[<matplotlib.lines.Line2D at 0xbe75198>]"
      ]
     },
     "execution_count": 20,
     "metadata": {},
     "output_type": "execute_result"
    },
    {
     "data": {
      "image/png": "[encoded data removed]",
      "text/plain": [
       "<matplotlib.figure.Figure at 0xa94d908>"
      ]
     },
     "metadata": {},
     "output_type": "display_data"
    }
   ],
   "source": [
    "#Exercise 2.8 (ball_table2.py)\n",
    "# Exercise 2.8: Store values from a formula in lists\n",
    "\n",
    "#This exercise aims to produce the same table of numbers as in Exercise 2.7,\n",
    "#but with different code. First, store the t and y values in two lists t and\n",
    "#y. Thereafter, write out a nicely formatted table by traversing the two\n",
    "#lists with a for loop.\n",
    "\n",
    "#Hint. In the for loop, use either zip to traverse the two lists in parallel,\n",
    "#or use an index and the range construction.\n",
    "\n",
    "\n",
    "# Exercise 2.7 y(t) = v0t − 1/2*gt^2\n",
    "# Use n + 1 uniformly spaced t values throughout the interval [0, 2v0/g].\n",
    "# use a for loop to produce the table\n",
    "\n",
    "k_gravity = 9.81 #ms**2\n",
    "v_0 = 10        #ms\n",
    "n = 10        # Steps in simulation\n",
    "end_time_s = 2*v_0/k_gravity #Given in the exercise\n",
    "\n",
    "def find_y_t( t, initial_velocity_ms = v_0):\n",
    "    return initial_velocity_ms * t - 0.5*k_gravity*t**2\n",
    "\n",
    "print 'Position after', end_time_s, 'second', find_y_t(end_time_s)\n",
    "    \n",
    "t = np.linspace(0, end_time_s, num=n+1)\n",
    "y = np.zeros(n+1)\n",
    "\n",
    "# Calculate and fill in values in y\n",
    "for i in range( len(t)):\n",
    "    y[i] = find_y_t(t[i]) #Question: could we just specify the y function here? \n",
    "    \n",
    " # Print out the values, and try using zip   \n",
    "for (time, height) in zip(t,y):\n",
    "    print ('t = '+ format(time,'.2f')+\n",
    "           '\\ty = '+ format(height,'.2f'))\n",
    "           \n",
    "plt.figure('Ball vertical position')\n",
    "plt.plot(t,y)"
   ]
  },
  {
   "cell_type": "code",
   "execution_count": 21,
   "metadata": {
    "collapsed": false
   },
   "outputs": [
    {
     "ename": "ValueError",
     "evalue": "could not convert string to float: -f",
     "output_type": "error",
     "traceback": [
      "\u001b[1;31m---------------------------------------------------------------------------\u001b[0m",
      "\u001b[1;31mValueError\u001b[0m                                Traceback (most recent call last)",
      "\u001b[1;32m<ipython-input-21-c14cdba0d43d>\u001b[0m in \u001b[0;36m<module>\u001b[1;34m()\u001b[0m\n\u001b[0;32m      8\u001b[0m     \u001b[0msys\u001b[0m\u001b[1;33m.\u001b[0m\u001b[0mexit\u001b[0m\u001b[1;33m(\u001b[0m\u001b[1;36m1\u001b[0m\u001b[1;33m)\u001b[0m\u001b[1;33m\u001b[0m\u001b[0m\n\u001b[0;32m      9\u001b[0m \u001b[1;33m\u001b[0m\u001b[0m\n\u001b[1;32m---> 10\u001b[1;33m \u001b[0mv0_list\u001b[0m \u001b[1;33m=\u001b[0m \u001b[1;33m[\u001b[0m\u001b[0mfloat\u001b[0m\u001b[1;33m(\u001b[0m\u001b[0mv0\u001b[0m\u001b[1;33m)\u001b[0m \u001b[1;32mfor\u001b[0m \u001b[0mv0\u001b[0m \u001b[1;32min\u001b[0m \u001b[0msys\u001b[0m\u001b[1;33m.\u001b[0m\u001b[0margv\u001b[0m\u001b[1;33m[\u001b[0m\u001b[1;36m1\u001b[0m\u001b[1;33m:\u001b[0m\u001b[1;33m]\u001b[0m\u001b[1;33m]\u001b[0m\u001b[1;33m\u001b[0m\u001b[0m\n\u001b[0m\u001b[0;32m     11\u001b[0m \u001b[0mg\u001b[0m \u001b[1;33m=\u001b[0m \u001b[1;36m9.81\u001b[0m\u001b[1;33m\u001b[0m\u001b[0m\n\u001b[0;32m     12\u001b[0m \u001b[1;33m\u001b[0m\u001b[0m\n",
      "\u001b[1;31mValueError\u001b[0m: could not convert string to float: -f"
     ]
    }
   ],
   "source": [
    "# Answer to plot_ball2.py\n",
    "#SKJØNNER IKKE\n",
    "from numpy import *\n",
    "from matplotlib.pyplot import *\n",
    "import sys\n",
    "\n",
    "if len(sys.argv) ==1:\n",
    "    print 'Give v0 values on the command line!'\n",
    "    sys.exit(1)\n",
    "\n",
    "v0_list = [float(v0) for v0 in sys.argv[1:]]\n",
    "g = 9.81\n",
    "\n",
    "legends = [] #text for each curve \n",
    "for v0 in v0_list:\n",
    "    v0 = float(v0)\n",
    "    t_max = 2*v0/g\n",
    "    t = linspace(0,t_max,100)\n",
    "    y = v0*t -0.5*g*t**2\n",
    "    hold(True)\n",
    "    plot(t,y)\n",
    "    legends.append('v0=%g'%v0)\n",
    "\n",
    "\n",
    "xlabel('time (s)')\n",
    "ylabel('height (m)')\n",
    "legend(legends)\n",
    "show()"
   ]
  },
  {
   "cell_type": "code",
   "execution_count": 30,
   "metadata": {
    "collapsed": false
   },
   "outputs": [
    {
     "ename": "TypeError",
     "evalue": "zip argument #1 must support iteration",
     "output_type": "error",
     "traceback": [
      "\u001b[1;31m---------------------------------------------------------------------------\u001b[0m",
      "\u001b[1;31mTypeError\u001b[0m                                 Traceback (most recent call last)",
      "\u001b[1;32m<ipython-input-30-d4d5e2afc3ca>\u001b[0m in \u001b[0;36m<module>\u001b[1;34m()\u001b[0m\n\u001b[0;32m      8\u001b[0m \u001b[0mty1\u001b[0m\u001b[1;33m.\u001b[0m\u001b[0mappend\u001b[0m\u001b[1;33m(\u001b[0m\u001b[0my\u001b[0m\u001b[1;33m)\u001b[0m\u001b[1;33m\u001b[0m\u001b[0m\n\u001b[0;32m      9\u001b[0m \u001b[1;33m\u001b[0m\u001b[0m\n\u001b[1;32m---> 10\u001b[1;33m \u001b[1;32mfor\u001b[0m \u001b[0mt\u001b[0m\u001b[1;33m,\u001b[0m \u001b[0my\u001b[0m \u001b[1;32min\u001b[0m \u001b[0mzip\u001b[0m\u001b[1;33m(\u001b[0m\u001b[0mty1\u001b[0m\u001b[1;33m[\u001b[0m\u001b[1;36m0\u001b[0m\u001b[1;33m]\u001b[0m\u001b[1;33m,\u001b[0m \u001b[0mty1\u001b[0m\u001b[1;33m[\u001b[0m\u001b[1;36m1\u001b[0m\u001b[1;33m]\u001b[0m\u001b[1;33m)\u001b[0m\u001b[1;33m:\u001b[0m\u001b[1;33m\u001b[0m\u001b[0m\n\u001b[0m\u001b[0;32m     11\u001b[0m     \u001b[1;32mprint\u001b[0m \u001b[1;34m\"%.2f   %.2f\"\u001b[0m \u001b[1;33m%\u001b[0m \u001b[1;33m(\u001b[0m\u001b[0mt\u001b[0m\u001b[1;33m,\u001b[0m \u001b[0my\u001b[0m\u001b[1;33m)\u001b[0m\u001b[1;33m\u001b[0m\u001b[0m\n\u001b[0;32m     12\u001b[0m \u001b[1;33m\u001b[0m\u001b[0m\n",
      "\u001b[1;31mTypeError\u001b[0m: zip argument #1 must support iteration"
     ]
    }
   ],
   "source": [
    "# Exercise 2.16 (ball_table3.py, side 88)\n",
    "\n",
    "# FIKK IKKE POENG FOR DENNE MÅTEN Å LØSE OPPGAVEN PÅ.\n",
    "# have to store data in a nested list\n",
    "\n",
    "ty1 = [] # new nestet list\n",
    "ty1.append(t)\n",
    "ty1.append(y)\n",
    "\n",
    "for t, y in zip(ty1[0], ty1[1]):\n",
    "    print \"%.2f   %.2f\" % (t, y)\n",
    "    \n",
    "\"\"\"\n",
    "import numpy as np\n",
    "import matplotlib.pyplot as plt\n",
    "\n",
    "\n",
    "k_gravity = 9.81 #ms**2\n",
    "v_0 = 10        #ms\n",
    "n = 10        # Steps in simulation\n",
    "end_time_s = 2*v_0/k_gravity\n",
    "\n",
    "def find_y_t( t, initial_velocity_ms = v_0):\n",
    "    return initial_velocity_ms * t - 0.5*k_gravity*t**2\n",
    "\n",
    "print 'Position after', end_time_s, 'second', find_y_t(end_time_s)\n",
    "data = np.zeros((n+1,2))    \n",
    "\n",
    "data[:,0] = np.linspace(0, end_time_s, num=n+1)\n",
    "print data\n",
    "\n",
    "# Calculate and fill in values in y\n",
    "for i in range( len(data)):\n",
    "    data[i,1] = find_y_t(data[i,0])\n",
    "    \n",
    " # Print out the values, and try using zip   \n",
    "for (time, height) in data:\n",
    "    print ('t = '+ format(time,'.2f')+\n",
    "           '\\ty = '+ format(height,'.2f'))\n",
    "           \n",
    "plt.figure('Ball vertical position')\n",
    "plt.plot(data[:,0],data[:,1])\n",
    "\"\"\""
   ]
  },
  {
   "cell_type": "code",
   "execution_count": 31,
   "metadata": {
    "collapsed": false
   },
   "outputs": [
    {
     "ename": "ValueError",
     "evalue": "could not convert string to float: -f",
     "output_type": "error",
     "traceback": [
      "\u001b[1;31m---------------------------------------------------------------------------\u001b[0m",
      "\u001b[1;31mValueError\u001b[0m                                Traceback (most recent call last)",
      "\u001b[1;32m<ipython-input-31-aaaf742b5964>\u001b[0m in \u001b[0;36m<module>\u001b[1;34m()\u001b[0m\n\u001b[0;32m     16\u001b[0m \u001b[1;33m\u001b[0m\u001b[0m\n\u001b[0;32m     17\u001b[0m \u001b[1;32mfor\u001b[0m \u001b[0mv0\u001b[0m \u001b[1;32min\u001b[0m \u001b[0mv0_list\u001b[0m\u001b[1;33m:\u001b[0m\u001b[1;33m\u001b[0m\u001b[0m\n\u001b[1;32m---> 18\u001b[1;33m     \u001b[0mv0\u001b[0m \u001b[1;33m=\u001b[0m \u001b[0mfloat\u001b[0m\u001b[1;33m(\u001b[0m\u001b[0mv0\u001b[0m\u001b[1;33m)\u001b[0m\u001b[1;33m\u001b[0m\u001b[0m\n\u001b[0m\u001b[0;32m     19\u001b[0m     \u001b[0mt\u001b[0m \u001b[1;33m=\u001b[0m \u001b[0mlinspace\u001b[0m\u001b[1;33m(\u001b[0m\u001b[1;36m0\u001b[0m\u001b[1;33m,\u001b[0m\u001b[1;36m2\u001b[0m\u001b[1;33m*\u001b[0m\u001b[0mv0\u001b[0m\u001b[1;33m/\u001b[0m\u001b[0mg\u001b[0m\u001b[1;33m,\u001b[0m\u001b[1;36m100\u001b[0m\u001b[1;33m)\u001b[0m\u001b[1;33m\u001b[0m\u001b[0m\n\u001b[0;32m     20\u001b[0m     \u001b[0my\u001b[0m \u001b[1;33m=\u001b[0m \u001b[0mv0\u001b[0m\u001b[1;33m*\u001b[0m\u001b[0mt\u001b[0m \u001b[1;33m-\u001b[0m\u001b[1;36m0.5\u001b[0m\u001b[1;33m*\u001b[0m\u001b[0mg\u001b[0m\u001b[1;33m*\u001b[0m\u001b[0mt\u001b[0m\u001b[1;33m**\u001b[0m\u001b[1;36m2\u001b[0m\u001b[1;33m\u001b[0m\u001b[0m\n",
      "\u001b[1;31mValueError\u001b[0m: could not convert string to float: -f"
     ]
    }
   ],
   "source": [
    "#Exercise 2.16\n",
    "from numpy import *\n",
    "from matplotlib.pyplot import *\n",
    "import sys\n",
    "\n",
    "\n",
    "if len(sys.argv) == 1:\n",
    "    print 'Give v0 values on the command line!'\n",
    "    sys.exit(1)\n",
    "\n",
    "v0_list = sys.argv[1:]\n",
    "g = 9.81\n",
    "\n",
    "max_t = 0\n",
    "max_y = 0\n",
    "\n",
    "for v0 in v0_list:\n",
    "    v0 = float(v0)\n",
    "    t = linspace(0,2*v0/g,100)\n",
    "    y = v0*t -0.5*g*t**2\n",
    "    if max(t) > max_t:\n",
    "        max_t = max(t)\n",
    "    if max(y) > max_y:\n",
    "        max_y = max(y)\n",
    "    plot(t,y)\n",
    "\n",
    "xlabel('time (s)')\n",
    "ylabel('height (m)')\n",
    "axis([0,max_t,0,max_y*1.2])\n",
    "\n",
    "show()\n"
   ]
  },
  {
   "cell_type": "code",
   "execution_count": 35,
   "metadata": {
    "collapsed": false
   },
   "outputs": [
    {
     "name": "stdout",
     "output_type": "stream",
     "text": [
      "While loop, Sum of 1/n:  5.18737751764\n",
      "For loop, Sum of 1/n:  5.17737751764\n"
     ]
    }
   ],
   "source": [
    "# Exercise 2.10 (sum_while.py)\n",
    "# s=sum(1/k) for k=1 to M=100\n",
    "#Explain why the following program does not work\n",
    "#s = 0; k = 1; M = 100\n",
    "#while k < M:\n",
    "#s += 1/k\n",
    "#print s\n",
    "\n",
    "k = 1.0\n",
    "s = 0\n",
    "M = 100\n",
    "\n",
    "# You can write this loop in two ways, using while:\n",
    "while k <= M: # REMEMBER k<=M, have to include =\n",
    "    s += 1.0/k # QUESTION: DO we always use += in for and while loops?\n",
    "    k += 1\n",
    "print 'While loop, Sum of 1/n: ', s\n",
    "\n",
    "# Or using for:\n",
    "\n",
    "s2 = 0.0\n",
    "for k in range(1,M):\n",
    "    s2 += 1.0/k\n",
    "print 'For loop, Sum of 1/n: ', s2"
   ]
  },
  {
   "cell_type": "code",
   "execution_count": 37,
   "metadata": {
    "collapsed": false
   },
   "outputs": [
    {
     "name": "stdout",
     "output_type": "stream",
     "text": [
      "For loop, sum (1/k): 5.18737751764\n"
     ]
    }
   ],
   "source": [
    "# Alternative solution to exercise 2.10 must be run in terminal (?)\n",
    "# Including a test\n",
    "# OR IS THIS NOT GIVING OUTPUT BECAUSE THE TEST IS PASSED?\n",
    "def sum_1k(M):\n",
    "    \"\"\"Evaluates sum(1/k), for k = 1,...,M\"\"\"\n",
    "    s = 0\n",
    "    for k in range(1,M+1): # What is the difference M or M+1\n",
    "        s = s + 1.0/k\n",
    "    return s\n",
    "print 'For loop, sum (1/k):', s # YES, i do think so because this gave output\n",
    "\n",
    "def test_sum_1k():\n",
    "    \"\"\"tests sum_1k for M=3\"\"\"\n",
    "    expected = 1.0+5.0/6.0\n",
    "    computed = sum_1k(3)\n",
    "    tol = 1e-10\n",
    "\n",
    "    success = abs(expected-computed) < tol\n",
    "    msg = \"%g != %g\" %(computed, expected)\n",
    "\n",
    "    assert success, msg"
   ]
  },
  {
   "cell_type": "code",
   "execution_count": 26,
   "metadata": {
    "collapsed": false
   },
   "outputs": [
    {
     "name": "stdout",
     "output_type": "stream",
     "text": [
      "The two lists have length 21 and 21\n",
      "List 1: [0.0, 0.5, 1.0, 1.5, 2.0, 2.5, 3.0, 3.5, 4.0, 4.5, 5.0, 5.5, 6.0, 6.5, 7.0, 7.5, 8.0, 8.5, 9.0, 9.5, 10.0]\n",
      "List 2: [0.0, 0.5, 1.0, 1.5, 2.0, 2.5, 3.0, 3.5, 4.0, 4.5, 5.0, 5.5, 6.0, 6.5, 7.0, 7.5, 8.0, 8.5, 9.0, 9.5, 10.0]\n"
     ]
    }
   ],
   "source": [
    "# Exercise 2.6 (coor.py, side 85)\n",
    "#interval bounds\n",
    "a = 0\n",
    "b = 10\n",
    "\n",
    "#number of subintervals\n",
    "n = 20\n",
    "h = float(b-a)/n\n",
    "\n",
    "#regular for loop:\n",
    "coor = []\n",
    "for i in range(n+1):\n",
    "    x = a+i*h\n",
    "    coor.append(x)\n",
    "\n",
    "#list comprehension:\n",
    "coor2 = [a+i*h for i in range(n+1)]\n",
    "\n",
    "print \"The two lists have length %d and %d\" %(len(coor), len(coor2))\n",
    "print \"List 1:\", coor\n",
    "print \"List 2:\", coor2"
   ]
  },
  {
   "cell_type": "code",
   "execution_count": 27,
   "metadata": {
    "collapsed": false
   },
   "outputs": [
    {
     "name": "stdout",
     "output_type": "stream",
     "text": [
      "a\n",
      "['d', 'e', 'f']\n",
      "h\n",
      "d\n",
      "\n",
      "q[-1][-2] extracts the last element of q, which is a list, and\n",
      "then extracts the second to last element of this list, which is 'g'\n",
      "\n",
      "Loop:\n",
      "a\n",
      "b\n",
      "c\n",
      "d\n",
      "e\n",
      "f\n",
      "g\n",
      "h\n",
      "The objects i are lists, while objects j are integers\n"
     ]
    }
   ],
   "source": [
    "# Exercise 2.14 (index_nested_list.py, side 87)\n",
    "q = [['a', 'b', 'c'], ['d', 'e', 'f'], ['g', 'h']]\n",
    "\n",
    "#the letter a\n",
    "print q[0][0]\n",
    "\n",
    "#the list [d,e,f]\n",
    "print q[1]\n",
    "\n",
    "#the letter h\n",
    "print q[-1][-1]\n",
    "\n",
    "#the letter d\n",
    "print q[1][0]\n",
    "\n",
    "print \"\"\"\n",
    "q[-1][-2] extracts the last element of q, which is a list, and\n",
    "then extracts the second to last element of this list, which is 'g'\n",
    "\"\"\"\n",
    "\n",
    "print \"Loop:\"\n",
    "for i in q:\n",
    "    for j in range(len(i)):\n",
    "        print i[j]\n",
    "        \n",
    "print \"The objects i are lists, while objects j are integers\""
   ]
  }
 ],
 "metadata": {
  "kernelspec": {
   "display_name": "Python 2",
   "language": "python",
   "name": "python2"
  },
  "language_info": {
   "codemirror_mode": {
    "name": "ipython",
    "version": 2
   },
   "file_extension": ".py",
   "mimetype": "text/x-python",
   "name": "python",
   "nbconvert_exporter": "python",
   "pygments_lexer": "ipython2",
   "version": "2.7.10"
  }
 },
 "nbformat": 4,
 "nbformat_minor": 0
}
