{
 "cells": [
  {
   "cell_type": "code",
   "execution_count": 10,
   "metadata": {
    "collapsed": false
   },
   "outputs": [
    {
     "name": "stdout",
     "output_type": "stream",
     "text": [
      "<type 'function'>\n",
      "<type 'function'>\n",
      "(1, 0)\n",
      "(1.0, 0.0)\n"
     ]
    }
   ],
   "source": [
    "# Oppgave 1f\n",
    "def iterate(f, x, dfdx, tolerance=1.0E-2, max_n=5):\n",
    "    n = 0\n",
    "    # while abs(g(x))= abs(1-x) >tolerance and n<=max_n\n",
    "    # while abs(g(1))= abs(0) >tolerance and n<=max_n --> not true = False\n",
    "    # while abs(g(12.5))= abs(1-12.5) >tolerance and n=0 <=max_n --> True\n",
    "    # while abs(g(1))= abs(1-1) >tolerance and n=1 <=max_n --> not true --> False \n",
    "    while abs(f(x)) > tolerance and n <= max_n:\n",
    "        x = x - f(x)/dfdx(x)\n",
    "        # x = x + g(x)/1 = x + (1-x) = 1 \n",
    "        # x = x + g(x)/1 = 12.5 + (1-12.5) = 1\n",
    "        n += 1\n",
    "    if n > max_n: # n = 0 > 5 --> not true = False\n",
    "        raise ValueError('Iteration did not converge')\n",
    "    else:\n",
    "        return x, f(x) # 1 0 \n",
    "\n",
    "def g(t):\n",
    "    return 1-t\n",
    "    \n",
    "\n",
    "def dgdt(t):\n",
    "    return -1\n",
    "\n",
    "print type(g)\n",
    "print type(dgdt)\n",
    "\n",
    "print iterate(g, 1, dgdt)\n",
    "print iterate(g, 12.5, dgdt) #g unknown, dgdt = -1"
   ]
  },
  {
   "cell_type": "code",
   "execution_count": 17,
   "metadata": {
    "collapsed": false
   },
   "outputs": [
    {
     "name": "stdout",
     "output_type": "stream",
     "text": [
      "[1, 3]\n",
      "4\n",
      "[[1, 3], [2, 4], [0, -2]]\n",
      "4\n",
      "-2\n"
     ]
    }
   ],
   "source": [
    "\"\"\"\n",
    "First iterate will produce:\n",
    "1 0 \n",
    "Second will give output:\n",
    "1 0 \n",
    "\n",
    "x_ [2, 3, 4]\n",
    "y_ [2, 3, 4]\n",
    "\n",
    "x_  y_  x!=y  and x>y+1\n",
    "2   2   false\n",
    "2   3     true  false\n",
    "2   4     true    false\n",
    "3   2      true   false\n",
    "3   3     false\n",
    "3   4      true    false\n",
    "4   2       true    true\n",
    "4   3     true     false\n",
    "4   4     false\n",
    "\n",
    "output: 4 2\n",
    "\"\"\"\n",
    "import numpy as np\n",
    "A = [[0, 0], [0, -1], [1, 3], [2, 4], [0, -2]]\n",
    "print A[2]\n",
    "print (A[3])[1]\n",
    "print A[2:]\n",
    "B = A[3]\n",
    "print B[1]\n",
    "print A[4][-1]"
   ]
  },
  {
   "cell_type": "code",
   "execution_count": 29,
   "metadata": {
    "collapsed": false
   },
   "outputs": [
    {
     "name": "stdout",
     "output_type": "stream",
     "text": [
      "Could not convert  to float hei\n",
      "<type 'list'>\n",
      "[1, 4, 8, 3, 'hei']\n",
      "[1, 4, 2, 3, 'hei']\n"
     ]
    }
   ],
   "source": [
    "numbers = (1, 4, 8, 3, 'hei') # tuples are constant\n",
    "numbers2 = [1, 4, 8, 3, 'hei']\n",
    "k = numbers[1]\n",
    "try:\n",
    "    element = float(numbers[k])\n",
    "    print 'element=%f' % element\n",
    "except IndexError:\n",
    "    print 'Index %d > %d' % (k, len(numbers))\n",
    "except ValueError:\n",
    "    print 'Could not convert  to float' , (numbers[k])\n",
    "print type(numbers2)\n",
    "print numbers2\n",
    "numbers2[2] = 2\n",
    "print numbers2"
   ]
  },
  {
   "cell_type": "code",
   "execution_count": 41,
   "metadata": {
    "collapsed": false
   },
   "outputs": [
    {
     "name": "stdout",
     "output_type": "stream",
     "text": [
      "0.9144\n"
     ]
    }
   ],
   "source": [
    "# Exercise 2\n",
    "#from feet/second to meter/s\n",
    "inch_in_meter = 2.54/100 # in order to get meters\n",
    "foot_in_meter = 12 * inch_in_meter # meter/feet\n",
    "def fts2ms(v):\n",
    "    # ft/s * m/ft --> m/s\n",
    "    return v*foot_in_meter\n",
    "print fts2ms(3)"
   ]
  },
  {
   "cell_type": "code",
   "execution_count": 49,
   "metadata": {
    "collapsed": false
   },
   "outputs": [
    {
     "name": "stdout",
     "output_type": "stream",
     "text": [
      "9.25\n"
     ]
    }
   ],
   "source": [
    "#Ex3\n",
    "#write a fn area that returns the area f a triangle\n",
    "# \n",
    "\n",
    "vertices = [[0,0],[1,0],[0,2]]\n",
    "quadrilateral = [[0,0], [2,4], [4,3], [3.5,0.5]]\n",
    "triang1 = [[0,0], [4,3],[2,4]]\n",
    "triang2 = [[0,0], [3.5,0.5], [4,3]]\n",
    "def area(v):\n",
    "    x1 = v[0][0]\n",
    "    x2 = v[1][0]\n",
    "    x3 = v[2][0]\n",
    "    y1 = v[0][1]\n",
    "    y2 = v[1][1]\n",
    "    y3 = v[2][1]\n",
    "    return 0.5 * (x2*y3 - x3*y2 - x1*y3 + x3*y1 + x1*y2 -x2*y1)\n",
    "area_quadrilateral = area(triang1) + area(triang2)\n",
    "#print area(triang1) , area(triang2)\n",
    "print area_quadrilateral"
   ]
  },
  {
   "cell_type": "code",
   "execution_count": 83,
   "metadata": {
    "collapsed": false
   },
   "outputs": [
    {
     "name": "stdout",
     "output_type": "stream",
     "text": [
      "[  3.00000000e+00  -4.50000000e+00   2.02500000e+00  -4.33928571e-01\n",
      "   5.42410714e-02  -4.43790584e-03   2.56033029e-04  -1.09728441e-05\n",
      "   3.63072048e-07  -9.55452758e-09   2.04739877e-10]\n"
     ]
    },
    {
     "data": {
      "image/png": "[encoded data removed]",
      "text/plain": [
       "<matplotlib.figure.Figure at 0xa914c88>"
      ]
     },
     "metadata": {},
     "output_type": "display_data"
    }
   ],
   "source": [
    "#Ex4\n",
    "\n",
    "#DO THIS ALL OVER AGAIN\n",
    "\n",
    "#make a fn terms\n",
    "import math\n",
    "import matplotlib.pyplot as plt\n",
    "%matplotlib inline\n",
    "def terms(ti,x_0, N):\n",
    "    i = 0\n",
    "    t_list = []\n",
    "    # for elements in array\n",
    "    for i in range(0,N+1):\n",
    "        t = ti(i,x_0)\n",
    "        t_list.append(t)\n",
    "    return np.array(t_list)\n",
    "\n",
    "def ti_sin (i, x_0):\n",
    "    return (-1)**i*((x_0**(2*i+1))/math.factorial(2*i+1))\n",
    "\n",
    "def visualize(t):\n",
    "    for i in range(0,len(t)):\n",
    "        plt.plot(i, math.log(abs(t[i])),'ro',)\n",
    "    plt.xlabel('i')\n",
    "    plt.ylabel('log')\n",
    "    plt.show()\n",
    "    #plot the log(abs(t[i]) \n",
    "    \n",
    "t = terms(ti_sin,3.0,10)\n",
    "print t\n",
    "visualize(t)"
   ]
  },
  {
   "cell_type": "code",
   "execution_count": 22,
   "metadata": {
    "collapsed": false
   },
   "outputs": [
    {
     "name": "stdout",
     "output_type": "stream",
     "text": [
      "0 1.5 0.135335283237 -0.270670566473\n",
      "1 2.0 0.0497870683679 -0.0995741367357\n",
      "2 2.5 0.0183156388887 -0.0366312777775\n",
      "3 3.0 0.00673794699909 -0.0134758939982\n",
      "4 3.5 0.00247875217667 -0.00495750435333\n",
      "5 4.0 0.000911881965555 -0.00182376393111\n",
      "6 4.5 0.000335462627903 -0.000670925255805\n",
      "7 5.0 0.000123409804087 -0.000246819608173\n",
      "8 5.5 4.53999297625e-05 -9.0799859525e-05\n",
      "9 6.0 1.67017007902e-05 -3.34034015805e-05\n",
      "10 6.5 6.14421235333e-06 -1.22884247067e-05\n",
      "11 7.0 2.26032940698e-06 -4.52065881396e-06\n",
      "12 7.5 8.31528719104e-07 -1.66305743821e-06\n",
      "13 8.0 3.05902320502e-07 -6.11804641004e-07\n",
      "14 8.5 1.12535174719e-07 -2.25070349439e-07\n",
      "15 9.0 4.13993771879e-08 -8.27987543757e-08\n",
      "16 9.5 1.52299797447e-08 -3.04599594894e-08\n",
      "17 10.0 5.60279643754e-09 -1.12055928751e-08\n",
      "18 10.5 2.06115362244e-09 -4.12230724488e-09\n",
      "19 11.0 7.58256042791e-10 -1.51651208558e-09\n",
      "20 11.5 2.78946809287e-10 -5.57893618574e-10\n",
      "21 12.0 1.02618796317e-10 -2.05237592634e-10\n",
      "22 12.5 3.77513454428e-11 -7.55026908856e-11\n",
      "We have found an approximate solution:\n",
      "12.5\n",
      "(1.3887943864964021e-11, -2.7775887729928042e-11)\n",
      "<function gfunc at 0x00000000040340B8>\n"
     ]
    }
   ],
   "source": [
    "# Exercise 5\n",
    "import math \n",
    "def gfunc(t):\n",
    "    a = 2\n",
    "    g = math.exp(-a*t)\n",
    "    dgdt = -a*math.exp(-a*t)\n",
    "    return g, dgdt\n",
    "\n",
    "def newton(gfunc_ref, x_0, tol=1e-12, max_n=10):\n",
    "    x_n = x_0\n",
    "    for n in range(max_n):\n",
    "        g_n ,dgdx = gfunc_ref(x_n)  # = gfunc(x_n)\n",
    "        x_n = x_n - g_n/dgdx\n",
    "        convcrit = abs(g_n) <= tol\n",
    "        print n, x_n, g_n, dgdx\n",
    "        if convcrit:\n",
    "            print 'We have found an approximate solution:'\n",
    "            return x_n\n",
    "    if abs(g_n) >= tol:\n",
    "        raise ValueError('convergence not met')\n",
    "    \n",
    "x_solution = newton(gfunc, 1, 1e-10,100)\n",
    "print x_solution\n",
    "print gfunc(x_solution)\n",
    "print gfunc"
   ]
  },
  {
   "cell_type": "code",
   "execution_count": 23,
   "metadata": {
    "collapsed": false
   },
   "outputs": [
    {
     "data": {
      "text/plain": [
       "'\\nNew things I need to learn:\\n1) raise error\\n2) funksjonsreferanse\\n'"
      ]
     },
     "execution_count": 23,
     "metadata": {},
     "output_type": "execute_result"
    }
   ],
   "source": [
    "\"\"\"\n",
    "New things I need to learn:\n",
    "1) raise error\n",
    "2) funksjonsreferanse\n",
    "\"\"\""
   ]
  },
  {
   "cell_type": "code",
   "execution_count": 24,
   "metadata": {
    "collapsed": true
   },
   "outputs": [],
   "source": [
    "def ti_sin (i, x_0):\n",
    "    return (-1)**i*((x_0**(2*i+1))/math.factorial(2*i+1))"
   ]
  },
  {
   "cell_type": "code",
   "execution_count": 36,
   "metadata": {
    "collapsed": false
   },
   "outputs": [
    {
     "name": "stdout",
     "output_type": "stream",
     "text": [
      "Expected complex root\n",
      "Cant convert\n",
      "Out of range\n",
      "Those two functions are exactly the same!\n",
      "As expected, -1 is not positive\n"
     ]
    }
   ],
   "source": [
    "# Comparing Assert and raise Error\n",
    "\n",
    "def demo_function(positive_number):\n",
    "    assert positive_number >= 0, 'Number not positive'\n",
    "\n",
    "def demo_function2(positive_number):\n",
    "    if positive_number < 0:       # showing steps in assert\n",
    "        raise AssertionError('Number not positive')\n",
    "\n",
    "# Catching errors\n",
    "# 1) when arv is too short -> IndexError\n",
    "# 2) when we cant convert to float -> ValueError\n",
    "\n",
    "try:\n",
    "    root = 1 +1j\n",
    "    assert not isinstance(root, complex), 'Expected real root'\n",
    "except AssertionError, e:\n",
    "    print e\n",
    "    \n",
    "try:\n",
    "    f = float('hei')\n",
    "except ValueError:\n",
    "    print 'Cant convert'\n",
    "    \n",
    "try:\n",
    "    a = [1,2,3]\n",
    "    b = a[3]\n",
    "except IndexError:\n",
    "    print 'Out of range'\n",
    "\n",
    "print 'Those two functions are exactly the same!'\n",
    "try:\n",
    "    demo_function2(-1)\n",
    "except AssertionError:\n",
    "    print 'As expected, -1 is not positive'"
   ]
  },
  {
   "cell_type": "code",
   "execution_count": 33,
   "metadata": {
    "collapsed": false
   },
   "outputs": [
    {
     "name": "stdout",
     "output_type": "stream",
     "text": [
      "[0, 1, 2, 3, 4, 5, 6, 7, 8, 9]\n",
      "[0, 1, 2, 3, 4, 5, 6, 7, 8, 9]\n",
      "[25, 36, 49, 64, 81]\n",
      "[25, 36, 49, 64, 81]\n"
     ]
    }
   ],
   "source": [
    "# List comprehension\n",
    "\n",
    "a = []\n",
    "for i in range(10):\n",
    "    a.append(i)\n",
    "print a\n",
    "\n",
    "#Huskeregel: for element in list\n",
    "\n",
    "# Make a list 'b' that is like a\n",
    "# Remember [(What is appended?)  (the for-definition)] \n",
    "# eg. [(could be a formula f(n))  (for n in range()/linspace())] \n",
    "\n",
    "b = [i for i in range(10)]\n",
    "print b\n",
    "\n",
    "c = []\n",
    "for n in range(5,10):\n",
    "    c.append(n**2)\n",
    "print c\n",
    "\n",
    "d = [n**2 for n in range(5,10)]\n",
    "print d"
   ]
  }
 ],
 "metadata": {
  "kernelspec": {
   "display_name": "Python 2",
   "language": "python",
   "name": "python2"
  },
  "language_info": {
   "codemirror_mode": {
    "name": "ipython",
    "version": 2
   },
   "file_extension": ".py",
   "mimetype": "text/x-python",
   "name": "python",
   "nbconvert_exporter": "python",
   "pygments_lexer": "ipython2",
   "version": "2.7.10"
  }
 },
 "nbformat": 4,
 "nbformat_minor": 0
}
