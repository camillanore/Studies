{
 "cells": [
  {
   "cell_type": "markdown",
   "metadata": {},
   "source": [
    "#INF 1100 MIDTERM 2014"
   ]
  },
  {
   "cell_type": "code",
   "execution_count": 22,
   "metadata": {
    "collapsed": false
   },
   "outputs": [
    {
     "name": "stdout",
     "output_type": "stream",
     "text": [
      "[0, 1, 2, 3, 4, 5, 6, 7, 8, 9]\n",
      "[0, 1, 2, 3, 4]\n",
      "0.00692527070751\n"
     ]
    }
   ],
   "source": [
    "# Exercise 2\n",
    "\n",
    "import math\n",
    "\n",
    "def K(x, N):\n",
    "    x = float(x) #\n",
    "    s = 0\n",
    "    for k in range(N+1):\n",
    "        s += ((-1)**k)*((x**(2*k+1))/math.factorial(2*k+1)) # because it is a sum: use +=\n",
    "    print range(N+1)\n",
    "    return s\n",
    "\n",
    "print range(10)\n",
    "\n",
    "print K(math.pi, 4) # x=pi and N=4"
   ]
  },
  {
   "cell_type": "code",
   "execution_count": 40,
   "metadata": {
    "collapsed": false
   },
   "outputs": [
    {
     "name": "stdout",
     "output_type": "stream",
     "text": [
      "Cannot convert to float! hei\n"
     ]
    }
   ],
   "source": [
    "# Exercise 1\n",
    "# Do not understand what happens when I put in other values than a[3]\n",
    "\n",
    "import sys\n",
    "A = [1, 7, 15, 'hei']\n",
    "try:\n",
    "    r = float(A[3])\n",
    "except IndexError:\n",
    "    print 'A has length %g' % len(A)\n",
    "except ValueError:\n",
    "    print 'Cannot convert to float!' , A[3]\n"
   ]
  },
  {
   "cell_type": "code",
   "execution_count": 9,
   "metadata": {
    "collapsed": false
   },
   "outputs": [
    {
     "name": "stdout",
     "output_type": "stream",
     "text": [
      "[0, 1, 2, 3]\n",
      "[2 4]\n"
     ]
    }
   ],
   "source": [
    "u = [0, 1]\n",
    "v = [2, 3]\n",
    "print u + v\n",
    "from numpy import array\n",
    "u = array(u)\n",
    "v = array(v) # what does the array do? I dont remember\n",
    "print u + v\n",
    "\"\"\"convert a list to a numpy array, like a vector\"\"\""
   ]
  },
  {
   "cell_type": "code",
   "execution_count": 63,
   "metadata": {
    "collapsed": false
   },
   "outputs": [
    {
     "ename": "AssertionError",
     "evalue": "melding",
     "output_type": "error",
     "traceback": [
      "\u001b[1;31m---------------------------------------------------------------------------\u001b[0m",
      "\u001b[1;31mAssertionError\u001b[0m                            Traceback (most recent call last)",
      "\u001b[1;32m<ipython-input-63-162942ce981c>\u001b[0m in \u001b[0;36m<module>\u001b[1;34m()\u001b[0m\n\u001b[0;32m     12\u001b[0m     \u001b[1;32massert\u001b[0m \u001b[0mabs\u001b[0m\u001b[1;33m(\u001b[0m\u001b[0mexact\u001b[0m \u001b[1;33m-\u001b[0m \u001b[0mcomputed\u001b[0m\u001b[1;33m)\u001b[0m\u001b[1;33m<\u001b[0m \u001b[0mtol\u001b[0m\u001b[1;33m,\u001b[0m \u001b[0mmsg\u001b[0m\u001b[1;33m\u001b[0m\u001b[0m\n\u001b[0;32m     13\u001b[0m     \u001b[1;32massert\u001b[0m \u001b[1;36m1\u001b[0m \u001b[1;33m==\u001b[0m \u001b[1;36m2\u001b[0m\u001b[1;33m,\u001b[0m \u001b[1;34m'melding'\u001b[0m\u001b[1;33m\u001b[0m\u001b[0m\n\u001b[1;32m---> 14\u001b[1;33m \u001b[0mtest_plus1\u001b[0m\u001b[1;33m(\u001b[0m\u001b[1;33m)\u001b[0m\u001b[1;33m\u001b[0m\u001b[0m\n\u001b[0m",
      "\u001b[1;32m<ipython-input-63-162942ce981c>\u001b[0m in \u001b[0;36mtest_plus1\u001b[1;34m()\u001b[0m\n\u001b[0;32m     11\u001b[0m     \u001b[1;31m#assert success, msg #assert will only give output by misspecification\u001b[0m\u001b[1;33m\u001b[0m\u001b[1;33m\u001b[0m\u001b[0m\n\u001b[0;32m     12\u001b[0m     \u001b[1;32massert\u001b[0m \u001b[0mabs\u001b[0m\u001b[1;33m(\u001b[0m\u001b[0mexact\u001b[0m \u001b[1;33m-\u001b[0m \u001b[0mcomputed\u001b[0m\u001b[1;33m)\u001b[0m\u001b[1;33m<\u001b[0m \u001b[0mtol\u001b[0m\u001b[1;33m,\u001b[0m \u001b[0mmsg\u001b[0m\u001b[1;33m\u001b[0m\u001b[0m\n\u001b[1;32m---> 13\u001b[1;33m     \u001b[1;32massert\u001b[0m \u001b[1;36m1\u001b[0m \u001b[1;33m==\u001b[0m \u001b[1;36m2\u001b[0m\u001b[1;33m,\u001b[0m \u001b[1;34m'melding'\u001b[0m\u001b[1;33m\u001b[0m\u001b[0m\n\u001b[0m\u001b[0;32m     14\u001b[0m \u001b[0mtest_plus1\u001b[0m\u001b[1;33m(\u001b[0m\u001b[1;33m)\u001b[0m\u001b[1;33m\u001b[0m\u001b[0m\n",
      "\u001b[1;31mAssertionError\u001b[0m: melding"
     ]
    }
   ],
   "source": [
    "# Nothing gets printed because the test is not failing, but what do i need to change in order for the test to fail?\n",
    "def plus1(x):\n",
    "    return x + 1\n",
    "def test_plus1():\n",
    "    x = 4.5\n",
    "    exact = 5.5\n",
    "    computed = plus1(x)\n",
    "    tol = 1E-14 # float value is unprecise\n",
    "    #success = abs(exact - computed) < tol #absoluttverdi\n",
    "    msg = 'exact=%g, computed=%g' % (exact, computed)\n",
    "    #assert success, msg #assert will only give output by misspecification\n",
    "    assert abs(exact - computed)< tol, msg\n",
    "    assert 1 == 2, 'melding'\n",
    "test_plus1()"
   ]
  },
  {
   "cell_type": "code",
   "execution_count": 59,
   "metadata": {
    "collapsed": false
   },
   "outputs": [
    {
     "name": "stdout",
     "output_type": "stream",
     "text": [
      "[-1]\n",
      "[-2, -1]\n",
      "-1 -1\n"
     ]
    }
   ],
   "source": [
    "# Nothing gets printed\n",
    "print range(-1, 1,2)\n",
    "print range(-2,0)\n",
    "for i in range(-1, 1, 2):\n",
    "    for j in range(-2,0):\n",
    "        if i == j:\n",
    "            print i, j"
   ]
  },
  {
   "cell_type": "code",
   "execution_count": 68,
   "metadata": {
    "collapsed": false
   },
   "outputs": [
    {
     "name": "stdout",
     "output_type": "stream",
     "text": [
      "0.00692527070751\n"
     ]
    }
   ],
   "source": [
    "#Exercise 2\n",
    "import math\n",
    "k = 0\n",
    "N = 4 \n",
    "\n",
    "def K(x):\n",
    "    s = 0\n",
    "    for k in range(0,N+1,1):\n",
    "        s +=(-1)**k*((x**(2*k+1))/math.factorial(2*k+1))\n",
    "    return s\n",
    "print K(math.pi)"
   ]
  },
  {
   "cell_type": "code",
   "execution_count": 10,
   "metadata": {
    "collapsed": false
   },
   "outputs": [
    {
     "name": "stdout",
     "output_type": "stream",
     "text": [
      "Too few arguments are given\n"
     ]
    }
   ],
   "source": [
    "import math\n",
    "import sys\n",
    "sys.argv = ['myprog.py',math.pi]\n",
    "#read x and N from command line\n",
    "# add a try-except block\n",
    "def K(x, N):\n",
    "    s = 0\n",
    "    for k in range(0,N+1,1):\n",
    "        s +=(-1)**k*((x**(2*k+1))/math.factorial(2*k+1))\n",
    "    return s\n",
    "try:\n",
    "    x = float(sys.argv[1])\n",
    "    N = int(sys.argv[2])\n",
    "    print K(x, N)\n",
    "except IndexError:\n",
    "    print 'Too few arguments are given'\n",
    "    exit(1)\n",
    "except ValueError:\n",
    "    print 'Input argument is not a number'\n",
    "    exit(1)\n",
    "\n"
   ]
  },
  {
   "cell_type": "code",
   "execution_count": 12,
   "metadata": {
    "collapsed": false
   },
   "outputs": [
    {
     "name": "stdout",
     "output_type": "stream",
     "text": [
      "[ 0.          0.6981317   1.3962634   2.0943951   2.7925268   3.4906585\n",
      "  4.1887902   4.88692191  5.58505361  6.28318531]\n",
      "[0.0, 0.64278760968653925, 0.9848077530122078, 0.86602540378443982, 0.34202014332636005, -0.34202014320935825, -0.8660253961465384, -0.98480749102841103, -0.64278202542076324, 8.2740952213284334e-05]\n"
     ]
    },
    {
     "data": {
      "image/png": "[encoded data removed]",
      "text/plain": [
       "<matplotlib.figure.Figure at 0xa9580b8>"
      ]
     },
     "metadata": {},
     "output_type": "display_data"
    }
   ],
   "source": [
    "#Exercise 4\n",
    "import math\n",
    "import sys\n",
    "import numpy as np\n",
    "import matplotlib.pyplot as plt\n",
    "% matplotlib inline\n",
    "N = 10\n",
    "x = np.linspace(0,2*math.pi,10)\n",
    "print x\n",
    "K_values = []\n",
    "for x_ in x:\n",
    "    K_values.append(K(x_, N))\n",
    "print K_values\n",
    "def K(x, N):\n",
    "    s = 0\n",
    "    for k in range(0,N+1,1):\n",
    "        s +=(-1)**k*((x**(2*k+1))/math.factorial(2*k+1))\n",
    "    return s\n",
    "y = K_values\n",
    "plt.plot(x, y, label = 'N = 10')\n",
    "plt.xlabel('x')\n",
    "plt.ylabel('K')\n",
    "plt.legend()\n",
    "plt.savefig('fig.png')\n",
    "plt.show()\n"
   ]
  },
  {
   "cell_type": "code",
   "execution_count": 20,
   "metadata": {
    "collapsed": false
   },
   "outputs": [],
   "source": [
    "#Exercise 5\n",
    "def test_K():\n",
    "    x = math.pi*2\n",
    "    N = 10\n",
    "    assumed_K = 8.2740952213284334e-05\n",
    "    computed_K = K(x, N)\n",
    "    tol = 1e-14\n",
    "    diff = abs(computed_K - assumed_K)\n",
    "    assert diff < tol, \"test failed\"\n",
    "test_K() # Remember: No output --> test passed\n"
   ]
  },
  {
   "cell_type": "code",
   "execution_count": 52,
   "metadata": {
    "collapsed": false
   },
   "outputs": [
    {
     "name": "stdout",
     "output_type": "stream",
     "text": [
      "['measurement', 'prediction']\n"
     ]
    },
    {
     "data": {
      "text/plain": [
       "\"\\nTo make them into numpy arrays:\\ntime = np.array(data['time'])\\nmeasurement = np.array(data['measurement'])\\nprediction = np.array(data['prediction'])\""
      ]
     },
     "execution_count": 52,
     "metadata": {},
     "output_type": "execute_result"
    },
    {
     "data": {
      "image/png": "[encoded data removed]",
      "text/plain": [
       "<matplotlib.figure.Figure at 0xdfba048>"
      ]
     },
     "metadata": {},
     "output_type": "display_data"
    }
   ],
   "source": [
    "# Exercise 6\n",
    "import numpy as np\n",
    "\n",
    "# Read file data into lists\n",
    "infile = open('simulations.dat', 'r')\n",
    "infile.readline()\n",
    "infile.readline()\n",
    "data = {'time' : [], 'measurement' : [], 'prediction': []}\n",
    "\n",
    "for line in infile:\n",
    "    words = line.split()\n",
    "    floats = [float(word) for word in words] #list comprehension\n",
    "    data['time'].append(floats[0])\n",
    "    data['measurement'].append(floats[1])\n",
    "    data['prediction'].append(floats[2])\n",
    "keys = data.keys()\n",
    "keys.remove('time')\n",
    "print keys\n",
    "for key in keys: #keys in dictionary\n",
    "    plt.plot(data['time'], data[key],label = key)\n",
    "    plt.legend()\n",
    "\n",
    "\"\"\"\n",
    "To make them into numpy arrays:\n",
    "time = np.array(data['time'])\n",
    "measurement = np.array(data['measurement'])\n",
    "prediction = np.array(data['prediction'])\"\"\"\n",
    "#Start with empty lists since we do not know how"
   ]
  },
  {
   "cell_type": "code",
   "execution_count": 56,
   "metadata": {
    "collapsed": false
   },
   "outputs": [
    {
     "data": {
      "image/png": "[encoded data removed]",
      "text/plain": [
       "<matplotlib.figure.Figure at 0xe312940>"
      ]
     },
     "metadata": {},
     "output_type": "display_data"
    }
   ],
   "source": [
    "# Exercise 6 \n",
    "# From fastit\n",
    "\n",
    "# Read file data into lists\n",
    "infile = open('simulations.dat', 'r')\n",
    "infile.readline() \n",
    "infile.readline() # skip first two lines\n",
    "\n",
    "# Start with empty lists since we do not know how\n",
    "# many lines the file has\n",
    "\n",
    "time = []            # making empty lists\n",
    "measurement = []\n",
    "prediction = []\n",
    "\n",
    "for line in infile:\n",
    "    words = line.split()\n",
    "    floats = [float(word) for word in words] # list comprehension (as a for loop)\n",
    "    time.append(floats[0]) # appending new values as floats\n",
    "    measurement.append(floats[1])\n",
    "    prediction.append(floats[2])\n",
    "infile.close()\n",
    "\n",
    "# Convert to numpy arrays\n",
    "import numpy as np\n",
    "time = np.array(time)  # The exercise asks to convert to three numpy arrays\n",
    "measurement = np.array(measurement)\n",
    "prediction = np.array(prediction)\n",
    "\n",
    "# Plot measurement with red circles and\n",
    "# prediction with blue solid line\n",
    "\n",
    "import matplotlib.pyplot as plt\n",
    "plt.plot(time, measurement, 'ro',  # r for red o for object(?)\n",
    "        time, prediction, 'b-')    # b for blue. Default is solid line\n",
    "plt.legend(['measurement', 'prediction']) # will produce the box w/explanation\n",
    "plt.xlabel('time')                   # label --> the x-axis\n",
    "plt.show()\n"
   ]
  },
  {
   "cell_type": "markdown",
   "metadata": {},
   "source": [
    "# MIDTERM EXAM FROM 2013"
   ]
  },
  {
   "cell_type": "code",
   "execution_count": null,
   "metadata": {
    "collapsed": true
   },
   "outputs": [],
   "source": [
    "# Exercise 1\n",
    "\"\"\"range(5) = 0 1 2 3 4\n",
    "\n",
    "B = 1 3 5 7 9 \n",
    "\n",
    "[3 5 7 9]\n",
    "\n",
    "x = 0 1 2\n",
    "v = 2 3 4\n",
    "\n",
    "0.0 2.0\n",
    "1.0 3.0\n",
    "2.0 4.0\n",
    "\n",
    "f)\n",
    "Q(2)=9\n",
    "\n",
    "g)\n",
    "\n",
    "range = heltall \n",
    "range (start, stop, step)\n",
    "\n",
    "x = [1 5 10 15]\n",
    "\n",
    "for x_ in [5 10 15]\n",
    "\n",
    "\tfor y_ in [5 10 15]\n",
    "\t\t\n",
    "\n",
    "if x_ \n",
    "\n",
    "No output is printed\n",
    "\n",
    "\n",
    "x_ 5 y_ 5\n",
    "\n",
    "5 10\n",
    "\n",
    "5 15\n",
    "\n",
    "10 5 this is printed\n",
    "10 10\n",
    "10 15\n",
    "15 5 this is printed\n",
    "15 10 this is printed\n",
    "15 15\n",
    "\n",
    "Answer:\n",
    "10 5\n",
    "15 5\n",
    "15 10\n",
    "\n",
    "h)\n",
    "\n",
    "3.0\n",
    "6.0\n",
    "Illegal coversion to float!\n",
    "\n",
    "i)\n",
    "[-1, -2, 1, 2]\n",
    "[0, 0]\n",
    "\n",
    "j)\n",
    "[1, 2] \n",
    "some_function(-1) gir ValueError, ok = True\n",
    "\n",
    "some_function(0) gir 0, None\n",
    "\n",
    "r1 = 0 og r2 = None\n",
    "\n",
    "if not True or not True --> False (nothing is printed)\n",
    "\n",
    "r1= 1, r2= 2\n",
    "\n",
    "if not True or not True --> False (nothing is printed)\n",
    "\n",
    "Output:\n",
    "All tests passed!\n",
    "\n",
    "Trygve ville gjort følgende:\n",
    "\n",
    "r1\tr2\tok \t\t#ok ikke endret --> true \n",
    "---------------------\n",
    "ValueError\tTrue\n",
    "0 \tnull \tTrue\n",
    "1\t2\tTrue\t\tnot True or not True --> not entering if statement --> not changing the ok statement\n",
    "1 \t1 \tnever run\n",
    "\t\tnever run\n",
    "\"\"\""
   ]
  },
  {
   "cell_type": "code",
   "execution_count": 59,
   "metadata": {
    "collapsed": true
   },
   "outputs": [],
   "source": [
    "# Should check the true results\n",
    "# REMEMBER: Read the hints carefully\n",
    "#HINT: Use previous tasks to get some inspiration\n",
    "#HINT2: If several tasks are linked together, assume the functions are already \n",
    "#available, even if they are not solved"
   ]
  },
  {
   "cell_type": "code",
   "execution_count": 113,
   "metadata": {
    "collapsed": false
   },
   "outputs": [
    {
     "name": "stdout",
     "output_type": "stream",
     "text": [
      "-1.63746150616\n",
      "-1.44388111028e-34\n"
     ]
    }
   ],
   "source": [
    "# Exercise 2\n",
    "\"\"\"g_t = e**(-1*a*t)\n",
    "Its derivative g_dt = -1 * a* e**(-1*a*t)\n",
    "#1: Write a function that returns the values g_t and g_dt\n",
    "#2: demonstrate how the returned result can be stored in variables\n",
    "#3: write out the computed g_dt to the screen (ie print g_dt)\n",
    "\"\"\"\n",
    "import math\n",
    "\n",
    "def g(t):\n",
    "    return math.exp(-a*t), -a*math.exp(-a*t) # this is both g_t and g_dt\n",
    "a = 2\n",
    "g_value, dg_value = g(0.1)\n",
    "print dg_value\n",
    "# I DO NOT FIND THIS SOLUTION COMPLETE (?)\n",
    "\n",
    "import math\n",
    "\n",
    "def g(t):\n",
    "    return math.exp(-a*t) # This is the original function\n",
    "def g_dt(t):\n",
    "    return -a*math.exp(-a*t) # this is the derivative function\n",
    "\n",
    "a = 8\n",
    "t = 10\n",
    "g(t) # Question: do I need to call this function?\n",
    "print g_dt(t)"
   ]
  },
  {
   "cell_type": "code",
   "execution_count": 96,
   "metadata": {
    "collapsed": false
   },
   "outputs": [
    {
     "name": "stdout",
     "output_type": "stream",
     "text": [
      "New exercise\n",
      "counter2=10\n",
      "New exercise\n",
      "23\n",
      "New exercise\n",
      "[1, 2, 10, -1, 4]\n",
      "New exercise\n",
      "[0, 1, 2, 3, 4]\n",
      "[1, 3, 5]\n",
      "[1, 3, 5, 7, 9]\n",
      "[3, 5, 7]\n",
      "New exercise\n",
      "[ 0.  1.  2.]\n",
      "[ 2.  3.  4.]\n",
      "0.0 2.0\n",
      "1.0 3.0\n",
      "2.0 4.0\n",
      "New exercise\n",
      "13\n",
      "Q(2)=9\n",
      "New exercise\n",
      "x [1, 6, 11, 16]\n",
      "y x [6, 11]\n",
      "y_ 6\n",
      "y_ 11\n",
      "x [6, 11]\n",
      "y_ 6\n",
      "Final result: 11 6\n",
      "y_ 11\n"
     ]
    }
   ],
   "source": [
    "# Exercise 1\n",
    "\n",
    "# a)\n",
    "print 'New exercise'\n",
    "counter1 = 10\n",
    "counter2 = counter1\n",
    "counter1 = 11\n",
    "print 'counter2=%d' % counter2\n",
    "\n",
    "#b)\n",
    "print 'New exercise'\n",
    "counter1 = 10\n",
    "counter2 = counter1\n",
    "#print counter2\n",
    "counter1 = 11\n",
    "counter2 += 2 + counter1\n",
    "print counter2\n",
    "\n",
    "#c)\n",
    "print 'New exercise'\n",
    "A = [1, 2, 3, -1]\n",
    "if A[2] < 3: # A[2] = 3\n",
    "    A[2] = 0\n",
    "else:\n",
    "    A[2] = 10 #changing it to 10\n",
    "    \n",
    "if A[-1] <= 0: # -1 is the last element\n",
    "    A.append(4) #will put 4 on the\n",
    "print A\n",
    "\n",
    "#d) DID WRONG ON THIS, INVCLUDED 9\n",
    "print 'New exercise'\n",
    "B = [2*x+1 for x in range(5)]\n",
    "print range(5) # REMEMBER: They are integers\n",
    "print range (1,6,2) #RANGE: start, stop(not insluding), step \n",
    "print B\n",
    "print B[1:-1] # Thougth this would include the last element?\n",
    "\n",
    "#e)\n",
    "print 'New exercise'\n",
    "from numpy import linspace #linspace make floats\n",
    "x = linspace(0, 2, 3) # 0 1 2\n",
    "print x\n",
    "v = x + 2 # v = 2 3 4\n",
    "print v\n",
    "for x_, v_ in zip(x, v):\n",
    "    print '%.1f %.1f' % (x_, v_) #the solution will be printed with one comma\n",
    "\n",
    "#f)\n",
    "print 'New exercise'\n",
    "def Q(y):\n",
    "    r = 4*y # 4*2 = 8\n",
    "    r = r + 1 # 8 + 1 = 9\n",
    "    return r # do I need to include this to save the variable?\n",
    "y = 3\n",
    "print Q(y)    \n",
    "x = 2 \n",
    "print 'Q(%g)=%g' % (x, Q(x))\n",
    "\n",
    "# g) # Got this one wrong\n",
    "# HUGE MISTAGE: GOT THE X AND Y VECTOR WRONG\n",
    "print 'New exercise'\n",
    "x = range(1, 17, 5) # START STOP STEP gives 1 6 11 16 (NOT 1 5 10 15)\n",
    "print'x', x # x [1 6 11 16]\n",
    "y = x\n",
    "print 'y', # y [1 6 11 16]\n",
    "for x_ in x[1:-1]: # EXTRACTS ALL ELEMENTS EXCEPT THE FIRST AND THE LAST\n",
    "    print 'x', x[1:-1] # to see what is happenning: gives 6 and 11\n",
    "    for y_ in y[1:-1]: \n",
    "        print 'y_', y_ # This one will also print after 'final result' when y>x\n",
    "        if x_ != y_ and x_ > y_ + 1:\n",
    "            print'Final result:', x_, y_"
   ]
  },
  {
   "cell_type": "code",
   "execution_count": 108,
   "metadata": {
    "collapsed": false
   },
   "outputs": [
    {
     "name": "stdout",
     "output_type": "stream",
     "text": [
      "New exercise\n",
      "3.0\n",
      "6.0\n",
      "Not enough command-line arguments! [3, 6]\n",
      "New exercise\n",
      "[-1, -2, 1, 2]\n",
      "[0 0]\n",
      "New exercise 1j\n",
      "All tests passed!\n"
     ]
    }
   ],
   "source": [
    "print 'New exercise'\n",
    "\n",
    "import sys\n",
    "sys.argv = ['prog.py', 3, 6]\n",
    "try:\n",
    "    r1 = float(sys.argv[1])\n",
    "    print r1                           #will not get error and gets printed\n",
    "    r2 = float(sys.argv[2])\n",
    "    print r2                            #gets printed\n",
    "    r3 = float(sys.argv[3])\n",
    "    print r3\n",
    "except IndexError:\n",
    "    print 'Not enough command-line arguments!', sys.argv[1:] # starting at 1 and continue to end\n",
    "except ValueError:\n",
    "    print 'Illegal conversion to float!'\n",
    "\n",
    "print 'New exercise'\n",
    "u = [-1, -2]\n",
    "v = [1, 2]\n",
    "print u + v\n",
    "from numpy import array\n",
    "u = array(u)         # remember that arrays are like vectors\n",
    "v = array(v)\n",
    "print u + v\n",
    "\n",
    "# I think this is a bit difficult\n",
    "print 'New exercise 1j'\n",
    "\n",
    "def equal(a, b, eps=1E-14):\n",
    "    \"\"\"Test if a==b with tolerance eps.\"\"\"\n",
    "    return abs(a - b) < eps\n",
    "\n",
    "def some_function(Q):\n",
    "    if Q < 0:\n",
    "        raise ValueError('Q<0 is not allowed')\n",
    "    if equal(Q, 0):\n",
    "        return 0, None\n",
    "    else:\n",
    "        return 1, 2\n",
    "\n",
    "def run_some_function():\n",
    "    try:\n",
    "        r1, r2 = some_function(-1)\n",
    "        print 'Something is wrong with some_function(-1)!'\n",
    "        ok = False\n",
    "    except:\n",
    "        ok = True\n",
    "    r1, r2 = some_function(0)\n",
    "    if not equal(r1, 0) or not r2 == None:\n",
    "        print 'Something is wrong with some_function(0)!'\n",
    "        ok = False\n",
    "    r1, r2 = some_function(2)\n",
    "    if not equal(r1, 1) or not equal(r2, 2):\n",
    "        print 'Something is wrong with some_function(2)!'\n",
    "        ok = False\n",
    "    if ok:\n",
    "        print 'All tests passed!'\n",
    "    else:\n",
    "        print 'Some test(s) failed!'\n",
    "\n",
    "run_some_function()\n"
   ]
  },
  {
   "cell_type": "code",
   "execution_count": 3,
   "metadata": {
    "collapsed": false
   },
   "outputs": [
    {
     "name": "stdout",
     "output_type": "stream",
     "text": [
      "Not enough command-line arguments are given [2]\n"
     ]
    },
    {
     "ename": "SystemExit",
     "evalue": "1",
     "output_type": "error",
     "traceback": [
      "An exception has occurred, use %tb to see the full traceback.\n",
      "\u001b[1;31mSystemExit\u001b[0m\u001b[1;31m:\u001b[0m 1\n"
     ]
    },
    {
     "name": "stderr",
     "output_type": "stream",
     "text": [
      "To exit: use 'exit', 'quit', or Ctrl-D.\n"
     ]
    }
   ],
   "source": [
    "# Exercise 3\n",
    "# 1: extend the program so that t and a are read from command line\n",
    "# 2: add a try-except block. Remember to stop the program\n",
    "# 3: Hint: check the other tasks in exam. 1h) includes a try-except block\n",
    "\n",
    "\n",
    "import math\n",
    "import sys\n",
    "\n",
    "sys.argv = ['myprog.py', 2, 3]\n",
    "\n",
    "\n",
    "def g(t):\n",
    "    g = math.exp(-a*t) # This is the original function\n",
    "    g_dt = -a*math.exp(-a*t) # this is the derivative function\n",
    "    return g, g_dt\n",
    "\n",
    "try:\n",
    "    a = float(sys.argv[1])\n",
    "    t = float(sys.argv[2])\n",
    "except IndexError: # when too few arguments\n",
    "    print 'Not enough command-line arguments are given', sys.argv[1:]\n",
    "    sys.exit(1)\n",
    "except ValueError: # when we cant convert to float\n",
    "    print 'Could not convert string to float'\n",
    "    sys.exit(1)\n",
    "    \n",
    "g, g_dt = g(t)\n",
    "print g_dt\n",
    "# print g_dt(a, t) In the exam they call the function here, why?"
   ]
  },
  {
   "cell_type": "code",
   "execution_count": 146,
   "metadata": {
    "collapsed": false
   },
   "outputs": [
    {
     "ename": "TypeError",
     "evalue": "only length-1 arrays can be converted to Python scalars",
     "output_type": "error",
     "traceback": [
      "\u001b[1;31m---------------------------------------------------------------------------\u001b[0m",
      "\u001b[1;31mTypeError\u001b[0m                                 Traceback (most recent call last)",
      "\u001b[1;32m<ipython-input-146-aaa979a59f63>\u001b[0m in \u001b[0;36m<module>\u001b[1;34m()\u001b[0m\n\u001b[0;32m     15\u001b[0m \u001b[0ma\u001b[0m \u001b[1;33m=\u001b[0m \u001b[1;36m2\u001b[0m\u001b[1;33m\u001b[0m\u001b[0m\n\u001b[0;32m     16\u001b[0m \u001b[0mt\u001b[0m \u001b[1;33m=\u001b[0m \u001b[0mnp\u001b[0m\u001b[1;33m.\u001b[0m\u001b[0mlinspace\u001b[0m\u001b[1;33m(\u001b[0m\u001b[1;36m0\u001b[0m\u001b[1;33m,\u001b[0m \u001b[1;36m5\u001b[0m\u001b[1;33m/\u001b[0m\u001b[0mfloat\u001b[0m\u001b[1;33m(\u001b[0m\u001b[0ma\u001b[0m\u001b[1;33m)\u001b[0m\u001b[1;33m,\u001b[0m \u001b[1;36m20\u001b[0m\u001b[1;33m)\u001b[0m \u001b[1;31m# starting with N = 20 in order to simplify\u001b[0m\u001b[1;33m\u001b[0m\u001b[0m\n\u001b[1;32m---> 17\u001b[1;33m \u001b[0mg_t\u001b[0m \u001b[1;33m=\u001b[0m \u001b[0mg\u001b[0m\u001b[1;33m(\u001b[0m\u001b[0mt\u001b[0m\u001b[1;33m)\u001b[0m\u001b[1;33m\u001b[0m\u001b[0m\n\u001b[0m\u001b[0;32m     18\u001b[0m \u001b[0mg_dt\u001b[0m \u001b[1;33m=\u001b[0m \u001b[0mg_dt\u001b[0m\u001b[1;33m(\u001b[0m\u001b[0mt\u001b[0m\u001b[1;33m)\u001b[0m\u001b[1;33m\u001b[0m\u001b[0m\n\u001b[0;32m     19\u001b[0m \u001b[0mplt\u001b[0m\u001b[1;33m.\u001b[0m\u001b[0mplot\u001b[0m\u001b[1;33m(\u001b[0m\u001b[0mt\u001b[0m\u001b[1;33m,\u001b[0m \u001b[0mg_t\u001b[0m\u001b[1;33m,\u001b[0m \u001b[0mg_dt\u001b[0m\u001b[1;33m)\u001b[0m\u001b[1;33m\u001b[0m\u001b[0m\n",
      "\u001b[1;32m<ipython-input-146-aaa979a59f63>\u001b[0m in \u001b[0;36mg\u001b[1;34m(t)\u001b[0m\n\u001b[0;32m     10\u001b[0m \u001b[1;33m\u001b[0m\u001b[0m\n\u001b[0;32m     11\u001b[0m \u001b[1;32mdef\u001b[0m \u001b[0mg\u001b[0m\u001b[1;33m(\u001b[0m\u001b[0mt\u001b[0m\u001b[1;33m)\u001b[0m\u001b[1;33m:\u001b[0m\u001b[1;33m\u001b[0m\u001b[0m\n\u001b[1;32m---> 12\u001b[1;33m     \u001b[1;32mreturn\u001b[0m \u001b[0mmath\u001b[0m\u001b[1;33m.\u001b[0m\u001b[0mexp\u001b[0m\u001b[1;33m(\u001b[0m\u001b[1;33m-\u001b[0m\u001b[0ma\u001b[0m\u001b[1;33m*\u001b[0m\u001b[0mt\u001b[0m\u001b[1;33m)\u001b[0m\u001b[1;33m\u001b[0m\u001b[0m\n\u001b[0m\u001b[0;32m     13\u001b[0m \u001b[1;32mdef\u001b[0m \u001b[0mg_dt\u001b[0m\u001b[1;33m(\u001b[0m\u001b[0mt\u001b[0m\u001b[1;33m)\u001b[0m\u001b[1;33m:\u001b[0m\u001b[1;33m\u001b[0m\u001b[0m\n\u001b[0;32m     14\u001b[0m     \u001b[1;32mreturn\u001b[0m \u001b[1;33m-\u001b[0m\u001b[0ma\u001b[0m\u001b[1;33m*\u001b[0m\u001b[0mmath\u001b[0m\u001b[1;33m.\u001b[0m\u001b[0mexp\u001b[0m\u001b[1;33m(\u001b[0m\u001b[1;33m-\u001b[0m\u001b[0ma\u001b[0m\u001b[1;33m*\u001b[0m\u001b[0mt\u001b[0m\u001b[1;33m)\u001b[0m\u001b[1;33m\u001b[0m\u001b[0m\n",
      "\u001b[1;31mTypeError\u001b[0m: only length-1 arrays can be converted to Python scalars"
     ]
    }
   ],
   "source": [
    "# Exercise 4\n",
    "# make a code snippet for creating a plot for the two curves\n",
    "# t mellom 0 og 5/a\n",
    "# t on the x axis, include a legend\n",
    "# save the plot to a file\n",
    "\n",
    "import math\n",
    "import matplotlib.pyplot as plt\n",
    "import numpy as np\n",
    "\n",
    "def g(t):\n",
    "    return math.exp(-a*t)\n",
    "def g_dt(t):\n",
    "    return -a*math.exp(-a*t) \n",
    "a = 2\n",
    "t = np.linspace(0, 5/float(a), 20) # starting with N = 20 in order to simplify\n",
    "g_t = g(t)\n",
    "g_dt = g_dt(t)\n",
    "plt.plot(t, g_t, g_dt)\n",
    "plt.show()\n",
    "# DO NOT GET WHY THIS IS NOT WORKING"
   ]
  },
  {
   "cell_type": "code",
   "execution_count": 147,
   "metadata": {
    "collapsed": false
   },
   "outputs": [
    {
     "name": "stdout",
     "output_type": "stream",
     "text": [
      "(1, 2)\n"
     ]
    }
   ],
   "source": [
    "# Trygve\n",
    "def tall():\n",
    "        return 1, 2\n",
    "tall() # for a kalle den, ha med parentes\n",
    "print tall()\n"
   ]
  },
  {
   "cell_type": "code",
   "execution_count": 148,
   "metadata": {
    "collapsed": true
   },
   "outputs": [],
   "source": [
    "# Exercise 5\n",
    "# write a function that takes a, b, c as arguments and returns x1 and x2\n",
    "# q>=0 --> real solution\n",
    "# raise a ValueError exception if not\n",
    "#WRITE A MAIM PROGRAM\n",
    "\n",
    "\n",
    "import numpy as np\n",
    "import numpy.lib.scimath as npsci\n",
    "\n",
    "def main():\n",
    "    print roots(1,4,16)\n",
    "    test_sqrt()\n",
    "    print type(npsci.sqrt(-1) + 1)\n",
    "    print roots(1,2,3)\n",
    "    tests_roots_real()\n",
    "    print \"All tests passed.\"\n",
    "    \n",
    "def roots(a, b, c):\n",
    "    q = b**2 - 4*a*c\n",
    "    root_part = npsci.sqrt(q)\n",
    "    x1 = (-b + root_part)/(2*a)\n",
    "    x2 = (-b - root_part)/(2*a)\n",
    "    return (x1, x2)\n",
    "    \n",
    "def test_sqrt():\n",
    "    assert npsci.sqrt(-1)==1j, 'sqrt not working as suspected'\n",
    "    \n",
    "def tests_roots_real():\n",
    "    \"\"\"Test with real roots\"\"\"\n",
    "    r1 = 1.0\n",
    "    r2 = 1.0\n",
    "   # x^2 - (r1+r2)x + r1*r2 = 0\n",
    "    \n",
    "    a = 1\n",
    "    b = -(r1 + r2)\n",
    "    c = r1*r2\n",
    "    result = roots(a, b, c)\n",
    "    print '(a,b,c) --> (x1,x2):'\n",
    "    print (a,b,c), '-->', result\n",
    "    #Warning: The order is important, let r1 be the biggest root.\n",
    "    assert result == (r1, r2), ('Expected:' + str((r1,r2)) +\n",
    "                                'Result is: ' + str(result))  \n",
    "    assert isinstance(result[0], float), 'Expected float root'\n",
    "    assert isinstance(result[1], float), 'Expected float root'"
   ]
  },
  {
   "cell_type": "code",
   "execution_count": 160,
   "metadata": {
    "collapsed": false
   },
   "outputs": [
    {
     "name": "stdout",
     "output_type": "stream",
     "text": [
      "(0.1353352832366127, -0.2706705664732254)\n"
     ]
    },
    {
     "ename": "TypeError",
     "evalue": "only length-1 arrays can be converted to Python scalars",
     "output_type": "error",
     "traceback": [
      "\u001b[1;31m---------------------------------------------------------------------------\u001b[0m",
      "\u001b[1;31mTypeError\u001b[0m                                 Traceback (most recent call last)",
      "\u001b[1;32m<ipython-input-160-dc965cee318d>\u001b[0m in \u001b[0;36m<module>\u001b[1;34m()\u001b[0m\n\u001b[0;32m     22\u001b[0m \u001b[1;33m\u001b[0m\u001b[0m\n\u001b[0;32m     23\u001b[0m \u001b[0mt\u001b[0m \u001b[1;33m=\u001b[0m \u001b[0mnp\u001b[0m\u001b[1;33m.\u001b[0m\u001b[0mlinspace\u001b[0m\u001b[1;33m(\u001b[0m\u001b[1;36m0\u001b[0m\u001b[1;33m,\u001b[0m \u001b[1;36m5.0\u001b[0m\u001b[1;33m/\u001b[0m\u001b[0mfloat\u001b[0m\u001b[1;33m(\u001b[0m\u001b[0ma\u001b[0m\u001b[1;33m)\u001b[0m\u001b[1;33m,\u001b[0m \u001b[1;36m100\u001b[0m\u001b[1;33m)\u001b[0m\u001b[1;33m\u001b[0m\u001b[0m\n\u001b[1;32m---> 24\u001b[1;33m \u001b[0mg\u001b[0m\u001b[1;33m,\u001b[0m \u001b[0mdgdt\u001b[0m \u001b[1;33m=\u001b[0m \u001b[0mg\u001b[0m\u001b[1;33m(\u001b[0m\u001b[0mt\u001b[0m\u001b[1;33m)\u001b[0m   \u001b[1;31m# have NEVER gotten this thing with two arguments to work\u001b[0m\u001b[1;33m\u001b[0m\u001b[0m\n\u001b[0m\u001b[0;32m     25\u001b[0m \u001b[1;32mprint\u001b[0m \u001b[0mg\u001b[0m\u001b[1;33m(\u001b[0m\u001b[0mt\u001b[0m\u001b[1;33m)\u001b[0m\u001b[1;33m\u001b[0m\u001b[0m\n\u001b[0;32m     26\u001b[0m \u001b[0mplt\u001b[0m\u001b[1;33m.\u001b[0m\u001b[0mplot\u001b[0m\u001b[1;33m(\u001b[0m\u001b[0mt\u001b[0m\u001b[1;33m,\u001b[0m \u001b[0mg\u001b[0m\u001b[1;33m,\u001b[0m \u001b[0mt\u001b[0m\u001b[1;33m,\u001b[0m \u001b[0mdgdt\u001b[0m\u001b[1;33m)\u001b[0m\u001b[1;33m\u001b[0m\u001b[0m\n",
      "\u001b[1;32m<ipython-input-160-dc965cee318d>\u001b[0m in \u001b[0;36mg\u001b[1;34m(t)\u001b[0m\n\u001b[0;32m     11\u001b[0m \u001b[1;32mdef\u001b[0m \u001b[0mg\u001b[0m\u001b[1;33m(\u001b[0m\u001b[0mt\u001b[0m\u001b[1;33m)\u001b[0m\u001b[1;33m:\u001b[0m\u001b[1;33m\u001b[0m\u001b[0m\n\u001b[0;32m     12\u001b[0m     \u001b[0ma\u001b[0m \u001b[1;33m=\u001b[0m \u001b[1;36m2\u001b[0m\u001b[1;33m\u001b[0m\u001b[0m\n\u001b[1;32m---> 13\u001b[1;33m     \u001b[0mg\u001b[0m \u001b[1;33m=\u001b[0m \u001b[0mmath\u001b[0m\u001b[1;33m.\u001b[0m\u001b[0mexp\u001b[0m\u001b[1;33m(\u001b[0m\u001b[1;33m-\u001b[0m\u001b[0ma\u001b[0m\u001b[1;33m*\u001b[0m\u001b[0mt\u001b[0m\u001b[1;33m)\u001b[0m\u001b[1;33m\u001b[0m\u001b[0m\n\u001b[0m\u001b[0;32m     14\u001b[0m     \u001b[0mdgdt\u001b[0m \u001b[1;33m=\u001b[0m \u001b[1;33m-\u001b[0m\u001b[0ma\u001b[0m\u001b[1;33m*\u001b[0m\u001b[0mmath\u001b[0m\u001b[1;33m.\u001b[0m\u001b[0mexp\u001b[0m\u001b[1;33m(\u001b[0m\u001b[1;33m-\u001b[0m\u001b[0ma\u001b[0m\u001b[1;33m*\u001b[0m\u001b[0mt\u001b[0m\u001b[1;33m)\u001b[0m\u001b[1;33m\u001b[0m\u001b[0m\n\u001b[0;32m     15\u001b[0m     \u001b[1;32mreturn\u001b[0m \u001b[0mg\u001b[0m\u001b[1;33m,\u001b[0m \u001b[0mdgdt\u001b[0m\u001b[1;33m\u001b[0m\u001b[0m\n",
      "\u001b[1;31mTypeError\u001b[0m: only length-1 arrays can be converted to Python scalars"
     ]
    }
   ],
   "source": [
    "# Write a program\n",
    "# python function g(t) that evaluates and returns g and g'\n",
    "#a = global variable\n",
    "\n",
    "#Ex2 \n",
    "import math\n",
    "import matplotlib.pyplot as plt\n",
    "import numpy as np\n",
    "%matplotlib inline\n",
    "\n",
    "def g(t):\n",
    "    a = 2\n",
    "    g = math.exp(-a*t)\n",
    "    dgdt = -a*math.exp(-a*t)\n",
    "    return g, dgdt\n",
    "print g(1)\n",
    "\n",
    "# Ex 4 \n",
    "#make a plot\n",
    "#have t from 0 to 5/a\n",
    "#x axis, y axis and legend, save \n",
    "\n",
    "t = np.linspace(0, 5.0/float(a), 100)\n",
    "g, dgdt = g(t)   # have NEVER gotten this thing with two arguments to work\n",
    "\n",
    "plt.plot(t, g, t, dgdt)\n",
    "plt.xlabel('t')\n",
    "plt.ylabel('g', 'dgdt')\n",
    "plt.legend['g', 'dgdt']\n",
    "plt.savefig('plot.png')\n",
    "plt.show()\n"
   ]
  },
  {
   "cell_type": "code",
   "execution_count": null,
   "metadata": {
    "collapsed": true
   },
   "outputs": [],
   "source": []
  }
 ],
 "metadata": {
  "kernelspec": {
   "display_name": "Python 2",
   "language": "python",
   "name": "python2"
  },
  "language_info": {
   "codemirror_mode": {
    "name": "ipython",
    "version": 2
   },
   "file_extension": ".py",
   "mimetype": "text/x-python",
   "name": "python",
   "nbconvert_exporter": "python",
   "pygments_lexer": "ipython2",
   "version": "2.7.10"
  }
 },
 "nbformat": 4,
 "nbformat_minor": 0
}
